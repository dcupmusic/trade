{
 "cells": [
  {
   "cell_type": "code",
   "execution_count": 1,
   "metadata": {},
   "outputs": [],
   "source": [
    "# Remove Future Warnings\n",
    "import warnings\n",
    "warnings.simplefilter(action='ignore', category=FutureWarning)\n",
    "\n",
    "# General\n",
    "import numpy as np\n",
    "\n",
    "# Data Management\n",
    "import pandas as pd\n",
    "from sklearn.model_selection import train_test_split\n",
    "\n",
    "# Machine Learning\n",
    "from xgboost import XGBClassifier\n",
    "from sklearn.model_selection import RandomizedSearchCV, cross_val_score\n",
    "from sklearn.model_selection import RepeatedStratifiedKFold\n",
    "\n",
    "# Evaluation\n",
    "from sklearn.metrics import precision_score\n",
    "\n",
    "# Reporting\n",
    "import matplotlib.pyplot as plt\n",
    "\n",
    "# vectorbt\n",
    "import vectorbtpro as vbt\n",
    "vbt.settings.set_theme('dark')\n",
    "vbt.settings['plotting']['layout']['width'] = 600\n",
    "vbt.settings['plotting']['layout']['height'] = 300"
   ]
  },
  {
   "cell_type": "code",
   "execution_count": 2,
   "metadata": {},
   "outputs": [],
   "source": [
    "df = pd.read_csv('data/1ySOLdata1hAllHassInd.csv')\n",
    "df['timestamp'] = pd.to_datetime(df['timestamp'], unit='s')\n",
    "df.set_index('timestamp', inplace=True)\n",
    "pd.set_option('future.no_silent_downcasting', True)\n",
    "df.loc[:, 'signal'] = 'SignalNone'\n",
    "\n",
    "window_size = 10\n",
    "data_trimmed = df.copy()\n",
    "rolling_max = data_trimmed.loc[:,'price'].rolling(window=2*window_size+1, center=True, min_periods=1).max()\n",
    "rolling_min = data_trimmed.loc[:,'price'].rolling(window=2*window_size+1, center=True, min_periods=1).min()\n",
    "\n",
    "is_peak = (data_trimmed.loc[:, 'price'] == rolling_max)\n",
    "\n",
    "is_low = (data_trimmed.loc[:, 'price'] == rolling_min)\n",
    "\n",
    "# Update signal columns where conditions are met\n",
    "data_trimmed.loc[is_peak, 'signal'] = 'SignalShort'\n",
    "data_trimmed.loc[is_low, 'signal'] = 'SignalLong'\n",
    "df = data_trimmed.copy()\n",
    "\n",
    "df_filtered = df[df['signal'] != 'SignalNone']\n",
    "\n",
    "# Iterate through the DataFrame and adjust the signals\n",
    "for i in range(1, len(df_filtered)):\n",
    "    current_signal = df_filtered.iloc[i]['signal']\n",
    "    previous_signal = df_filtered.iloc[i - 1]['signal']\n",
    "    current_close = df_filtered.iloc[i]['price']\n",
    "    previous_close = df_filtered.iloc[i - 1]['price']\n",
    "\n",
    "    if current_signal == previous_signal:\n",
    "        if current_signal == 'SignalLong':\n",
    "            if previous_close > current_close:\n",
    "                df_filtered.iloc[i - 1, df_filtered.columns.get_loc('signal')] = 'SignalNone'\n",
    "            else:\n",
    "                df_filtered.iloc[i, df_filtered.columns.get_loc('signal')] = 'SignalNone'\n",
    "        elif current_signal == 'SignalShort':\n",
    "            if previous_close < current_close:\n",
    "                df_filtered.iloc[i - 1, df_filtered.columns.get_loc('signal')] = 'SignalNone'\n",
    "            else:\n",
    "                df_filtered.iloc[i, df_filtered.columns.get_loc('signal')] = 'SignalNone'\n",
    "\n",
    "\n",
    "df.update(df_filtered)\n",
    "\n",
    "\n",
    "df['signal'] = df['signal'].replace({'SignalLong': 2, 'SignalShort': 0, 'SignalNone': 1})\n",
    "df = df.ffill()\n"
   ]
  },
  {
   "cell_type": "code",
   "execution_count": 4,
   "metadata": {},
   "outputs": [],
   "source": [
    "data = vbt.Data.from_data(df)\n",
    "# features = data.run(\"talib\", mavp=vbt.run_arg_dict(periods=14))\n",
    "# data.data['symbol'] = pd.concat([data.data['symbol'], features], axis=1)\n",
    "data.data['symbol'].drop(['Open', 'High', 'Low'], axis=1, inplace=True)\n",
    "\n",
    "# This will drop columns from the DataFrame where all values are NaN\n",
    "# data.data['symbol'] = data.data['symbol'].dropna(axis=1, how='all')\n",
    "\n",
    "open_price = data.get('Open')\n",
    "high_price = data.get('High')\n",
    "low_price = data.get('Low')\n",
    "close_price = data.get('Close')\n",
    "\n",
    "data.data['symbol'] = data.data['symbol'].dropna()\n",
    "\n",
    "df_tts = data.copy()\n",
    "\n",
    "# df_tts.data['symbol']\n",
    "\n",
    "# df_tts.data['symbol'].drop(columns=[\"Close\"], inplace=True)\n",
    "# df_tts.data['symbol'].drop(columns=[\"Volume\"], inplace=True)\n",
    "\n",
    "\n",
    "\n",
    "predictor_list = data.data['symbol'].drop('signal', axis=1).columns.tolist()\n",
    "# predictor_list = [('midpoint', 'real'), ('stochf', 'fastk'), ('stochrsi', 'fastk'), ('willr', 'real'), ('wma', 'real')]\n",
    "\n",
    "\n",
    "X = df_tts.data['symbol'][predictor_list]\n",
    "y = df_tts.data['symbol']['signal']\n",
    "\n",
    "X.columns = X.columns.astype(str)"
   ]
  },
  {
   "cell_type": "code",
   "execution_count": 10,
   "metadata": {},
   "outputs": [],
   "source": [
    "from sklearn.model_selection import train_test_split\n",
    "X_train, X_test, y_train, y_test = train_test_split(X, y, test_size=0.4, random_state=42, shuffle=False)"
   ]
  },
  {
   "cell_type": "code",
   "execution_count": 18,
   "metadata": {},
   "outputs": [],
   "source": [
    "y_train = y_train.astype('int')\n",
    "y_test = y_test.astype('int')\n"
   ]
  },
  {
   "cell_type": "code",
   "execution_count": 19,
   "metadata": {},
   "outputs": [],
   "source": [
    "from sklearn.ensemble import RandomForestClassifier\n",
    "\n",
    "clf = RandomForestClassifier(random_state=42)\n"
   ]
  },
  {
   "cell_type": "code",
   "execution_count": 20,
   "metadata": {},
   "outputs": [],
   "source": [
    "from sklearn.feature_selection import RFECV\n",
    "from sklearn.model_selection import StratifiedKFold\n",
    "\n",
    "# Setup cross-validation method\n",
    "cv = StratifiedKFold(n_splits=5)\n",
    "\n",
    "# Initialize RFECV\n",
    "selector = RFECV(estimator=clf, step=1, cv=cv, scoring='accuracy')\n"
   ]
  },
  {
   "cell_type": "code",
   "execution_count": 21,
   "metadata": {},
   "outputs": [
    {
     "name": "stdout",
     "output_type": "stream",
     "text": [
      "Optimal number of features: 6\n"
     ]
    }
   ],
   "source": [
    "selector = selector.fit(X_train, y_train)\n",
    "\n",
    "print(\"Optimal number of features: %d\" % selector.n_features_)\n"
   ]
  }
 ],
 "metadata": {
  "kernelspec": {
   "display_name": "vectorbtpro",
   "language": "python",
   "name": "python3"
  },
  "language_info": {
   "codemirror_mode": {
    "name": "ipython",
    "version": 3
   },
   "file_extension": ".py",
   "mimetype": "text/x-python",
   "name": "python",
   "nbconvert_exporter": "python",
   "pygments_lexer": "ipython3",
   "version": "3.10.13"
  }
 },
 "nbformat": 4,
 "nbformat_minor": 2
}
