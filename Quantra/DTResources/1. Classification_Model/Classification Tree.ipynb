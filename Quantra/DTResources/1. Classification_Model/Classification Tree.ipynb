{
 "cells": [
  {
   "cell_type": "markdown",
   "id": "f1178c71-8e3a-45a0-8fac-4469c8789939",
   "metadata": {},
   "source": [
    "# Notebook Instructions\n",
    "\n",
    "1. If you are new to Jupyter notebooks, please go through this introductory manual <a href='https://quantra.quantinsti.com/quantra-notebook' target=\"_blank\">here</a>.\n",
    "1. Any changes made in this notebook would be lost after you close the browser window. **You can download the notebook to save your work on your PC.**\n",
    "1. Before running this notebook on your local PC:<br>\n",
    "i.  You need to set up a Python environment and the relevant packages on your local PC. To do so, go through the section on \"**Run Codes Locally on Your Machine**\" in the course.<br>\n",
    "ii. You need to **download the zip file available in the last unit** of this course. The zip file contains the data files and/or python modules that might be required to run this notebook."
   ]
  },
  {
   "cell_type": "markdown",
   "id": "61bd220a",
   "metadata": {
    "colab_type": "text",
    "id": "o1UttQuO3iWV"
   },
   "source": [
    "## Classification Tree\n",
    "\n",
    "A classification tree automatically selects important predictors and suggests trading rules. In this notebook, we will learn to create a classification tree model. The predictor variables are technical indicators like the Average Directional Index (ADX), Relative Strength Index (RSI), and Simple Moving Average (SMA). The target variable is one-day future return. The classification tree we create will help us build trading rules for when the future return is expected to be positive or negative.\n",
    "\n",
    "Create a classification tree\n",
    "\n",
    " 1. Import the data from a csv file \n",
    " 2. Create the predictor variables and the target variable\n",
    " 3. Split the data into train and test dataset\n",
    " 4. Fit a decision tree model on train data \n",
    " 5. Visualize the decision tree model\n",
    " 6. Make Predictions and evaluate the performance\n"
   ]
  },
  {
   "cell_type": "markdown",
   "id": "b74f9750",
   "metadata": {
    "colab_type": "text",
    "id": "85EuvuLv3iWW"
   },
   "source": [
    "## Import the data"
   ]
  },
  {
   "cell_type": "markdown",
   "id": "9962cf1f",
   "metadata": {
    "colab_type": "text",
    "id": "VByCPqIR3iWX"
   },
   "source": [
    "We will input raw data of Tesla Inc. stock from a CSV file. Predictor and target variables are created using this raw data. "
   ]
  },
  {
   "cell_type": "code",
   "execution_count": null,
   "id": "0d9cd095",
   "metadata": {
    "colab": {},
    "colab_type": "code",
    "id": "HS7JTKeN3iWY",
    "outputId": "3fc2ccaa-95fa-468d-d9d5-87100667ae40"
   },
   "outputs": [],
   "source": [
    "import pandas as pd\n",
    "import numpy as np\n",
    "import yfinance as yf\n",
    "\n",
    "# Import warnings\n",
    "import warnings\n",
    "warnings.filterwarnings('ignore')\n",
    "\n",
    "df = pd.read_csv('../data_modules/tesla_dt_2018_2023.csv')\n",
    "df.rename(columns = {'Open':'OPEN','High':'HIGH','Low':'LOW','Close':'CLOSE','Volume':'VOLUME'}, inplace = True)\n",
    "df.tail()"
   ]
  },
  {
   "cell_type": "markdown",
   "id": "01e0c401",
   "metadata": {
    "colab_type": "text",
    "id": "EkAI1e773iWd"
   },
   "source": [
    "## Define predictor variables and a target variable\n",
    "\n",
    "We define a list of predictors using the TA-Lib library for technical indicators from which the model will pick the best predictors. The predictors used are the Average Directional Index (ADX), Relative Strength Index (RSI), and Simple Moving Average (SMA).\n"
   ]
  },
  {
   "cell_type": "code",
   "execution_count": null,
   "id": "b7dbf774",
   "metadata": {
    "colab": {},
    "colab_type": "code",
    "id": "fMKGK4gB3iWe",
    "outputId": "7ed2a5ec-17c4-4c24-c87c-6f0f00fb7864"
   },
   "outputs": [],
   "source": [
    "# Import talib\n",
    "import talib as ta\n",
    "\n",
    "# Create the predictors\n",
    "df['ADX'] = ta.ADX(df['HIGH'].values, df['LOW'].values,\n",
    "                   df['CLOSE'].values, timeperiod=14)\n",
    "df['RSI'] = ta.RSI(df['CLOSE'].values, timeperiod=14)\n",
    "df['SMA'] = ta.SMA(df['CLOSE'].values, timeperiod=20)"
   ]
  },
  {
   "cell_type": "markdown",
   "id": "833f857b",
   "metadata": {
    "colab_type": "text",
    "id": "Rj40xWNl3iWh"
   },
   "source": [
    "The target variable is 1-day future returns. \n",
    "\n",
    "shift(periods=n) shifts the values by n period(s). If the value of n is negative then, it shifts the values backwards and vice-versa.\n",
    "\n",
    "We will classify the returns in two labels:  0 for negative returns and 1 for positive returns. Next, we drop the NaN values from the dataframe."
   ]
  },
  {
   "cell_type": "code",
   "execution_count": null,
   "id": "406567a7",
   "metadata": {
    "colab": {},
    "colab_type": "code",
    "id": "bSPvpCbh3iWi",
    "outputId": "33260bc0-6063-42c0-8a1e-1b244cd4ac29"
   },
   "outputs": [],
   "source": [
    "# Create target variable\n",
    "df['Return'] = df['CLOSE'].pct_change(1).shift(-1)\n",
    "df['target'] = np.where(df.Return > 0, 1, 0)\n",
    "df.tail()"
   ]
  },
  {
   "cell_type": "markdown",
   "id": "676e4879",
   "metadata": {
    "colab_type": "text",
    "id": "LmZYogk33iWl"
   },
   "source": [
    "We drop the NaN values and store the predictor variables in X and target variable in y."
   ]
  },
  {
   "cell_type": "code",
   "execution_count": null,
   "id": "f9cb2210",
   "metadata": {
    "colab": {},
    "colab_type": "code",
    "id": "z7YYDOro3iWl",
    "outputId": "989402c4-523f-45a6-cc22-fafc7150ef0b"
   },
   "outputs": [],
   "source": [
    "df = df.dropna()\n",
    "predictors_list = ['ADX', 'RSI', 'SMA']\n",
    "X = df[predictors_list]\n",
    "print(X.tail())\n",
    "\n",
    "y = df.target\n",
    "y.tail()"
   ]
  },
  {
   "cell_type": "markdown",
   "id": "af5d76d0",
   "metadata": {
    "colab_type": "text",
    "id": "R4aswdns3iWp"
   },
   "source": [
    "## Split the data into train and test dataset\n",
    "\n",
    "Before we build a decision tree model, we need to split the data set into train and test data. A decision tree model uses the train data to learn the properties of data and the test data to estimate the model’s accuracy of the predictions."
   ]
  },
  {
   "cell_type": "code",
   "execution_count": null,
   "id": "a6fd5bd8",
   "metadata": {
    "colab": {},
    "colab_type": "code",
    "id": "Kcpf4hak3iWq",
    "outputId": "daab593c-8083-482d-d459-30cefba0dc26"
   },
   "outputs": [],
   "source": [
    "split_percentage = 0.8\n",
    "split = int(split_percentage*len(X))\n",
    "# Train data set\n",
    "X_train = X[:split]\n",
    "y_train = y[:split]\n",
    "# Test data set\n",
    "X_test = X[split:]\n",
    "y_test = y[split:]\n",
    "\n",
    "print(X_train.shape, y_train.shape)\n",
    "print(X_test.shape, y_test.shape)"
   ]
  },
  {
   "cell_type": "markdown",
   "id": "2b7affc7",
   "metadata": {
    "colab_type": "text",
    "id": "lZoW7iQK3iWt"
   },
   "source": [
    "We have training data in the X_train and y_train for creating the classification tree model and a X_test and y_test to verify the model on unseen data."
   ]
  },
  {
   "cell_type": "markdown",
   "id": "0d9c738e",
   "metadata": {
    "colab_type": "text",
    "id": "wVqU44IJ3iWu"
   },
   "source": [
    "## Create classification tree model\n",
    "\n",
    "We have used DecisionTreeClassifier from sklearn.tree to create the classification tree model. We choose to set min_samples_leaf to 5, but you are free to experiment with other values and see what is optimal on the train dataset. "
   ]
  },
  {
   "cell_type": "code",
   "execution_count": null,
   "id": "8a040190",
   "metadata": {
    "colab": {},
    "colab_type": "code",
    "id": "lvN7XfLs3iWv",
    "outputId": "89c418b5-6186-4dc8-c8f5-0b34499d8108"
   },
   "outputs": [],
   "source": [
    "from sklearn.tree import DecisionTreeClassifier\n",
    "clf = DecisionTreeClassifier(criterion='gini', max_depth=3, min_samples_leaf=5)\n",
    "clf"
   ]
  },
  {
   "cell_type": "markdown",
   "id": "e01d5c30",
   "metadata": {
    "colab_type": "text",
    "id": "UNFmQxNK3iWy"
   },
   "source": [
    "We create the fit() method to train the classifier on the train dataset."
   ]
  },
  {
   "cell_type": "code",
   "execution_count": null,
   "id": "998ab9af",
   "metadata": {
    "colab": {},
    "colab_type": "code",
    "id": "MNSe5NSs3iWz"
   },
   "outputs": [],
   "source": [
    "clf = clf.fit(X_train, y_train)"
   ]
  },
  {
   "cell_type": "code",
   "execution_count": null,
   "id": "04621018",
   "metadata": {
    "colab": {},
    "colab_type": "code",
    "id": "c5OxU5wc3iW2"
   },
   "outputs": [],
   "source": [
    "# Uncomment below line to see details of DecisionTreeClassifier\n",
    "# help(DecisionTreeClassifier)"
   ]
  },
  {
   "cell_type": "markdown",
   "id": "b1ad197d",
   "metadata": {
    "colab_type": "text",
    "id": "lKWHdokS3iW5"
   },
   "source": [
    "## Visualize the model\n",
    "\n",
    "We now visualize the classification tree created in the step below using the graphviz and sklearn's tree package."
   ]
  },
  {
   "cell_type": "code",
   "execution_count": null,
   "id": "11398116",
   "metadata": {
    "colab": {},
    "colab_type": "code",
    "id": "k_TSQa9t3iW5",
    "outputId": "28d39864-5762-44b1-9ff3-ac165c3cef7d",
    "scrolled": true
   },
   "outputs": [],
   "source": [
    "from sklearn import tree\n",
    "import graphviz\n",
    "dot_data = tree.export_graphviz(\n",
    "    clf, out_file=None, filled=True, feature_names=predictors_list)\n",
    "graphviz.Source(dot_data)"
   ]
  },
  {
   "cell_type": "markdown",
   "id": "bbfab0d6",
   "metadata": {
    "colab_type": "text",
    "id": "g3nFjH1f3iW9"
   },
   "source": [
    "As can be seen in the tree, every node contains some information: \n",
    "    \n",
    " 1. ADX, RSI and SMA: the predictor variable used to split the data set\n",
    " 2. gini: the value of gini impurity \n",
    " 3. samples: the number of data points available at that node\n",
    " 4. value: the number of target variable data points belonging to class 0 and class 1. For example, value[0,6] indicates that 0 data points belongs to class 0 and 6 data points belong to class 1.\n",
    "\n",
    "A decision path following the below rule:\n",
    "\n",
    "1. RSI <= 55.868\n",
    "2. SMA <= 14.515\n",
    "3. SMA >= 13.956\n",
    "\n",
    "Leads to a pure node with 6 data points belonging to class 1, which can be used to define a long rule for a trading strategy.\n",
    "\n",
    "If in the test data or live trading this condition is met for a new data point, then the model will predict the next day return for the stock to be positive."
   ]
  },
  {
   "cell_type": "markdown",
   "id": "020fbbe3",
   "metadata": {
    "colab_type": "text",
    "id": "MbR1x6WH3iW-"
   },
   "source": [
    "## Make Predictions\n",
    "\n",
    "Once we have trained the decision tree classifier, we make predictions on the test data. To make predictions, the predict method of\n",
    "the DecisionTreeClassifier class is used."
   ]
  },
  {
   "cell_type": "code",
   "execution_count": null,
   "id": "d8c64907",
   "metadata": {
    "colab": {},
    "colab_type": "code",
    "id": "vffzSCYd3iW-"
   },
   "outputs": [],
   "source": [
    "y_pred = clf.predict(X_test)"
   ]
  },
  {
   "cell_type": "markdown",
   "id": "0f9e6a1a",
   "metadata": {
    "colab_type": "text",
    "id": "cWSgKlL13iXB"
   },
   "source": [
    "## Evaluate the Model Performance\n",
    "\n",
    "Scikit-learn provides performance report for classification problems. The report prints  measures like precision, recall, F1-score and support for each class. Precision and recall indicate the quality of our predictions. The f1-score gives the harmonic mean of precision and recall. The support values are used as weights to compute the average values of precision, recall and F-1.\n",
    "\n",
    "Anything above 0.5 is usually considered a good number. We have got an average recall of 0.55 which is good for this model."
   ]
  },
  {
   "cell_type": "code",
   "execution_count": null,
   "id": "522b9da8",
   "metadata": {
    "colab": {},
    "colab_type": "code",
    "id": "1BKLi6Sj3iXC",
    "outputId": "51ced8b9-1232-427d-8558-60e77036b47d"
   },
   "outputs": [],
   "source": [
    "from sklearn.metrics import classification_report\n",
    "report = classification_report(y_test, y_pred)\n",
    "print(report)"
   ]
  },
  {
   "cell_type": "code",
   "execution_count": null,
   "id": "4e57c093",
   "metadata": {},
   "outputs": [],
   "source": [
    "# Store the test dataset in new dataframe df_split\n",
    "df_split = df[split:]\n",
    "\n",
    "# Store the decision tree's predicted output to signal column of df_split dataframe\n",
    "df_split[\"signal\"] = y_pred\n",
    "\n",
    "# Calculate the strategy returns by multiplying the percentage change in the \"CLOSE\" column\n",
    "# with the lagged values of the \"signal\" column and assigns it to a new column \"Strategy returns\"\n",
    "df_split[\"Strategy returns\"] = df_split[\"CLOSE\"].pct_change() * \\\n",
    "    df_split[\"signal\"].shift(1)\n",
    "\n",
    "# Import the required matplotlib library for plotting and sets the style of the plots\n",
    "import matplotlib.pyplot as plt\n",
    "%matplotlib inline\n",
    "plt.style.use('seaborn-v0_8-darkgrid')\n",
    "\n",
    "# Plot the cumulative product of the strategy returns + 1 over time as a line plot\n",
    "# with the label 'Decision Tree' for the legend and sets the size of the figure to (15, 7)\n",
    "(df_split['Strategy returns'] +\n",
    " 1).cumprod().plot(label='Decision Tree', figsize=(10, 6))\n",
    "\n",
    "# Set the title of the plot to 'Out of Sample Performance' with a font size of 16\n",
    "plt.title('Out of Sample Performance', fontsize=16)\n",
    "\n",
    "# Set the labels for the x and y axes as 'Date' and 'Cumulative Returns' respectively\n",
    "# with font sizes of 14\n",
    "plt.xlabel('Date', fontsize=14)\n",
    "plt.ylabel('Cumulative Returns', fontsize=14)\n",
    "\n",
    "# Display the legend on the plot\n",
    "plt.legend()\n",
    "\n",
    "# Show the plot on the output screen\n",
    "plt.show()"
   ]
  },
  {
   "cell_type": "markdown",
   "id": "22667d40",
   "metadata": {
    "colab_type": "text",
    "id": "T15_HIKz3iXF"
   },
   "source": [
    "## Summary \n",
    "\n",
    "In this notebook, we saw how a decision tree model can be coded in Python to predict the next day stock returns. In the next section, we will learn to build a trading strategy using a regression tree model.<BR>"
   ]
  }
 ],
 "metadata": {
  "colab": {
   "collapsed_sections": [],
   "name": "Classification Tree Model.ipynb",
   "provenance": []
  },
  "kernelspec": {
   "display_name": "Python 3 (ipykernel)",
   "language": "python",
   "name": "python3"
  },
  "language_info": {
   "codemirror_mode": {
    "name": "ipython",
    "version": 3
   },
   "file_extension": ".py",
   "mimetype": "text/x-python",
   "name": "python",
   "nbconvert_exporter": "python",
   "pygments_lexer": "ipython3",
   "version": "3.11.5"
  }
 },
 "nbformat": 4,
 "nbformat_minor": 5
}
