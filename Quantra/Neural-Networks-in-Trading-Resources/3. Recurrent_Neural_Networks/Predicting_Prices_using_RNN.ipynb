{
 "cells": [
  {
   "cell_type": "markdown",
   "metadata": {},
   "source": [
    "# Notebook Instructions\n",
    "\n",
    "1. If you are new to Jupyter notebooks, please go through this introductory manual <a href='https://quantra.quantinsti.com/quantra-notebook' target=\"_blank\">here</a>.\n",
    "1. Any changes made in this notebook would be lost after you close the browser window. **You can download the notebook to save your work on your PC.**\n",
    "1. Before running this notebook on your local PC:<br>\n",
    "i.  You need to set up a Python environment and the relevant packages on your local PC. To do so, go through the section on \"**Run Codes Locally on Your Machine**\" in the course.<br>\n",
    "ii. You need to **download the zip file available in the last unit** of this course. The zip file contains the data files and/or python modules that might be required to run this notebook."
   ]
  },
  {
   "cell_type": "markdown",
   "metadata": {},
   "source": [
    "- <i>  <span style=\"color:#FFFF00; background:#00C000\"> <b> Please download the notebook available as downloads in the next unit. </b> It will not run in the browser.</i>\n",
    "- <i> <span style=\"color:#00C000\"> RNN models are very heavy and it is possible that your code will take time to run. Be patient and try again if required. Keep your CPU free of other burdens during the time of run! </i>"
   ]
  },
  {
   "cell_type": "markdown",
   "metadata": {},
   "source": [
    "### <span style=\"color:brown\">Data Pre- Processing</span>"
   ]
  },
  {
   "cell_type": "markdown",
   "metadata": {},
   "source": [
    "In this block of code, we have downloaded the data and scaled it, just as we did in the DNN model."
   ]
  },
  {
   "cell_type": "code",
   "execution_count": 1,
   "metadata": {},
   "outputs": [
    {
     "name": "stderr",
     "output_type": "stream",
     "text": [
      "C:\\Users\\varun\\anaconda3\\lib\\site-packages\\scipy\\__init__.py:146: UserWarning: A NumPy version >=1.16.5 and <1.23.0 is required for this version of SciPy (detected version 1.23.5\n",
      "  warnings.warn(f\"A NumPy version >={np_minversion} and <{np_maxversion}\"\n"
     ]
    }
   ],
   "source": [
    "import numpy as np\n",
    "import matplotlib.pyplot as plt\n",
    "from sklearn.preprocessing import MinMaxScaler\n",
    "import pandas as pd\n",
    "import warnings \n",
    "warnings.simplefilter(\"ignore\", UserWarning)"
   ]
  },
  {
   "cell_type": "code",
   "execution_count": 2,
   "metadata": {},
   "outputs": [],
   "source": [
    "data = pd.read_csv('../data_modules/SBIN.csv', index_col=0,\n",
    "                   parse_dates=True, na_values=0).dropna()"
   ]
  },
  {
   "cell_type": "markdown",
   "metadata": {},
   "source": [
    "### <span style=\"color:brown\"> Creating the input and target features"
   ]
  },
  {
   "cell_type": "markdown",
   "metadata": {},
   "source": [
    "Now, we will create a feature data set called  <font color =red>X</font> which will be used to create the input for the RNN model.<br> \n",
    "\n",
    "Next, we create a dataset called <font color =red>y</font> which will contain the future close values.<br>\n",
    "\n",
    "The model will train to predict the future close prices of these values."
   ]
  },
  {
   "cell_type": "code",
   "execution_count": 3,
   "metadata": {},
   "outputs": [],
   "source": [
    "X = data[['Open', 'High', 'Low', 'Close', 'Volume']]\n",
    "y = data.Last.shift(-1)"
   ]
  },
  {
   "cell_type": "code",
   "execution_count": 4,
   "metadata": {},
   "outputs": [],
   "source": [
    "# Divinding the data into train and test sets before scaling \n",
    "test_size = 60\n",
    "X_train = X[:-test_size]\n",
    "X_test = X[-test_size:]\n",
    "\n",
    "y_train = y[:-test_size]\n",
    "y_test = y[-test_size:]"
   ]
  },
  {
   "cell_type": "code",
   "execution_count": 5,
   "metadata": {},
   "outputs": [
    {
     "data": {
      "text/html": [
       "<div>\n",
       "<style scoped>\n",
       "    .dataframe tbody tr th:only-of-type {\n",
       "        vertical-align: middle;\n",
       "    }\n",
       "\n",
       "    .dataframe tbody tr th {\n",
       "        vertical-align: top;\n",
       "    }\n",
       "\n",
       "    .dataframe thead th {\n",
       "        text-align: right;\n",
       "    }\n",
       "</style>\n",
       "<table border=\"1\" class=\"dataframe\">\n",
       "  <thead>\n",
       "    <tr style=\"text-align: right;\">\n",
       "      <th></th>\n",
       "      <th>Open</th>\n",
       "      <th>High</th>\n",
       "      <th>Low</th>\n",
       "      <th>Close</th>\n",
       "      <th>Volume</th>\n",
       "    </tr>\n",
       "    <tr>\n",
       "      <th>Date</th>\n",
       "      <th></th>\n",
       "      <th></th>\n",
       "      <th></th>\n",
       "      <th></th>\n",
       "      <th></th>\n",
       "    </tr>\n",
       "  </thead>\n",
       "  <tbody>\n",
       "    <tr>\n",
       "      <th>2015-01-01 00:00:00+00:00</th>\n",
       "      <td>0.808668</td>\n",
       "      <td>0.821226</td>\n",
       "      <td>0.800049</td>\n",
       "      <td>0.816301</td>\n",
       "      <td>0.015643</td>\n",
       "    </tr>\n",
       "    <tr>\n",
       "      <th>2015-01-02 00:00:00+00:00</th>\n",
       "      <td>0.818025</td>\n",
       "      <td>0.837478</td>\n",
       "      <td>0.818025</td>\n",
       "      <td>0.822458</td>\n",
       "      <td>0.030211</td>\n",
       "    </tr>\n",
       "    <tr>\n",
       "      <th>2015-01-05 00:00:00+00:00</th>\n",
       "      <td>0.827382</td>\n",
       "      <td>0.830091</td>\n",
       "      <td>0.806944</td>\n",
       "      <td>0.810145</td>\n",
       "      <td>0.027147</td>\n",
       "    </tr>\n",
       "    <tr>\n",
       "      <th>2015-01-06 00:00:00+00:00</th>\n",
       "      <td>0.796602</td>\n",
       "      <td>0.802019</td>\n",
       "      <td>0.740951</td>\n",
       "      <td>0.746860</td>\n",
       "      <td>0.050909</td>\n",
       "    </tr>\n",
       "    <tr>\n",
       "      <th>2015-01-07 00:00:00+00:00</th>\n",
       "      <td>0.747353</td>\n",
       "      <td>0.759911</td>\n",
       "      <td>0.723467</td>\n",
       "      <td>0.748092</td>\n",
       "      <td>0.049825</td>\n",
       "    </tr>\n",
       "    <tr>\n",
       "      <th>...</th>\n",
       "      <td>...</td>\n",
       "      <td>...</td>\n",
       "      <td>...</td>\n",
       "      <td>...</td>\n",
       "      <td>...</td>\n",
       "    </tr>\n",
       "    <tr>\n",
       "      <th>2018-12-21 00:00:00+00:00</th>\n",
       "      <td>0.716080</td>\n",
       "      <td>0.730116</td>\n",
       "      <td>0.702044</td>\n",
       "      <td>0.707461</td>\n",
       "      <td>0.052628</td>\n",
       "    </tr>\n",
       "    <tr>\n",
       "      <th>2018-12-24 00:00:00+00:00</th>\n",
       "      <td>0.715341</td>\n",
       "      <td>0.722728</td>\n",
       "      <td>0.698843</td>\n",
       "      <td>0.713125</td>\n",
       "      <td>0.038322</td>\n",
       "    </tr>\n",
       "    <tr>\n",
       "      <th>2018-12-26 00:00:00+00:00</th>\n",
       "      <td>0.712140</td>\n",
       "      <td>0.722728</td>\n",
       "      <td>0.684068</td>\n",
       "      <td>0.718542</td>\n",
       "      <td>0.040760</td>\n",
       "    </tr>\n",
       "    <tr>\n",
       "      <th>2018-12-27 00:00:00+00:00</th>\n",
       "      <td>0.731101</td>\n",
       "      <td>0.735533</td>\n",
       "      <td>0.705491</td>\n",
       "      <td>0.708692</td>\n",
       "      <td>0.050814</td>\n",
       "    </tr>\n",
       "    <tr>\n",
       "      <th>2018-12-28 00:00:00+00:00</th>\n",
       "      <td>0.715834</td>\n",
       "      <td>0.733071</td>\n",
       "      <td>0.715587</td>\n",
       "      <td>0.721743</td>\n",
       "      <td>0.041497</td>\n",
       "    </tr>\n",
       "  </tbody>\n",
       "</table>\n",
       "<p>986 rows × 5 columns</p>\n",
       "</div>"
      ],
      "text/plain": [
       "                               Open      High       Low     Close    Volume\n",
       "Date                                                                       \n",
       "2015-01-01 00:00:00+00:00  0.808668  0.821226  0.800049  0.816301  0.015643\n",
       "2015-01-02 00:00:00+00:00  0.818025  0.837478  0.818025  0.822458  0.030211\n",
       "2015-01-05 00:00:00+00:00  0.827382  0.830091  0.806944  0.810145  0.027147\n",
       "2015-01-06 00:00:00+00:00  0.796602  0.802019  0.740951  0.746860  0.050909\n",
       "2015-01-07 00:00:00+00:00  0.747353  0.759911  0.723467  0.748092  0.049825\n",
       "...                             ...       ...       ...       ...       ...\n",
       "2018-12-21 00:00:00+00:00  0.716080  0.730116  0.702044  0.707461  0.052628\n",
       "2018-12-24 00:00:00+00:00  0.715341  0.722728  0.698843  0.713125  0.038322\n",
       "2018-12-26 00:00:00+00:00  0.712140  0.722728  0.684068  0.718542  0.040760\n",
       "2018-12-27 00:00:00+00:00  0.731101  0.735533  0.705491  0.708692  0.050814\n",
       "2018-12-28 00:00:00+00:00  0.715834  0.733071  0.715587  0.721743  0.041497\n",
       "\n",
       "[986 rows x 5 columns]"
      ]
     },
     "execution_count": 5,
     "metadata": {},
     "output_type": "execute_result"
    }
   ],
   "source": [
    "# Scaling the X_train and X_test datasets\n",
    "max_ = X_train[['Open', 'High', 'Low', 'Close']].max().max()\n",
    "min_ = X_train[['Open', 'High', 'Low', 'Close']].min().min()\n",
    "\n",
    "scl = MinMaxScaler()\n",
    "\n",
    "# Scaling X_train\n",
    "\n",
    "X1 = (X_train[['Open', 'High', 'Low', 'Close']]-min_)/(max_-min_)\n",
    "X2 = scl.fit_transform(X_train[['Volume']].values.reshape(-1, 1))\n",
    "X1 = np.array(X1)\n",
    "\n",
    "X_train= X_train.assign(Open=X1[:, 0])\n",
    "X_train= X_train.assign(High=X1[:, 1])\n",
    "X_train= X_train.assign(Low=X1[:, 2])\n",
    "X_train= X_train.assign(Close=X1[:, 3])\n",
    "X_train= X_train.assign(Volume=X2[:, 0])\n",
    "\n",
    "\n",
    "#Scaling X_test\n",
    "\n",
    "X1 = (X_test[['Open', 'High', 'Low', 'Close']]-min_)/(max_-min_)\n",
    "X2 = scl.transform(X_test[['Volume']].values.reshape(-1, 1))\n",
    "X1 = np.array(X1)\n",
    "\n",
    "X_test= X_test.assign(Open=X1[:, 0])\n",
    "X_test= X_test.assign(High=X1[:, 1])\n",
    "X_test= X_test.assign(Low=X1[:, 2])\n",
    "X_test= X_test.assign(Close=X1[:, 3])\n",
    "X_test= X_test.assign(Volume=X2[:, 0])\n",
    "\n",
    "# Creating scaled X i.e. X_scaled\n",
    "X_scaled = pd.concat([X_train,X_test], axis=0)\n",
    "X_scaled\n"
   ]
  },
  {
   "cell_type": "markdown",
   "metadata": {},
   "source": [
    "In this example, I have taken a timestep of 20 days to create the input data. By doing this, we will feed the past 20-days of data at every time step to the RNN. We can change the target data to predict the next 5 days, by changing the code to contain y_list.append(y.iloc[i:i+5]), then you can predict a sequence of 5 days data."
   ]
  },
  {
   "cell_type": "code",
   "execution_count": 6,
   "metadata": {},
   "outputs": [],
   "source": [
    "timestep = 20\n",
    "X_list = []\n",
    "y_list = []\n",
    "for i in range(timestep, len(X_scaled)):\n",
    "    X_list.append(np.array(X_scaled.iloc[i-timestep:i]))\n",
    "    y_list.append(y.iloc[i])"
   ]
  },
  {
   "cell_type": "code",
   "execution_count": 7,
   "metadata": {},
   "outputs": [],
   "source": [
    "X_train = np.array(X_list)[:-test_size]\n",
    "y_train = np.array(y_list)[:-test_size]\n",
    "X_test = np.array(X_list)[-test_size:]\n",
    "y_test = np.array(y_list)[-test_size:]"
   ]
  },
  {
   "cell_type": "code",
   "execution_count": 8,
   "metadata": {},
   "outputs": [
    {
     "data": {
      "text/plain": [
       "(906, 20, 5)"
      ]
     },
     "execution_count": 8,
     "metadata": {},
     "output_type": "execute_result"
    }
   ],
   "source": [
    "X_train.shape"
   ]
  },
  {
   "cell_type": "markdown",
   "metadata": {},
   "source": [
    "As, you can see the X_train dataset contains data with OHLCV (5 columns) data, with each of them containing the past 20 days of this data."
   ]
  },
  {
   "cell_type": "markdown",
   "metadata": {},
   "source": [
    "### <span style=\"color:brown\"> Creating an RNN model"
   ]
  },
  {
   "cell_type": "markdown",
   "metadata": {},
   "source": [
    "First, we import the necessary modules for the model from the keras library."
   ]
  },
  {
   "cell_type": "code",
   "execution_count": 9,
   "metadata": {},
   "outputs": [],
   "source": [
    "from tensorflow.keras import Sequential\n",
    "from tensorflow.keras.layers import Dropout, Dense, SimpleRNN\n",
    "from tensorflow.keras.callbacks import ModelCheckpoint"
   ]
  },
  {
   "cell_type": "markdown",
   "metadata": {},
   "source": [
    "In this model, I have added a dropout layer with a 50% drop ratio. That means that half of the neurons in the layer preceding it will be switched off while training. If you choose a model that is is not very deep then the chances of overfitting are very less and you may not need a dropout layer."
   ]
  },
  {
   "cell_type": "code",
   "execution_count": 10,
   "metadata": {},
   "outputs": [],
   "source": [
    "dropout_ratio = 0.5"
   ]
  },
  {
   "cell_type": "markdown",
   "metadata": {},
   "source": [
    "Let us begin to build the model, as you might recall the first layer will always be a sequential one. Followed by an RNN in this case, as we want to test a simple RNN model to check the accuracy.\n",
    "\n",
    "After this, I have added a few Dense layers (fully connected Neural Network) along with the dropout layers.\n",
    "\n",
    "As the depth of the model increases, the model's ability to create complex features also increases. But, this often results in overfitting."
   ]
  },
  {
   "cell_type": "code",
   "execution_count": 11,
   "metadata": {},
   "outputs": [],
   "source": [
    "model = Sequential()\n",
    "model.add(SimpleRNN(timestep, input_shape=(\n",
    "    X_train.shape[1], X_train.shape[2])))\n",
    "model.add(Dense(32))\n",
    "model.add(Dropout(dropout_ratio))\n",
    "model.add(Dense(64))\n",
    "model.add(Dropout(dropout_ratio))\n",
    "model.add(Dense(128))\n",
    "model.add(Dropout(dropout_ratio))\n",
    "model.add(Dense(256))\n",
    "model.add(Dropout(dropout_ratio))\n",
    "model.add(Dense(512))\n",
    "model.add(Dropout(dropout_ratio))\n",
    "model.add(Dense(1024))\n",
    "model.add(Dropout(dropout_ratio))\n",
    "model.add(Dense(2048))\n",
    "model.add(Dropout(dropout_ratio))\n",
    "model.add(Dense(1))\n",
    "model.compile(loss='mean_squared_error', optimizer='adam')"
   ]
  },
  {
   "cell_type": "markdown",
   "metadata": {},
   "source": [
    "### <span style=\"color:brown\"> Saving and loading the model"
   ]
  },
  {
   "cell_type": "markdown",
   "metadata": {},
   "source": [
    "I have specified the file path as RNN-weights-best.hdf5 to save the weights of the model.\n",
    "\n",
    "The verbose=1 parameter defines how much information about every batch training needs to be printed.\n",
    "\n",
    "#### We strongly encourage you to change all the parameters discussed above to create your own models and test them out.\n"
   ]
  },
  {
   "cell_type": "code",
   "execution_count": 12,
   "metadata": {},
   "outputs": [],
   "source": [
    "filepath = 'RNN-weights-best.hdf5'\n",
    "checkpoint = ModelCheckpoint(\n",
    "    filepath, monitor='val_loss', verbose=1, save_best_only=True, mode='auto')"
   ]
  },
  {
   "cell_type": "markdown",
   "metadata": {},
   "source": [
    "Now let us visualize our model."
   ]
  },
  {
   "cell_type": "code",
   "execution_count": 13,
   "metadata": {},
   "outputs": [
    {
     "name": "stdout",
     "output_type": "stream",
     "text": [
      "Model: \"sequential\"\n",
      "_________________________________________________________________\n",
      " Layer (type)                Output Shape              Param #   \n",
      "=================================================================\n",
      " simple_rnn (SimpleRNN)      (None, 20)                520       \n",
      "                                                                 \n",
      " dense (Dense)               (None, 32)                672       \n",
      "                                                                 \n",
      " dropout (Dropout)           (None, 32)                0         \n",
      "                                                                 \n",
      " dense_1 (Dense)             (None, 64)                2112      \n",
      "                                                                 \n",
      " dropout_1 (Dropout)         (None, 64)                0         \n",
      "                                                                 \n",
      " dense_2 (Dense)             (None, 128)               8320      \n",
      "                                                                 \n",
      " dropout_2 (Dropout)         (None, 128)               0         \n",
      "                                                                 \n",
      " dense_3 (Dense)             (None, 256)               33024     \n",
      "                                                                 \n",
      " dropout_3 (Dropout)         (None, 256)               0         \n",
      "                                                                 \n",
      " dense_4 (Dense)             (None, 512)               131584    \n",
      "                                                                 \n",
      " dropout_4 (Dropout)         (None, 512)               0         \n",
      "                                                                 \n",
      " dense_5 (Dense)             (None, 1024)              525312    \n",
      "                                                                 \n",
      " dropout_5 (Dropout)         (None, 1024)              0         \n",
      "                                                                 \n",
      " dense_6 (Dense)             (None, 2048)              2099200   \n",
      "                                                                 \n",
      " dropout_6 (Dropout)         (None, 2048)              0         \n",
      "                                                                 \n",
      " dense_7 (Dense)             (None, 1)                 2049      \n",
      "                                                                 \n",
      "=================================================================\n",
      "Total params: 2,802,793\n",
      "Trainable params: 2,802,793\n",
      "Non-trainable params: 0\n",
      "_________________________________________________________________\n"
     ]
    }
   ],
   "source": [
    "model.summary()"
   ]
  },
  {
   "cell_type": "markdown",
   "metadata": {},
   "source": [
    "Now, it's time to train the model.\n",
    "\n",
    "While training the model we have to specify the size of the batch, this indicates to the model how many train samples it should take in a single batch while training.\n",
    "\n",
    "The validation split randomly splits the train data to verify the performance of the model on untrained data.\n",
    "\n",
    "Epochs are the number of runs the model needs to make for the convergence of train and validation losses."
   ]
  },
  {
   "cell_type": "code",
   "execution_count": 14,
   "metadata": {
    "scrolled": true
   },
   "outputs": [
    {
     "name": "stdout",
     "output_type": "stream",
     "text": [
      "Epoch 1/100\n",
      "15/15 [==============================] - ETA: 0s - loss: 30987.7188\n",
      "Epoch 00001: val_loss improved from inf to 5575.39111, saving model to RNN-weights-best.hdf5\n",
      "15/15 [==============================] - 3s 96ms/step - loss: 30987.7188 - val_loss: 5575.3911\n",
      "Epoch 2/100\n",
      "15/15 [==============================] - ETA: 0s - loss: 11777.9756\n",
      "Epoch 00002: val_loss improved from 5575.39111 to 304.43411, saving model to RNN-weights-best.hdf5\n",
      "15/15 [==============================] - 1s 48ms/step - loss: 11777.9756 - val_loss: 304.4341\n",
      "Epoch 3/100\n",
      "15/15 [==============================] - ETA: 0s - loss: 9984.5039 \n",
      "Epoch 00003: val_loss did not improve from 304.43411\n",
      "15/15 [==============================] - 1s 64ms/step - loss: 9984.5039 - val_loss: 1254.2665\n",
      "Epoch 4/100\n",
      "15/15 [==============================] - ETA: 0s - loss: 8609.8760\n",
      "Epoch 00004: val_loss did not improve from 304.43411\n",
      "15/15 [==============================] - 1s 65ms/step - loss: 8609.8760 - val_loss: 1807.6110\n",
      "Epoch 5/100\n",
      "14/15 [===========================>..] - ETA: 0s - loss: 8603.0615\n",
      "Epoch 00005: val_loss did not improve from 304.43411\n",
      "15/15 [==============================] - 1s 68ms/step - loss: 8470.2734 - val_loss: 1749.3737\n",
      "Epoch 6/100\n",
      "14/15 [===========================>..] - ETA: 0s - loss: 7673.5713\n",
      "Epoch 00006: val_loss did not improve from 304.43411\n",
      "15/15 [==============================] - 1s 42ms/step - loss: 7648.8979 - val_loss: 2548.4985\n",
      "Epoch 7/100\n",
      "15/15 [==============================] - ETA: 0s - loss: 6019.6113\n",
      "Epoch 00007: val_loss improved from 304.43411 to 184.87215, saving model to RNN-weights-best.hdf5\n",
      "15/15 [==============================] - 1s 45ms/step - loss: 6019.6113 - val_loss: 184.8721\n",
      "Epoch 8/100\n",
      "15/15 [==============================] - ETA: 0s - loss: 6219.0898\n",
      "Epoch 00008: val_loss did not improve from 184.87215\n",
      "15/15 [==============================] - 1s 39ms/step - loss: 6219.0898 - val_loss: 667.1179\n",
      "Epoch 9/100\n",
      "15/15 [==============================] - ETA: 0s - loss: 5398.8003\n",
      "Epoch 00009: val_loss improved from 184.87215 to 107.63807, saving model to RNN-weights-best.hdf5\n",
      "15/15 [==============================] - 1s 41ms/step - loss: 5398.8003 - val_loss: 107.6381\n",
      "Epoch 10/100\n",
      "14/15 [===========================>..] - ETA: 0s - loss: 5436.6934\n",
      "Epoch 00010: val_loss did not improve from 107.63807\n",
      "15/15 [==============================] - 0s 30ms/step - loss: 5462.6611 - val_loss: 1074.4156\n",
      "Epoch 11/100\n",
      "15/15 [==============================] - ETA: 0s - loss: 4569.2676\n",
      "Epoch 00011: val_loss improved from 107.63807 to 106.64565, saving model to RNN-weights-best.hdf5\n",
      "15/15 [==============================] - 1s 35ms/step - loss: 4569.2676 - val_loss: 106.6456\n",
      "Epoch 12/100\n",
      "13/15 [=========================>....] - ETA: 0s - loss: 3976.8584\n",
      "Epoch 00012: val_loss did not improve from 106.64565\n",
      "15/15 [==============================] - 0s 29ms/step - loss: 3952.0156 - val_loss: 373.4705\n",
      "Epoch 13/100\n",
      "13/15 [=========================>....] - ETA: 0s - loss: 2906.3489\n",
      "Epoch 00013: val_loss did not improve from 106.64565\n",
      "15/15 [==============================] - 0s 29ms/step - loss: 2980.4683 - val_loss: 1613.2518\n",
      "Epoch 14/100\n",
      "15/15 [==============================] - ETA: 0s - loss: 2486.3311\n",
      "Epoch 00014: val_loss did not improve from 106.64565\n",
      "15/15 [==============================] - 1s 36ms/step - loss: 2486.3311 - val_loss: 339.1703\n",
      "Epoch 15/100\n",
      "15/15 [==============================] - ETA: 0s - loss: 2081.2920\n",
      "Epoch 00015: val_loss improved from 106.64565 to 103.59914, saving model to RNN-weights-best.hdf5\n",
      "15/15 [==============================] - 1s 45ms/step - loss: 2081.2920 - val_loss: 103.5991\n",
      "Epoch 16/100\n",
      "15/15 [==============================] - ETA: 0s - loss: 1600.8705\n",
      "Epoch 00016: val_loss did not improve from 103.59914\n",
      "15/15 [==============================] - 1s 36ms/step - loss: 1600.8705 - val_loss: 160.4417\n",
      "Epoch 17/100\n",
      "15/15 [==============================] - ETA: 0s - loss: 1396.6561\n",
      "Epoch 00017: val_loss did not improve from 103.59914\n",
      "15/15 [==============================] - 1s 48ms/step - loss: 1396.6561 - val_loss: 113.6572\n",
      "Epoch 18/100\n",
      "15/15 [==============================] - ETA: 0s - loss: 1543.0541\n",
      "Epoch 00018: val_loss did not improve from 103.59914\n",
      "15/15 [==============================] - 1s 39ms/step - loss: 1543.0541 - val_loss: 346.4318\n",
      "Epoch 19/100\n",
      "15/15 [==============================] - ETA: 0s - loss: 1315.9318\n",
      "Epoch 00019: val_loss did not improve from 103.59914\n",
      "15/15 [==============================] - 1s 42ms/step - loss: 1315.9318 - val_loss: 389.6623\n",
      "Epoch 20/100\n",
      "15/15 [==============================] - ETA: 0s - loss: 1183.0948\n",
      "Epoch 00020: val_loss did not improve from 103.59914\n",
      "15/15 [==============================] - 1s 37ms/step - loss: 1183.0948 - val_loss: 143.8825\n",
      "Epoch 21/100\n",
      "14/15 [===========================>..] - ETA: 0s - loss: 1175.3872\n",
      "Epoch 00021: val_loss did not improve from 103.59914\n",
      "15/15 [==============================] - 1s 37ms/step - loss: 1167.0823 - val_loss: 179.1955\n",
      "Epoch 22/100\n",
      "15/15 [==============================] - ETA: 0s - loss: 1072.8870\n",
      "Epoch 00022: val_loss did not improve from 103.59914\n",
      "15/15 [==============================] - 1s 37ms/step - loss: 1072.8870 - val_loss: 113.1895\n",
      "Epoch 23/100\n",
      "15/15 [==============================] - ETA: 0s - loss: 1146.6548\n",
      "Epoch 00023: val_loss did not improve from 103.59914\n",
      "15/15 [==============================] - 1s 42ms/step - loss: 1146.6548 - val_loss: 191.7213\n",
      "Epoch 24/100\n",
      "15/15 [==============================] - ETA: 0s - loss: 874.4411\n",
      "Epoch 00024: val_loss improved from 103.59914 to 103.22332, saving model to RNN-weights-best.hdf5\n",
      "15/15 [==============================] - 1s 40ms/step - loss: 874.4411 - val_loss: 103.2233\n",
      "Epoch 25/100\n",
      "15/15 [==============================] - ETA: 0s - loss: 1191.9355\n",
      "Epoch 00025: val_loss improved from 103.22332 to 99.93037, saving model to RNN-weights-best.hdf5\n",
      "15/15 [==============================] - 1s 45ms/step - loss: 1191.9355 - val_loss: 99.9304\n",
      "Epoch 26/100\n",
      "15/15 [==============================] - ETA: 0s - loss: 1147.3107\n",
      "Epoch 00026: val_loss did not improve from 99.93037\n",
      "15/15 [==============================] - 1s 37ms/step - loss: 1147.3107 - val_loss: 195.0670\n",
      "Epoch 27/100\n",
      "15/15 [==============================] - ETA: 0s - loss: 1104.6936\n",
      "Epoch 00027: val_loss did not improve from 99.93037\n",
      "15/15 [==============================] - 1s 38ms/step - loss: 1104.6936 - val_loss: 184.0989\n",
      "Epoch 28/100\n",
      "15/15 [==============================] - ETA: 0s - loss: 930.1226\n",
      "Epoch 00028: val_loss did not improve from 99.93037\n",
      "15/15 [==============================] - 1s 34ms/step - loss: 930.1226 - val_loss: 167.9995\n",
      "Epoch 29/100\n",
      "15/15 [==============================] - ETA: 0s - loss: 979.9053 \n",
      "Epoch 00029: val_loss improved from 99.93037 to 99.34421, saving model to RNN-weights-best.hdf5\n",
      "15/15 [==============================] - 1s 41ms/step - loss: 979.9053 - val_loss: 99.3442\n",
      "Epoch 30/100\n",
      "15/15 [==============================] - ETA: 0s - loss: 878.6973\n",
      "Epoch 00030: val_loss did not improve from 99.34421\n",
      "15/15 [==============================] - 1s 34ms/step - loss: 878.6973 - val_loss: 177.3639\n",
      "Epoch 31/100\n",
      "13/15 [=========================>....] - ETA: 0s - loss: 970.5775\n",
      "Epoch 00031: val_loss did not improve from 99.34421\n",
      "15/15 [==============================] - 0s 31ms/step - loss: 958.0115 - val_loss: 99.9467\n",
      "Epoch 32/100\n",
      "15/15 [==============================] - ETA: 0s - loss: 891.6938\n",
      "Epoch 00032: val_loss did not improve from 99.34421\n",
      "15/15 [==============================] - 1s 40ms/step - loss: 891.6938 - val_loss: 103.6535\n",
      "Epoch 33/100\n",
      "14/15 [===========================>..] - ETA: 0s - loss: 804.5529\n",
      "Epoch 00033: val_loss did not improve from 99.34421\n",
      "15/15 [==============================] - 1s 38ms/step - loss: 805.8529 - val_loss: 124.1726\n",
      "Epoch 34/100\n",
      "15/15 [==============================] - ETA: 0s - loss: 890.8903\n",
      "Epoch 00034: val_loss did not improve from 99.34421\n",
      "15/15 [==============================] - 1s 38ms/step - loss: 890.8903 - val_loss: 176.1355\n",
      "Epoch 35/100\n",
      "14/15 [===========================>..] - ETA: 0s - loss: 823.7724\n",
      "Epoch 00035: val_loss did not improve from 99.34421\n",
      "15/15 [==============================] - 1s 41ms/step - loss: 817.3602 - val_loss: 140.1383\n"
     ]
    },
    {
     "name": "stdout",
     "output_type": "stream",
     "text": [
      "Epoch 36/100\n",
      "15/15 [==============================] - ETA: 0s - loss: 764.1835\n",
      "Epoch 00036: val_loss did not improve from 99.34421\n",
      "15/15 [==============================] - 0s 33ms/step - loss: 764.1835 - val_loss: 183.2125\n",
      "Epoch 37/100\n",
      "15/15 [==============================] - ETA: 0s - loss: 806.8894\n",
      "Epoch 00037: val_loss improved from 99.34421 to 94.39890, saving model to RNN-weights-best.hdf5\n",
      "15/15 [==============================] - 1s 45ms/step - loss: 806.8894 - val_loss: 94.3989\n",
      "Epoch 38/100\n",
      "15/15 [==============================] - ETA: 0s - loss: 717.4424\n",
      "Epoch 00038: val_loss did not improve from 94.39890\n",
      "15/15 [==============================] - 1s 34ms/step - loss: 717.4424 - val_loss: 105.4799\n",
      "Epoch 39/100\n",
      "15/15 [==============================] - ETA: 0s - loss: 812.1299\n",
      "Epoch 00039: val_loss did not improve from 94.39890\n",
      "15/15 [==============================] - 1s 40ms/step - loss: 812.1299 - val_loss: 115.3290\n",
      "Epoch 40/100\n",
      "15/15 [==============================] - ETA: 0s - loss: 888.5654\n",
      "Epoch 00040: val_loss did not improve from 94.39890\n",
      "15/15 [==============================] - 1s 40ms/step - loss: 888.5654 - val_loss: 231.1912\n",
      "Epoch 41/100\n",
      "15/15 [==============================] - ETA: 0s - loss: 735.5729\n",
      "Epoch 00041: val_loss did not improve from 94.39890\n",
      "15/15 [==============================] - 1s 37ms/step - loss: 735.5729 - val_loss: 280.5001\n",
      "Epoch 42/100\n",
      "15/15 [==============================] - ETA: 0s - loss: 811.4641\n",
      "Epoch 00042: val_loss did not improve from 94.39890\n",
      "15/15 [==============================] - 1s 42ms/step - loss: 811.4641 - val_loss: 331.9826\n",
      "Epoch 43/100\n",
      "15/15 [==============================] - ETA: 0s - loss: 870.2296\n",
      "Epoch 00043: val_loss did not improve from 94.39890\n",
      "15/15 [==============================] - 1s 38ms/step - loss: 870.2296 - val_loss: 230.7960\n",
      "Epoch 44/100\n",
      "15/15 [==============================] - ETA: 0s - loss: 786.4847\n",
      "Epoch 00044: val_loss improved from 94.39890 to 78.53301, saving model to RNN-weights-best.hdf5\n",
      "15/15 [==============================] - 1s 46ms/step - loss: 786.4847 - val_loss: 78.5330\n",
      "Epoch 45/100\n",
      "15/15 [==============================] - ETA: 0s - loss: 773.6469\n",
      "Epoch 00045: val_loss did not improve from 78.53301\n",
      "15/15 [==============================] - 1s 40ms/step - loss: 773.6469 - val_loss: 248.9681\n",
      "Epoch 46/100\n",
      "15/15 [==============================] - ETA: 0s - loss: 829.2625\n",
      "Epoch 00046: val_loss did not improve from 78.53301\n",
      "15/15 [==============================] - 2s 143ms/step - loss: 829.2625 - val_loss: 113.2487\n",
      "Epoch 47/100\n",
      "14/15 [===========================>..] - ETA: 0s - loss: 715.9115\n",
      "Epoch 00047: val_loss did not improve from 78.53301\n",
      "15/15 [==============================] - 1s 80ms/step - loss: 714.3279 - val_loss: 187.0059\n",
      "Epoch 48/100\n",
      "14/15 [===========================>..] - ETA: 0s - loss: 656.5325\n",
      "Epoch 00048: val_loss did not improve from 78.53301\n",
      "15/15 [==============================] - 1s 52ms/step - loss: 661.5424 - val_loss: 100.2191\n",
      "Epoch 49/100\n",
      "14/15 [===========================>..] - ETA: 0s - loss: 724.6135\n",
      "Epoch 00049: val_loss did not improve from 78.53301\n",
      "15/15 [==============================] - 1s 54ms/step - loss: 739.8238 - val_loss: 317.3375\n",
      "Epoch 50/100\n",
      "15/15 [==============================] - ETA: 0s - loss: 670.6368\n",
      "Epoch 00050: val_loss did not improve from 78.53301\n",
      "15/15 [==============================] - 1s 46ms/step - loss: 670.6368 - val_loss: 195.8491\n",
      "Epoch 51/100\n",
      "15/15 [==============================] - ETA: 0s - loss: 725.0668\n",
      "Epoch 00051: val_loss did not improve from 78.53301\n",
      "15/15 [==============================] - 1s 47ms/step - loss: 725.0668 - val_loss: 364.6354\n",
      "Epoch 52/100\n",
      "15/15 [==============================] - ETA: 0s - loss: 651.2438\n",
      "Epoch 00052: val_loss did not improve from 78.53301\n",
      "15/15 [==============================] - 1s 39ms/step - loss: 651.2438 - val_loss: 108.5135\n",
      "Epoch 53/100\n",
      "15/15 [==============================] - ETA: 0s - loss: 715.5181\n",
      "Epoch 00053: val_loss did not improve from 78.53301\n",
      "15/15 [==============================] - 1s 36ms/step - loss: 715.5181 - val_loss: 98.3638\n",
      "Epoch 54/100\n",
      "15/15 [==============================] - ETA: 0s - loss: 624.5868\n",
      "Epoch 00054: val_loss did not improve from 78.53301\n",
      "15/15 [==============================] - 1s 35ms/step - loss: 624.5868 - val_loss: 466.5437\n",
      "Epoch 55/100\n",
      "13/15 [=========================>....] - ETA: 0s - loss: 756.3946\n",
      "Epoch 00055: val_loss did not improve from 78.53301\n",
      "15/15 [==============================] - 0s 32ms/step - loss: 759.3006 - val_loss: 88.7939\n",
      "Epoch 56/100\n",
      "14/15 [===========================>..] - ETA: 0s - loss: 670.6290\n",
      "Epoch 00056: val_loss did not improve from 78.53301\n",
      "15/15 [==============================] - 1s 41ms/step - loss: 664.7654 - val_loss: 98.7656\n",
      "Epoch 57/100\n",
      "15/15 [==============================] - ETA: 0s - loss: 701.4943\n",
      "Epoch 00057: val_loss did not improve from 78.53301\n",
      "15/15 [==============================] - 1s 51ms/step - loss: 701.4943 - val_loss: 259.4128\n",
      "Epoch 58/100\n",
      "15/15 [==============================] - ETA: 0s - loss: 630.3824\n",
      "Epoch 00058: val_loss did not improve from 78.53301\n",
      "15/15 [==============================] - 1s 53ms/step - loss: 630.3824 - val_loss: 253.7129\n",
      "Epoch 59/100\n",
      "15/15 [==============================] - ETA: 0s - loss: 660.9323\n",
      "Epoch 00059: val_loss improved from 78.53301 to 69.99268, saving model to RNN-weights-best.hdf5\n",
      "15/15 [==============================] - 1s 98ms/step - loss: 660.9323 - val_loss: 69.9927\n",
      "Epoch 60/100\n",
      "14/15 [===========================>..] - ETA: 0s - loss: 605.1722\n",
      "Epoch 00060: val_loss did not improve from 69.99268\n",
      "15/15 [==============================] - 1s 52ms/step - loss: 606.2115 - val_loss: 70.7185\n",
      "Epoch 61/100\n",
      "14/15 [===========================>..] - ETA: 0s - loss: 648.0663\n",
      "Epoch 00061: val_loss did not improve from 69.99268\n",
      "15/15 [==============================] - 1s 64ms/step - loss: 649.5298 - val_loss: 115.3156\n",
      "Epoch 62/100\n",
      "14/15 [===========================>..] - ETA: 0s - loss: 633.0707\n",
      "Epoch 00062: val_loss did not improve from 69.99268\n",
      "15/15 [==============================] - 1s 48ms/step - loss: 626.4364 - val_loss: 165.7797\n",
      "Epoch 63/100\n",
      "15/15 [==============================] - ETA: 0s - loss: 573.4077\n",
      "Epoch 00063: val_loss did not improve from 69.99268\n",
      "15/15 [==============================] - 1s 38ms/step - loss: 573.4077 - val_loss: 74.0588\n",
      "Epoch 64/100\n",
      "15/15 [==============================] - ETA: 0s - loss: 655.1249\n",
      "Epoch 00064: val_loss did not improve from 69.99268\n",
      "15/15 [==============================] - 1s 37ms/step - loss: 655.1249 - val_loss: 71.4884\n",
      "Epoch 65/100\n",
      "14/15 [===========================>..] - ETA: 0s - loss: 617.8661\n",
      "Epoch 00065: val_loss did not improve from 69.99268\n",
      "15/15 [==============================] - 1s 45ms/step - loss: 622.9528 - val_loss: 307.4199\n",
      "Epoch 66/100\n",
      "15/15 [==============================] - ETA: 0s - loss: 650.9449\n",
      "Epoch 00066: val_loss did not improve from 69.99268\n",
      "15/15 [==============================] - 1s 45ms/step - loss: 650.9449 - val_loss: 233.2196\n",
      "Epoch 67/100\n",
      "15/15 [==============================] - ETA: 0s - loss: 685.2729\n",
      "Epoch 00067: val_loss did not improve from 69.99268\n",
      "15/15 [==============================] - 1s 41ms/step - loss: 685.2729 - val_loss: 176.6932\n",
      "Epoch 68/100\n",
      "15/15 [==============================] - ETA: 0s - loss: 591.3942\n",
      "Epoch 00068: val_loss did not improve from 69.99268\n",
      "15/15 [==============================] - 1s 37ms/step - loss: 591.3942 - val_loss: 190.4709\n",
      "Epoch 69/100\n",
      "15/15 [==============================] - ETA: 0s - loss: 558.5123\n",
      "Epoch 00069: val_loss did not improve from 69.99268\n",
      "15/15 [==============================] - 1s 38ms/step - loss: 558.5123 - val_loss: 239.3262\n",
      "Epoch 70/100\n",
      "15/15 [==============================] - ETA: 0s - loss: 612.2688\n",
      "Epoch 00070: val_loss did not improve from 69.99268\n",
      "15/15 [==============================] - 1s 36ms/step - loss: 612.2688 - val_loss: 76.9640\n",
      "Epoch 71/100\n",
      "15/15 [==============================] - ETA: 0s - loss: 547.1940\n",
      "Epoch 00071: val_loss improved from 69.99268 to 68.83870, saving model to RNN-weights-best.hdf5\n",
      "15/15 [==============================] - 1s 42ms/step - loss: 547.1940 - val_loss: 68.8387\n"
     ]
    },
    {
     "name": "stdout",
     "output_type": "stream",
     "text": [
      "Epoch 72/100\n",
      "15/15 [==============================] - ETA: 0s - loss: 614.9459\n",
      "Epoch 00072: val_loss did not improve from 68.83870\n",
      "15/15 [==============================] - 1s 36ms/step - loss: 614.9459 - val_loss: 101.2225\n",
      "Epoch 73/100\n",
      "15/15 [==============================] - ETA: 0s - loss: 609.7711\n",
      "Epoch 00073: val_loss did not improve from 68.83870\n",
      "15/15 [==============================] - 1s 40ms/step - loss: 609.7711 - val_loss: 157.8616\n",
      "Epoch 74/100\n",
      "15/15 [==============================] - ETA: 0s - loss: 619.3524\n",
      "Epoch 00074: val_loss did not improve from 68.83870\n",
      "15/15 [==============================] - 0s 32ms/step - loss: 619.3524 - val_loss: 159.4989\n",
      "Epoch 75/100\n",
      "15/15 [==============================] - ETA: 0s - loss: 582.6038\n",
      "Epoch 00075: val_loss improved from 68.83870 to 67.54323, saving model to RNN-weights-best.hdf5\n",
      "15/15 [==============================] - 1s 38ms/step - loss: 582.6038 - val_loss: 67.5432\n",
      "Epoch 76/100\n",
      "13/15 [=========================>....] - ETA: 0s - loss: 546.7084\n",
      "Epoch 00076: val_loss did not improve from 67.54323\n",
      "15/15 [==============================] - 0s 30ms/step - loss: 540.5556 - val_loss: 89.1782\n",
      "Epoch 77/100\n",
      "13/15 [=========================>....] - ETA: 0s - loss: 569.5846\n",
      "Epoch 00077: val_loss did not improve from 67.54323\n",
      "15/15 [==============================] - 0s 30ms/step - loss: 581.7914 - val_loss: 72.2950\n",
      "Epoch 78/100\n",
      "15/15 [==============================] - ETA: 0s - loss: 593.7489\n",
      "Epoch 00078: val_loss improved from 67.54323 to 65.61613, saving model to RNN-weights-best.hdf5\n",
      "15/15 [==============================] - 1s 40ms/step - loss: 593.7489 - val_loss: 65.6161\n",
      "Epoch 79/100\n",
      "13/15 [=========================>....] - ETA: 0s - loss: 489.0300\n",
      "Epoch 00079: val_loss did not improve from 65.61613\n",
      "15/15 [==============================] - 0s 31ms/step - loss: 489.4471 - val_loss: 89.2618\n",
      "Epoch 80/100\n",
      "15/15 [==============================] - ETA: 0s - loss: 575.4698\n",
      "Epoch 00080: val_loss did not improve from 65.61613\n",
      "15/15 [==============================] - 0s 32ms/step - loss: 575.4698 - val_loss: 205.0093\n",
      "Epoch 81/100\n",
      "15/15 [==============================] - ETA: 0s - loss: 743.5676\n",
      "Epoch 00081: val_loss did not improve from 65.61613\n",
      "15/15 [==============================] - 1s 36ms/step - loss: 743.5676 - val_loss: 371.1615\n",
      "Epoch 82/100\n",
      "13/15 [=========================>....] - ETA: 0s - loss: 587.5308\n",
      "Epoch 00082: val_loss did not improve from 65.61613\n",
      "15/15 [==============================] - 0s 30ms/step - loss: 587.9686 - val_loss: 71.9307\n",
      "Epoch 83/100\n",
      "15/15 [==============================] - ETA: 0s - loss: 619.3303\n",
      "Epoch 00083: val_loss did not improve from 65.61613\n",
      "15/15 [==============================] - 1s 34ms/step - loss: 619.3303 - val_loss: 93.6170\n",
      "Epoch 84/100\n",
      "13/15 [=========================>....] - ETA: 0s - loss: 640.8923\n",
      "Epoch 00084: val_loss did not improve from 65.61613\n",
      "15/15 [==============================] - 0s 30ms/step - loss: 643.4593 - val_loss: 87.2959\n",
      "Epoch 85/100\n",
      "13/15 [=========================>....] - ETA: 0s - loss: 569.8290\n",
      "Epoch 00085: val_loss did not improve from 65.61613\n",
      "15/15 [==============================] - 0s 31ms/step - loss: 579.0594 - val_loss: 86.7304\n",
      "Epoch 86/100\n",
      "13/15 [=========================>....] - ETA: 0s - loss: 567.9179\n",
      "Epoch 00086: val_loss did not improve from 65.61613\n",
      "15/15 [==============================] - 0s 33ms/step - loss: 558.8480 - val_loss: 140.8601\n",
      "Epoch 87/100\n",
      "15/15 [==============================] - ETA: 0s - loss: 596.6892\n",
      "Epoch 00087: val_loss did not improve from 65.61613\n",
      "15/15 [==============================] - 0s 32ms/step - loss: 596.6892 - val_loss: 394.4282\n",
      "Epoch 88/100\n",
      "13/15 [=========================>....] - ETA: 0s - loss: 575.9016\n",
      "Epoch 00088: val_loss did not improve from 65.61613\n",
      "15/15 [==============================] - 0s 30ms/step - loss: 587.5329 - val_loss: 66.6116\n",
      "Epoch 89/100\n",
      "15/15 [==============================] - ETA: 0s - loss: 570.0004\n",
      "Epoch 00089: val_loss did not improve from 65.61613\n",
      "15/15 [==============================] - 1s 39ms/step - loss: 570.0004 - val_loss: 75.6389\n",
      "Epoch 90/100\n",
      "15/15 [==============================] - ETA: 0s - loss: 534.5701\n",
      "Epoch 00090: val_loss did not improve from 65.61613\n",
      "15/15 [==============================] - 1s 38ms/step - loss: 534.5701 - val_loss: 66.1013\n",
      "Epoch 91/100\n",
      "15/15 [==============================] - ETA: 0s - loss: 496.4689\n",
      "Epoch 00091: val_loss did not improve from 65.61613\n",
      "15/15 [==============================] - 1s 37ms/step - loss: 496.4689 - val_loss: 136.3847\n",
      "Epoch 92/100\n",
      "15/15 [==============================] - ETA: 0s - loss: 571.7911\n",
      "Epoch 00092: val_loss did not improve from 65.61613\n",
      "15/15 [==============================] - 0s 32ms/step - loss: 571.7911 - val_loss: 143.8506\n",
      "Epoch 93/100\n",
      "15/15 [==============================] - ETA: 0s - loss: 546.8087\n",
      "Epoch 00093: val_loss did not improve from 65.61613\n",
      "15/15 [==============================] - 0s 33ms/step - loss: 546.8087 - val_loss: 78.9358\n",
      "Epoch 94/100\n",
      "15/15 [==============================] - ETA: 0s - loss: 492.0536\n",
      "Epoch 00094: val_loss did not improve from 65.61613\n",
      "15/15 [==============================] - 1s 34ms/step - loss: 492.0536 - val_loss: 98.8154\n",
      "Epoch 95/100\n",
      "13/15 [=========================>....] - ETA: 0s - loss: 580.6979\n",
      "Epoch 00095: val_loss did not improve from 65.61613\n",
      "15/15 [==============================] - 0s 30ms/step - loss: 575.3388 - val_loss: 117.1872\n",
      "Epoch 96/100\n",
      "15/15 [==============================] - ETA: 0s - loss: 552.5000\n",
      "Epoch 00096: val_loss did not improve from 65.61613\n",
      "15/15 [==============================] - 0s 34ms/step - loss: 552.5000 - val_loss: 133.5080\n",
      "Epoch 97/100\n",
      "15/15 [==============================] - ETA: 0s - loss: 522.7991\n",
      "Epoch 00097: val_loss did not improve from 65.61613\n",
      "15/15 [==============================] - 0s 33ms/step - loss: 522.7991 - val_loss: 196.5459\n",
      "Epoch 98/100\n",
      "13/15 [=========================>....] - ETA: 0s - loss: 638.9409\n",
      "Epoch 00098: val_loss did not improve from 65.61613\n",
      "15/15 [==============================] - 1s 36ms/step - loss: 628.9471 - val_loss: 172.5273\n",
      "Epoch 99/100\n",
      "15/15 [==============================] - ETA: 0s - loss: 504.6715\n",
      "Epoch 00099: val_loss did not improve from 65.61613\n",
      "15/15 [==============================] - 1s 36ms/step - loss: 504.6715 - val_loss: 141.9572\n",
      "Epoch 100/100\n",
      "15/15 [==============================] - ETA: 0s - loss: 553.1198\n",
      "Epoch 00100: val_loss did not improve from 65.61613\n",
      "15/15 [==============================] - 0s 31ms/step - loss: 553.1198 - val_loss: 219.9146\n"
     ]
    },
    {
     "data": {
      "text/plain": [
       "<keras.callbacks.History at 0x1b2b262cf70>"
      ]
     },
     "execution_count": 14,
     "metadata": {},
     "output_type": "execute_result"
    }
   ],
   "source": [
    "model.fit(X_train, y_train, epochs=100, batch_size=50, verbose=1,\n",
    "          validation_split=0.2, callbacks=[checkpoint])"
   ]
  },
  {
   "cell_type": "markdown",
   "metadata": {},
   "source": [
    "Once we have generated the best weights and saved them using the callback feature, we would want our final model to have these best weights fitted before making the predictions on the test data. So, we load these weights using the load_weights function."
   ]
  },
  {
   "cell_type": "code",
   "execution_count": 15,
   "metadata": {},
   "outputs": [],
   "source": [
    "model.load_weights(\"RNN-weights-best.hdf5\")"
   ]
  },
  {
   "cell_type": "markdown",
   "metadata": {},
   "source": [
    "### <span style=\"color:brown\"> Predicting the Close Prices"
   ]
  },
  {
   "cell_type": "markdown",
   "metadata": {},
   "source": [
    "Now, we will create a list that would hold the RNN model's predictions on the test data.\n",
    "\n",
    "After this, we create a dataframe called performance that contains the actual close values and the predicted close values to analyze the predictions.\n",
    "\n",
    "We reshape the predictions to a single column vector to match the shape of the actual y_test column vector. We need to do this, to pass these two vectors as inputs to the dataframe called performance."
   ]
  },
  {
   "cell_type": "code",
   "execution_count": 16,
   "metadata": {
    "scrolled": false
   },
   "outputs": [],
   "source": [
    "predict_close = []\n",
    "predict_close = np.reshape(model.predict(X_test), (1, -1))"
   ]
  },
  {
   "cell_type": "code",
   "execution_count": 17,
   "metadata": {},
   "outputs": [],
   "source": [
    "predict_close = predict_close[0]"
   ]
  },
  {
   "cell_type": "code",
   "execution_count": 18,
   "metadata": {},
   "outputs": [],
   "source": [
    "performance = pd.DataFrame([predict_close, y_test])"
   ]
  },
  {
   "cell_type": "code",
   "execution_count": 19,
   "metadata": {},
   "outputs": [],
   "source": [
    "# Since the two vectors are added as rows, we take the transpose of the dataframe to create the appropriate columns.\n",
    "performance = performance.T"
   ]
  },
  {
   "cell_type": "code",
   "execution_count": 20,
   "metadata": {},
   "outputs": [
    {
     "data": {
      "text/html": [
       "<div>\n",
       "<style scoped>\n",
       "    .dataframe tbody tr th:only-of-type {\n",
       "        vertical-align: middle;\n",
       "    }\n",
       "\n",
       "    .dataframe tbody tr th {\n",
       "        vertical-align: top;\n",
       "    }\n",
       "\n",
       "    .dataframe thead th {\n",
       "        text-align: right;\n",
       "    }\n",
       "</style>\n",
       "<table border=\"1\" class=\"dataframe\">\n",
       "  <thead>\n",
       "    <tr style=\"text-align: right;\">\n",
       "      <th></th>\n",
       "      <th>Predicted</th>\n",
       "      <th>Actual</th>\n",
       "    </tr>\n",
       "  </thead>\n",
       "  <tbody>\n",
       "    <tr>\n",
       "      <th>0</th>\n",
       "      <td>268.856018</td>\n",
       "      <td>271.70</td>\n",
       "    </tr>\n",
       "    <tr>\n",
       "      <th>1</th>\n",
       "      <td>271.076294</td>\n",
       "      <td>271.35</td>\n",
       "    </tr>\n",
       "    <tr>\n",
       "      <th>2</th>\n",
       "      <td>275.283661</td>\n",
       "      <td>258.35</td>\n",
       "    </tr>\n",
       "    <tr>\n",
       "      <th>3</th>\n",
       "      <td>269.249542</td>\n",
       "      <td>265.75</td>\n",
       "    </tr>\n",
       "    <tr>\n",
       "      <th>4</th>\n",
       "      <td>262.327148</td>\n",
       "      <td>262.95</td>\n",
       "    </tr>\n",
       "  </tbody>\n",
       "</table>\n",
       "</div>"
      ],
      "text/plain": [
       "    Predicted  Actual\n",
       "0  268.856018  271.70\n",
       "1  271.076294  271.35\n",
       "2  275.283661  258.35\n",
       "3  269.249542  265.75\n",
       "4  262.327148  262.95"
      ]
     },
     "execution_count": 20,
     "metadata": {},
     "output_type": "execute_result"
    }
   ],
   "source": [
    "performance.columns = ['Predicted', 'Actual']\n",
    "Spread = performance.Actual-performance.Predicted\n",
    "performance.head()"
   ]
  },
  {
   "cell_type": "markdown",
   "metadata": {},
   "source": [
    "### <span style=\"color:brown\"> Visualizing and comparing the performance"
   ]
  },
  {
   "cell_type": "markdown",
   "metadata": {},
   "source": [
    "Now, let us plot the predicted and actual values of the close prices."
   ]
  },
  {
   "cell_type": "code",
   "execution_count": 21,
   "metadata": {
    "scrolled": false
   },
   "outputs": [
    {
     "data": {
      "image/png": "[encoded data removed]",
      "text/plain": [
       "<Figure size 720x504 with 1 Axes>"
      ]
     },
     "metadata": {
      "needs_background": "light"
     },
     "output_type": "display_data"
    }
   ],
   "source": [
    "plt.figure(figsize=(10, 7))\n",
    "plt.title(\"Comparison of Actual and Predicted Close Price\")\n",
    "plt.xlabel('Day')\n",
    "plt.ylabel('Close Price')\n",
    "plt.plot(predict_close, c='y')\n",
    "plt.plot(y_test.tolist(), c='b')\n",
    "plt.legend(['Predicted_Close', 'Actual_Close'])\n",
    "plt.show()"
   ]
  },
  {
   "cell_type": "markdown",
   "metadata": {},
   "source": [
    "### <span style=\"color:brown\"> Conclusion"
   ]
  },
  {
   "cell_type": "markdown",
   "metadata": {},
   "source": [
    "As you can see the model makes a prediction that looks lagging in nature. To make the algorithm more accurate we will have to optimize the various hyperparameters used in the model. \n",
    "\n",
    "We will look at how to tune these hyperparameters using GridSearch in the next section."
   ]
  }
 ],
 "metadata": {
  "anaconda-cloud": {},
  "kernelspec": {
   "display_name": "Python 3",
   "language": "python",
   "name": "python3"
  },
  "language_info": {
   "codemirror_mode": {
    "name": "ipython",
    "version": 3
   },
   "file_extension": ".py",
   "mimetype": "text/x-python",
   "name": "python",
   "nbconvert_exporter": "python",
   "pygments_lexer": "ipython3",
   "version": "3.8.8"
  }
 },
 "nbformat": 4,
 "nbformat_minor": 1
}
