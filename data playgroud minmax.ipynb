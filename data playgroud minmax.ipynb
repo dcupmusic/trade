{
 "cells": [
  {
   "cell_type": "code",
   "execution_count": 1,
   "metadata": {},
   "outputs": [],
   "source": [
    "import numpy as np\n",
    "import pandas as pd \n",
    "from pylab import mpl, plt\n",
    "import random\n",
    "import optuna\n",
    "import os\n",
    "os.environ['PYTORCH_MPS_HIGH_WATERMARK_RATIO'] = '0.0'\n",
    "\n",
    "import torch\n",
    "import torch.nn as nn\n",
    "import torch.optim as optim\n",
    "import torch.nn.functional as F\n",
    "torch.set_num_threads(1)\n",
    "\n",
    "\n",
    "from sklearn.model_selection import train_test_split\n",
    "from sklearn.preprocessing import MinMaxScaler\n",
    "from sklearn.utils.class_weight import compute_class_weight\n",
    "from sklearn.metrics import precision_score, recall_score, f1_score, accuracy_score, roc_auc_score\n",
    "\n",
    "import matplotlib.pyplot as plt\n",
    "plt.style.use('seaborn-v0_8-darkgrid')\n",
    "mpl.rcParams['font.family'] = 'serif'\n",
    "%matplotlib inline\n",
    "\n",
    "import warnings\n",
    "warnings.simplefilter(\"ignore\", UserWarning)\n",
    "\n",
    "import vectorbtpro as vbt\n",
    "\n",
    "\n",
    "from plotly.subplots import make_subplots\n",
    "import plotly.graph_objects as go\n",
    "from collections import deque\n",
    "\n",
    "vbt.settings.set_theme('dark')\n",
    "vbt.settings['plotting']['layout']['width'] = 800\n",
    "vbt.settings['plotting']['layout']['height'] = 400\n"
   ]
  },
  {
   "cell_type": "code",
   "execution_count": 2,
   "metadata": {},
   "outputs": [],
   "source": [
    "df_sol = pd.read_csv('2ySOLdata1h.csv')\n",
    "df_sol['timestamp'] = pd.to_datetime(df_sol['timestamp'], unit='s')\n",
    "df_sol.set_index('timestamp', inplace=True)\n",
    "pd.set_option('future.no_silent_downcasting', True)"
   ]
  },
  {
   "cell_type": "code",
   "execution_count": 3,
   "metadata": {},
   "outputs": [],
   "source": [
    "div = 8\n",
    "data = df_sol.iloc[:, 3:4].copy()\n",
    "data_trimmed = data[-80:].copy()"
   ]
  },
  {
   "cell_type": "code",
   "execution_count": 4,
   "metadata": {},
   "outputs": [],
   "source": [
    "pd.set_option('future.no_silent_downcasting', True)\n",
    "data_trimmed.loc[:, 'signal'] = 'SignalNone'\n",
    "# Define window size\n",
    "window_size = 10\n",
    "\n",
    "rolling_max = data_trimmed.loc[:,'Close'].rolling(window=2*window_size+1, center=True, min_periods=1).max()\n",
    "rolling_min = data_trimmed.loc[:,'Close'].rolling(window=2*window_size+1, center=True, min_periods=1).min()\n",
    "\n",
    "is_peak = (data_trimmed.loc[:, 'Close'] == rolling_max)\n",
    "\n",
    "is_low = (data_trimmed.loc[:, 'Close'] == rolling_min) \n",
    "\n",
    "# Update signal columns where conditions are met\n",
    "data_trimmed.loc[is_peak, 'signal'] = 'SignalShort'  # Mark peaks with SignalShort\n",
    "data_trimmed.loc[is_low, 'signal'] = 'SignalLong'   # Mark lows with SignalLong\n",
    "df = data_trimmed.copy()"
   ]
  },
  {
   "cell_type": "code",
   "execution_count": 5,
   "metadata": {},
   "outputs": [],
   "source": [
    "df_filtered = df[df['signal'] != 'SignalNone'].copy()\n",
    "\n",
    "# Iterate through the DataFrame and adjust the signals\n",
    "for i in range(1, len(df_filtered)):\n",
    "    current_signal = df_filtered.iloc[i]['signal']\n",
    "    previous_signal = df_filtered.iloc[i - 1]['signal']\n",
    "    current_close = df_filtered.iloc[i]['Close']\n",
    "    previous_close = df_filtered.iloc[i - 1]['Close']\n",
    "    \n",
    "    if current_signal == previous_signal:\n",
    "        if current_signal == 'SignalLong' and previous_close > current_close:\n",
    "            df_filtered.iloc[i - 1, df_filtered.columns.get_loc('signal')] = 'SignalNone'\n",
    "        elif current_signal != 'SignalLong' and previous_close < current_close:\n",
    "            df_filtered.iloc[i - 1, df_filtered.columns.get_loc('signal')] = 'SignalNone'\n",
    "        else:\n",
    "            df_filtered.iloc[i, df_filtered.columns.get_loc('signal')] = 'SignalNone'\n",
    "\n",
    "\n",
    "df.update(df_filtered)\n",
    "\n",
    "\n",
    "# # Making binary... comment out if not desired\n",
    "# previous_signal = None  # Initialize a variable to keep track of the previous non-\"SignalNone\" value\n",
    "\n",
    "# for i in range(len(df)):\n",
    "#     if df.iloc[i, df_filtered.columns.get_loc('signal')] == \"SignalNone\" and previous_signal is not None:\n",
    "#         df.iloc[i, df_filtered.columns.get_loc('signal')] = previous_signal  # Replace \"SignalNone\" with the previous signal\n",
    "#     elif df.iloc[i, df_filtered.columns.get_loc('signal')] != \"SignalNone\":\n",
    "#         previous_signal = df.iloc[i, df_filtered.columns.get_loc('signal')]  # Update the previous signal to the current one if it's not \"SignalNone\"\n",
    "\n",
    "# df = df.loc[df['signal'] != 'SignalNone']\n",
    "# # end of binary\n",
    "\n",
    "df.loc[:,'signal'] = df.loc[:,'signal'].replace({'SignalLong': 2, 'SignalShort': 0, 'SignalNone': 1})\n",
    "df = df.ffill()"
   ]
  },
  {
   "cell_type": "code",
   "execution_count": 6,
   "metadata": {},
   "outputs": [],
   "source": [
    "df['signal'] = df['signal'].astype(float)\n",
    "long_signals = df['signal'] == 2\n",
    "short_signals = df['signal'] == 0"
   ]
  },
  {
   "cell_type": "code",
   "execution_count": 7,
   "metadata": {},
   "outputs": [],
   "source": [
    "scaler = MinMaxScaler(feature_range=(0, 2))\n",
    "for idx in df.index[:-1]:\n",
    "    if short_signals.loc[idx]:\n",
    "        short_index = idx\n",
    "        next_long_idx = df.loc[idx:].index[long_signals[idx:]].min()\n",
    "        bear_slice = df.loc[short_index : next_long_idx].copy()\n",
    "        bear_slice['signal'] = bear_slice['Close']\n",
    "        signal_values = bear_slice['signal'].values.reshape(-1, 1)\n",
    "        scaled_signal_values = scaler.fit_transform(signal_values)\n",
    "        scaled_signal_values_transformed = 2 - (scaled_signal_values)\n",
    "        bear_slice['signal'] = scaled_signal_values_transformed.flatten()\n",
    "        df.update(bear_slice)\n",
    "    elif long_signals.loc[idx]:\n",
    "        long_index = idx\n",
    "        next_short_idx = df.loc[idx:].index[short_signals[idx:]].min()\n",
    "        bull_slice = df.loc[long_index : next_short_idx].copy()\n",
    "        bull_slice['signal'] = bull_slice['Close']\n",
    "        signal_values = bull_slice['signal'].values.reshape(-1, 1)\n",
    "        scaled_signal_values = scaler.fit_transform(signal_values)\n",
    "        scaled_signal_values_transformed = 2 - (scaled_signal_values)\n",
    "        bull_slice['signal'] = scaled_signal_values_transformed.flatten()\n",
    "        df.update(bull_slice)\n"
   ]
  },
  {
   "cell_type": "code",
   "execution_count": 8,
   "metadata": {},
   "outputs": [
    {
     "data": {
      "application/vnd.plotly.v1+json": {
       "config": {
        "plotlyServerURL": "https://plot.ly"
       },
       "data": [
        {
         "legendgroup": "0",
         "line": {
          "color": "#1f77b4"
         },
         "mode": "lines",
         "name": "Close",
         "showlegend": true,
         "type": "scatter",
         "uid": "4197a0e0-16a1-4eb1-8bd1-221df1b73285",
         "x": [
          "2023-12-27T23:00:00",
          "2023-12-28T00:00:00",
          "2023-12-28T01:00:00",
          "2023-12-28T02:00:00",
          "2023-12-28T03:00:00",
          "2023-12-28T04:00:00",
          "2023-12-28T05:00:00",
          "2023-12-28T06:00:00",
          "2023-12-28T07:00:00",
          "2023-12-28T08:00:00",
          "2023-12-28T09:00:00",
          "2023-12-28T10:00:00",
          "2023-12-28T11:00:00",
          "2023-12-28T12:00:00",
          "2023-12-28T13:00:00",
          "2023-12-28T14:00:00",
          "2023-12-28T15:00:00",
          "2023-12-28T16:00:00",
          "2023-12-28T17:00:00",
          "2023-12-28T18:00:00",
          "2023-12-28T19:00:00",
          "2023-12-28T20:00:00",
          "2023-12-28T21:00:00",
          "2023-12-28T22:00:00",
          "2023-12-28T23:00:00",
          "2023-12-29T00:00:00",
          "2023-12-29T01:00:00",
          "2023-12-29T02:00:00",
          "2023-12-29T03:00:00",
          "2023-12-29T04:00:00",
          "2023-12-29T05:00:00",
          "2023-12-29T06:00:00",
          "2023-12-29T07:00:00",
          "2023-12-29T08:00:00",
          "2023-12-29T09:00:00",
          "2023-12-29T10:00:00",
          "2023-12-29T11:00:00",
          "2023-12-29T12:00:00",
          "2023-12-29T13:00:00",
          "2023-12-29T14:00:00",
          "2023-12-29T15:00:00",
          "2023-12-29T16:00:00",
          "2023-12-29T17:00:00",
          "2023-12-29T18:00:00",
          "2023-12-29T19:00:00",
          "2023-12-29T20:00:00",
          "2023-12-29T21:00:00",
          "2023-12-29T22:00:00",
          "2023-12-29T23:00:00",
          "2023-12-30T00:00:00",
          "2023-12-30T01:00:00",
          "2023-12-30T02:00:00",
          "2023-12-30T03:00:00",
          "2023-12-30T04:00:00",
          "2023-12-30T05:00:00",
          "2023-12-30T06:00:00",
          "2023-12-30T07:00:00",
          "2023-12-30T08:00:00",
          "2023-12-30T09:00:00",
          "2023-12-30T10:00:00",
          "2023-12-30T11:00:00",
          "2023-12-30T12:00:00",
          "2023-12-30T13:00:00",
          "2023-12-30T14:00:00",
          "2023-12-30T15:00:00",
          "2023-12-30T16:00:00",
          "2023-12-30T17:00:00",
          "2023-12-30T18:00:00",
          "2023-12-30T19:00:00",
          "2023-12-30T20:00:00",
          "2023-12-30T21:00:00",
          "2023-12-30T22:00:00",
          "2023-12-30T23:00:00",
          "2023-12-31T00:00:00",
          "2023-12-31T01:00:00",
          "2023-12-31T02:00:00",
          "2023-12-31T03:00:00",
          "2023-12-31T04:00:00",
          "2023-12-31T05:00:00",
          "2023-12-31T06:00:00"
         ],
         "xaxis": "x",
         "y": [
          107.356,
          107.095,
          107.298,
          105.295,
          103.533,
          104.664,
          104.727,
          105.242,
          104.665,
          105.984,
          104.984,
          104.514,
          105.334,
          104.986,
          101.238,
          101.168,
          99.438,
          99.802,
          99.039,
          100.032,
          99.309,
          101.208,
          100.184,
          100.65,
          103.789,
          101.913,
          100.173,
          102.878,
          104.692,
          104.968,
          105.253,
          106.418,
          108.228,
          105.252,
          108.558,
          109.011,
          107.944,
          107.707,
          107.293,
          107.946,
          109.32,
          106.064,
          103.945,
          103.853,
          105.581,
          105.913,
          104.925,
          104.391,
          105.095,
          106.225,
          105.944,
          106.46,
          104.906,
          103.643,
          104.203,
          104.741,
          104.622,
          103.552,
          101.449,
          101.784,
          102.098,
          102.243,
          102.985,
          102.969,
          103.992,
          104.334,
          103.47,
          103.684,
          103.3,
          103.364,
          103.428,
          102.56,
          101.891,
          101.971,
          102.717,
          101.411,
          100.738,
          100.743,
          101.974,
          101.366
         ],
         "yaxis": "y"
        },
        {
         "customdata": [
          [
           "1",
           "2023-12-28 17:00:00",
           "2023-12-28 17:00:00",
           "2023-12-28 17:00:00",
           1.9411835567216276,
           99.039,
           0,
           "Market",
           "None"
          ],
          [
           "3",
           "2023-12-31 03:00:00",
           "2023-12-31 03:00:00",
           "2023-12-31 03:00:00",
           1.9074197660925742,
           100.738,
           0,
           "Market",
           "None"
          ]
         ],
         "hovertemplate": "<br>Order Id: %{customdata[0]}\n<br>Signal Index: %{customdata[1]}\n<br>Creation Index: %{customdata[2]}\n<br>Fill Index: %{customdata[3]}\n<br>Size: %{customdata[4]:,}\n<br>Price: %{customdata[5]:,}\n<br>Fees: %{customdata[6]:,}\n<br>Type: %{customdata[7]}\n<br>Stop Type: %{customdata[8]}",
         "marker": {
          "color": "#37B13F",
          "line": {
           "color": "rgb(38,123,44)",
           "width": 1
          },
          "size": 8,
          "symbol": "triangle-up"
         },
         "mode": "markers",
         "name": "Buy",
         "type": "scatter",
         "uid": "6170e963-9567-4f06-a730-e841d85a55f4",
         "x": [
          "2023-12-28T17:00:00",
          "2023-12-31T03:00:00"
         ],
         "xaxis": "x",
         "y": [
          99.039,
          100.738
         ],
         "yaxis": "y"
        },
        {
         "customdata": [
          [
           "0",
           "2023-12-27 23:00:00",
           "2023-12-27 23:00:00",
           "2023-12-27 23:00:00",
           0.9314803085062783,
           107.356,
           0,
           "Market",
           "None"
          ],
          [
           "2",
           "2023-12-29 15:00:00",
           "2023-12-29 15:00:00",
           "2023-12-29 15:00:00",
           1.9244489489105558,
           109.32,
           0,
           "Market",
           "None"
          ],
          [
           "4",
           "2023-12-31 05:00:00",
           "2023-12-31 05:00:00",
           "2023-12-31 05:00:00",
           1.973316189860466,
           101.974,
           0,
           "Market",
           "None"
          ]
         ],
         "hovertemplate": "<br>Order Id: %{customdata[0]}\n<br>Signal Index: %{customdata[1]}\n<br>Creation Index: %{customdata[2]}\n<br>Fill Index: %{customdata[3]}\n<br>Size: %{customdata[4]:,}\n<br>Price: %{customdata[5]:,}\n<br>Fees: %{customdata[6]:,}\n<br>Type: %{customdata[7]}\n<br>Stop Type: %{customdata[8]}",
         "marker": {
          "color": "#EA4335",
          "line": {
           "color": "rgb(181,31,18)",
           "width": 1
          },
          "size": 8,
          "symbol": "triangle-down"
         },
         "mode": "markers",
         "name": "Sell",
         "type": "scatter",
         "uid": "16a7d6e6-2397-4bc3-9745-0941486231c2",
         "x": [
          "2023-12-27T23:00:00",
          "2023-12-29T15:00:00",
          "2023-12-31T05:00:00"
         ],
         "xaxis": "x",
         "y": [
          107.356,
          109.32,
          101.974
         ],
         "yaxis": "y"
        }
       ],
       "layout": {
        "annotations": [
         {
          "font": {
           "size": 16
          },
          "showarrow": false,
          "text": "Orders",
          "x": 0.5,
          "xanchor": "center",
          "xref": "paper",
          "y": 1,
          "yanchor": "bottom",
          "yref": "paper"
         }
        ],
        "height": 430,
        "legend": {
         "orientation": "h",
         "traceorder": "normal",
         "x": 1,
         "xanchor": "right",
         "y": 1.0930232558139534,
         "yanchor": "bottom"
        },
        "margin": {
         "b": 30,
         "l": 30,
         "r": 30,
         "t": 30
        },
        "showlegend": true,
        "template": {
         "data": {
          "bar": [
           {
            "error_x": {
             "color": "#d6dfef"
            },
            "error_y": {
             "color": "#d6dfef"
            },
            "marker": {
             "line": {
              "color": "#212226",
              "width": 0.5
             }
            },
            "type": "bar"
           }
          ],
          "barpolar": [
           {
            "marker": {
             "line": {
              "color": "#212226",
              "width": 0.5
             }
            },
            "type": "barpolar"
           }
          ],
          "carpet": [
           {
            "aaxis": {
             "endlinecolor": "#A2B1C6",
             "gridcolor": "#313439",
             "linecolor": "#313439",
             "minorgridcolor": "#313439",
             "startlinecolor": "#A2B1C6"
            },
            "baxis": {
             "endlinecolor": "#A2B1C6",
             "gridcolor": "#313439",
             "linecolor": "#313439",
             "minorgridcolor": "#313439",
             "startlinecolor": "#A2B1C6"
            },
            "type": "carpet"
           }
          ],
          "choropleth": [
           {
            "colorbar": {
             "outlinewidth": 0,
             "ticks": ""
            },
            "type": "choropleth"
           }
          ],
          "contour": [
           {
            "colorbar": {
             "outlinewidth": 0,
             "ticks": ""
            },
            "colorscale": [
             [
              0,
              "#0d0887"
             ],
             [
              0.1111111111111111,
              "#46039f"
             ],
             [
              0.2222222222222222,
              "#7201a8"
             ],
             [
              0.3333333333333333,
              "#9c179e"
             ],
             [
              0.4444444444444444,
              "#bd3786"
             ],
             [
              0.5555555555555556,
              "#d8576b"
             ],
             [
              0.6666666666666666,
              "#ed7953"
             ],
             [
              0.7777777777777778,
              "#fb9f3a"
             ],
             [
              0.8888888888888888,
              "#fdca26"
             ],
             [
              1,
              "#f0f921"
             ]
            ],
            "type": "contour"
           }
          ],
          "contourcarpet": [
           {
            "colorbar": {
             "outlinewidth": 0,
             "ticks": ""
            },
            "type": "contourcarpet"
           }
          ],
          "heatmap": [
           {
            "colorbar": {
             "outlinewidth": 0,
             "ticks": ""
            },
            "colorscale": [
             [
              0,
              "#0d0887"
             ],
             [
              0.1111111111111111,
              "#46039f"
             ],
             [
              0.2222222222222222,
              "#7201a8"
             ],
             [
              0.3333333333333333,
              "#9c179e"
             ],
             [
              0.4444444444444444,
              "#bd3786"
             ],
             [
              0.5555555555555556,
              "#d8576b"
             ],
             [
              0.6666666666666666,
              "#ed7953"
             ],
             [
              0.7777777777777778,
              "#fb9f3a"
             ],
             [
              0.8888888888888888,
              "#fdca26"
             ],
             [
              1,
              "#f0f921"
             ]
            ],
            "type": "heatmap"
           }
          ],
          "heatmapgl": [
           {
            "colorbar": {
             "outlinewidth": 0,
             "ticks": ""
            },
            "colorscale": [
             [
              0,
              "#0d0887"
             ],
             [
              0.1111111111111111,
              "#46039f"
             ],
             [
              0.2222222222222222,
              "#7201a8"
             ],
             [
              0.3333333333333333,
              "#9c179e"
             ],
             [
              0.4444444444444444,
              "#bd3786"
             ],
             [
              0.5555555555555556,
              "#d8576b"
             ],
             [
              0.6666666666666666,
              "#ed7953"
             ],
             [
              0.7777777777777778,
              "#fb9f3a"
             ],
             [
              0.8888888888888888,
              "#fdca26"
             ],
             [
              1,
              "#f0f921"
             ]
            ],
            "type": "heatmapgl"
           }
          ],
          "histogram": [
           {
            "marker": {
             "colorbar": {
              "outlinewidth": 0,
              "ticks": ""
             }
            },
            "type": "histogram"
           }
          ],
          "histogram2d": [
           {
            "colorbar": {
             "outlinewidth": 0,
             "ticks": ""
            },
            "colorscale": [
             [
              0,
              "#0d0887"
             ],
             [
              0.1111111111111111,
              "#46039f"
             ],
             [
              0.2222222222222222,
              "#7201a8"
             ],
             [
              0.3333333333333333,
              "#9c179e"
             ],
             [
              0.4444444444444444,
              "#bd3786"
             ],
             [
              0.5555555555555556,
              "#d8576b"
             ],
             [
              0.6666666666666666,
              "#ed7953"
             ],
             [
              0.7777777777777778,
              "#fb9f3a"
             ],
             [
              0.8888888888888888,
              "#fdca26"
             ],
             [
              1,
              "#f0f921"
             ]
            ],
            "type": "histogram2d"
           }
          ],
          "histogram2dcontour": [
           {
            "colorbar": {
             "outlinewidth": 0,
             "ticks": ""
            },
            "colorscale": [
             [
              0,
              "#0d0887"
             ],
             [
              0.1111111111111111,
              "#46039f"
             ],
             [
              0.2222222222222222,
              "#7201a8"
             ],
             [
              0.3333333333333333,
              "#9c179e"
             ],
             [
              0.4444444444444444,
              "#bd3786"
             ],
             [
              0.5555555555555556,
              "#d8576b"
             ],
             [
              0.6666666666666666,
              "#ed7953"
             ],
             [
              0.7777777777777778,
              "#fb9f3a"
             ],
             [
              0.8888888888888888,
              "#fdca26"
             ],
             [
              1,
              "#f0f921"
             ]
            ],
            "type": "histogram2dcontour"
           }
          ],
          "mesh3d": [
           {
            "colorbar": {
             "outlinewidth": 0,
             "ticks": ""
            },
            "type": "mesh3d"
           }
          ],
          "parcoords": [
           {
            "line": {
             "colorbar": {
              "outlinewidth": 0,
              "ticks": ""
             }
            },
            "type": "parcoords"
           }
          ],
          "pie": [
           {
            "automargin": true,
            "type": "pie"
           }
          ],
          "scatter": [
           {
            "marker": {
             "line": {
              "color": "#313439"
             }
            },
            "type": "scatter"
           }
          ],
          "scatter3d": [
           {
            "line": {
             "colorbar": {
              "outlinewidth": 0,
              "ticks": ""
             }
            },
            "marker": {
             "colorbar": {
              "outlinewidth": 0,
              "ticks": ""
             }
            },
            "type": "scatter3d"
           }
          ],
          "scattercarpet": [
           {
            "marker": {
             "colorbar": {
              "outlinewidth": 0,
              "ticks": ""
             }
            },
            "type": "scattercarpet"
           }
          ],
          "scattergeo": [
           {
            "marker": {
             "colorbar": {
              "outlinewidth": 0,
              "ticks": ""
             }
            },
            "type": "scattergeo"
           }
          ],
          "scattergl": [
           {
            "marker": {
             "line": {
              "color": "#313439"
             }
            },
            "type": "scattergl"
           }
          ],
          "scattermapbox": [
           {
            "marker": {
             "colorbar": {
              "outlinewidth": 0,
              "ticks": ""
             }
            },
            "type": "scattermapbox"
           }
          ],
          "scatterpolar": [
           {
            "marker": {
             "colorbar": {
              "outlinewidth": 0,
              "ticks": ""
             }
            },
            "type": "scatterpolar"
           }
          ],
          "scatterpolargl": [
           {
            "marker": {
             "colorbar": {
              "outlinewidth": 0,
              "ticks": ""
             }
            },
            "type": "scatterpolargl"
           }
          ],
          "scatterternary": [
           {
            "marker": {
             "colorbar": {
              "outlinewidth": 0,
              "ticks": ""
             }
            },
            "type": "scatterternary"
           }
          ],
          "surface": [
           {
            "colorbar": {
             "outlinewidth": 0,
             "ticks": ""
            },
            "colorscale": [
             [
              0,
              "#0d0887"
             ],
             [
              0.1111111111111111,
              "#46039f"
             ],
             [
              0.2222222222222222,
              "#7201a8"
             ],
             [
              0.3333333333333333,
              "#9c179e"
             ],
             [
              0.4444444444444444,
              "#bd3786"
             ],
             [
              0.5555555555555556,
              "#d8576b"
             ],
             [
              0.6666666666666666,
              "#ed7953"
             ],
             [
              0.7777777777777778,
              "#fb9f3a"
             ],
             [
              0.8888888888888888,
              "#fdca26"
             ],
             [
              1,
              "#f0f921"
             ]
            ],
            "type": "surface"
           }
          ],
          "table": [
           {
            "cells": {
             "fill": {
              "color": "#313439"
             },
             "line": {
              "color": "#212226"
             }
            },
            "header": {
             "fill": {
              "color": "#2a3f5f"
             },
             "line": {
              "color": "#212226"
             }
            },
            "type": "table"
           }
          ]
         },
         "layout": {
          "annotationdefaults": {
           "arrowcolor": "#d6dfef",
           "arrowhead": 0,
           "arrowwidth": 1
          },
          "coloraxis": {
           "colorbar": {
            "outlinewidth": 0,
            "ticks": ""
           }
          },
          "colorscale": {
           "diverging": [
            [
             0,
             "#8e0152"
            ],
            [
             0.1,
             "#c51b7d"
            ],
            [
             0.2,
             "#de77ae"
            ],
            [
             0.3,
             "#f1b6da"
            ],
            [
             0.4,
             "#fde0ef"
            ],
            [
             0.5,
             "#f7f7f7"
            ],
            [
             0.6,
             "#e6f5d0"
            ],
            [
             0.7,
             "#b8e186"
            ],
            [
             0.8,
             "#7fbc41"
            ],
            [
             0.9,
             "#4d9221"
            ],
            [
             1,
             "#276419"
            ]
           ],
           "sequential": [
            [
             0,
             "#0d0887"
            ],
            [
             0.1111111111111111,
             "#46039f"
            ],
            [
             0.2222222222222222,
             "#7201a8"
            ],
            [
             0.3333333333333333,
             "#9c179e"
            ],
            [
             0.4444444444444444,
             "#bd3786"
            ],
            [
             0.5555555555555556,
             "#d8576b"
            ],
            [
             0.6666666666666666,
             "#ed7953"
            ],
            [
             0.7777777777777778,
             "#fb9f3a"
            ],
            [
             0.8888888888888888,
             "#fdca26"
            ],
            [
             1,
             "#f0f921"
            ]
           ],
           "sequentialminus": [
            [
             0,
             "#0d0887"
            ],
            [
             0.1111111111111111,
             "#46039f"
            ],
            [
             0.2222222222222222,
             "#7201a8"
            ],
            [
             0.3333333333333333,
             "#9c179e"
            ],
            [
             0.4444444444444444,
             "#bd3786"
            ],
            [
             0.5555555555555556,
             "#d8576b"
            ],
            [
             0.6666666666666666,
             "#ed7953"
            ],
            [
             0.7777777777777778,
             "#fb9f3a"
            ],
            [
             0.8888888888888888,
             "#fdca26"
            ],
            [
             1,
             "#f0f921"
            ]
           ]
          },
          "colorway": [
           "#1f77b4",
           "#ff7f0e",
           "#2ca02c",
           "#dc3912",
           "#9467bd",
           "#8c564b",
           "#e377c2",
           "#7f7f7f",
           "#bcbd22",
           "#17becf"
          ],
          "font": {
           "color": "#d6dfef"
          },
          "geo": {
           "bgcolor": "#212226",
           "lakecolor": "#212226",
           "landcolor": "#212226",
           "showlakes": true,
           "showland": true,
           "subunitcolor": "#313439"
          },
          "hoverlabel": {
           "align": "left"
          },
          "hovermode": "closest",
          "mapbox": {
           "style": "dark"
          },
          "paper_bgcolor": "#212226",
          "plot_bgcolor": "#212226",
          "polar": {
           "angularaxis": {
            "gridcolor": "#313439",
            "linecolor": "#313439",
            "ticks": ""
           },
           "bgcolor": "#212226",
           "radialaxis": {
            "gridcolor": "#313439",
            "linecolor": "#313439",
            "ticks": ""
           }
          },
          "scene": {
           "xaxis": {
            "backgroundcolor": "#212226",
            "gridcolor": "#313439",
            "gridwidth": 2,
            "linecolor": "#313439",
            "showbackground": true,
            "ticks": "",
            "zerolinecolor": "#aec0d6"
           },
           "yaxis": {
            "backgroundcolor": "#212226",
            "gridcolor": "#313439",
            "gridwidth": 2,
            "linecolor": "#313439",
            "showbackground": true,
            "ticks": "",
            "zerolinecolor": "#aec0d6"
           },
           "zaxis": {
            "backgroundcolor": "#212226",
            "gridcolor": "#313439",
            "gridwidth": 2,
            "linecolor": "#313439",
            "showbackground": true,
            "ticks": "",
            "zerolinecolor": "#aec0d6"
           }
          },
          "shapedefaults": {
           "line": {
            "color": "#d6dfef"
           }
          },
          "sliderdefaults": {
           "bgcolor": "#aec0d6",
           "bordercolor": "#212226",
           "borderwidth": 1,
           "tickwidth": 0
          },
          "ternary": {
           "aaxis": {
            "gridcolor": "#313439",
            "linecolor": "#313439",
            "ticks": ""
           },
           "baxis": {
            "gridcolor": "#313439",
            "linecolor": "#313439",
            "ticks": ""
           },
           "bgcolor": "#212226",
           "caxis": {
            "gridcolor": "#313439",
            "linecolor": "#313439",
            "ticks": ""
           }
          },
          "title": {
           "x": 0.05
          },
          "updatemenudefaults": {
           "bgcolor": "#313439",
           "borderwidth": 0
          },
          "xaxis": {
           "automargin": true,
           "gridcolor": "#313439",
           "linecolor": "#313439",
           "ticks": "",
           "title": {
            "standoff": 15
           },
           "zerolinecolor": "#313439",
           "zerolinewidth": 2
          },
          "yaxis": {
           "automargin": true,
           "gridcolor": "#313439",
           "linecolor": "#313439",
           "ticks": "",
           "title": {
            "standoff": 15
           },
           "zerolinecolor": "#313439",
           "zerolinewidth": 2
          }
         }
        },
        "width": 850,
        "xaxis": {
         "anchor": "y",
         "domain": [
          0,
          1
         ],
         "title": {
          "text": "Index"
         }
        },
        "yaxis": {
         "anchor": "x",
         "domain": [
          0,
          1
         ],
         "title": {
          "text": "Price"
         }
        }
       }
      }
     },
     "metadata": {},
     "output_type": "display_data"
    }
   ],
   "source": [
    "signal = df['signal']\n",
    "entries = signal == 2\n",
    "exits = signal == 0\n",
    "pf = vbt.Portfolio.from_signals(\n",
    "    close=df.Close, \n",
    "    long_entries=entries, \n",
    "    short_entries=exits,\n",
    "    size=100,\n",
    "    size_type='value',\n",
    "    # accumulate=True,\n",
    "    init_cash='auto'\n",
    ")\n",
    "pf.plot({\"orders\"}).show()\n",
    "\n",
    "\n"
   ]
  },
  {
   "cell_type": "code",
   "execution_count": 9,
   "metadata": {},
   "outputs": [
    {
     "data": {
      "application/vnd.plotly.v1+json": {
       "config": {
        "plotlyServerURL": "https://plot.ly"
       },
       "data": [
        {
         "name": "signal",
         "showlegend": true,
         "type": "scatter",
         "uid": "ceb3df72-50f2-4d77-b686-273fe6180be1",
         "x": [
          "2023-12-27T23:00:00",
          "2023-12-28T00:00:00",
          "2023-12-28T01:00:00",
          "2023-12-28T02:00:00",
          "2023-12-28T03:00:00",
          "2023-12-28T04:00:00",
          "2023-12-28T05:00:00",
          "2023-12-28T06:00:00",
          "2023-12-28T07:00:00",
          "2023-12-28T08:00:00",
          "2023-12-28T09:00:00",
          "2023-12-28T10:00:00",
          "2023-12-28T11:00:00",
          "2023-12-28T12:00:00",
          "2023-12-28T13:00:00",
          "2023-12-28T14:00:00",
          "2023-12-28T15:00:00",
          "2023-12-28T16:00:00",
          "2023-12-28T17:00:00",
          "2023-12-28T18:00:00",
          "2023-12-28T19:00:00",
          "2023-12-28T20:00:00",
          "2023-12-28T21:00:00",
          "2023-12-28T22:00:00",
          "2023-12-28T23:00:00",
          "2023-12-29T00:00:00",
          "2023-12-29T01:00:00",
          "2023-12-29T02:00:00",
          "2023-12-29T03:00:00",
          "2023-12-29T04:00:00",
          "2023-12-29T05:00:00",
          "2023-12-29T06:00:00",
          "2023-12-29T07:00:00",
          "2023-12-29T08:00:00",
          "2023-12-29T09:00:00",
          "2023-12-29T10:00:00",
          "2023-12-29T11:00:00",
          "2023-12-29T12:00:00",
          "2023-12-29T13:00:00",
          "2023-12-29T14:00:00",
          "2023-12-29T15:00:00",
          "2023-12-29T16:00:00",
          "2023-12-29T17:00:00",
          "2023-12-29T18:00:00",
          "2023-12-29T19:00:00",
          "2023-12-29T20:00:00",
          "2023-12-29T21:00:00",
          "2023-12-29T22:00:00",
          "2023-12-29T23:00:00",
          "2023-12-30T00:00:00",
          "2023-12-30T01:00:00",
          "2023-12-30T02:00:00",
          "2023-12-30T03:00:00",
          "2023-12-30T04:00:00",
          "2023-12-30T05:00:00",
          "2023-12-30T06:00:00",
          "2023-12-30T07:00:00",
          "2023-12-30T08:00:00",
          "2023-12-30T09:00:00",
          "2023-12-30T10:00:00",
          "2023-12-30T11:00:00",
          "2023-12-30T12:00:00",
          "2023-12-30T13:00:00",
          "2023-12-30T14:00:00",
          "2023-12-30T15:00:00",
          "2023-12-30T16:00:00",
          "2023-12-30T17:00:00",
          "2023-12-30T18:00:00",
          "2023-12-30T19:00:00",
          "2023-12-30T20:00:00",
          "2023-12-30T21:00:00",
          "2023-12-30T22:00:00",
          "2023-12-30T23:00:00",
          "2023-12-31T00:00:00",
          "2023-12-31T01:00:00",
          "2023-12-31T02:00:00",
          "2023-12-31T03:00:00",
          "2023-12-31T04:00:00",
          "2023-12-31T05:00:00",
          "2023-12-31T06:00:00"
         ],
         "y": [
          0,
          0.06276301551039865,
          0.013947336780088193,
          0.4956113983407455,
          0.9193218708668986,
          0.6473488036551629,
          0.6321991102560993,
          0.5083563785018619,
          0.6471083323313671,
          0.3299266562462435,
          0.5703979800408803,
          0.6834195022243605,
          0.486233016712756,
          0.5699170373932887,
          1.471203558975592,
          1.4880365516412155,
          1.904051941805939,
          1.8165203799446914,
          2,
          1.8068281295593813,
          1.9474759264662964,
          1.5780566092792547,
          1.777259021495965,
          1.6866063612489057,
          1.0759653730181888,
          1.4409104172745835,
          1.779398891158447,
          1.253185487793015,
          0.9003015270888071,
          0.8466102519210175,
          0.7911681743021113,
          0.5645365236844633,
          0.2124306974029757,
          0.7913627079077905,
          0.14823460752844753,
          0.06011088415523602,
          0.26767824141620267,
          0.3137827059624563,
          0.3943196187141318,
          0.2672891742048442,
          0,
          0.7587974831041713,
          1.252621766487998,
          1.274061990212072,
          0.8713586576555556,
          0.7939874155208564,
          1.0242367746446028,
          1.148683290608247,
          0.984618969937074,
          0.7212770915870408,
          0.7867629923094803,
          0.6665113027266365,
          1.028664646935443,
          1.3230016313213682,
          1.1924959216965725,
          1.067117222092751,
          1.09484968538802,
          1.3442088091353952,
          1.8343043579585157,
          1.7562339780936824,
          1.6830575623397799,
          1.6492659053833592,
          1.4763458401305023,
          1.480074574691212,
          1.2416686087159121,
          1.161966907480771,
          1.3633185737590274,
          1.3134467490095538,
          1.4029363784665563,
          1.3880214402237208,
          1.3731065019808888,
          1.5753903518993226,
          1.731298065718942,
          1.7126543929154003,
          1.5388021440223696,
          1.8431601025401996,
          2,
          1.9919093851132743,
          0,
          0.9838187702265202
         ]
        }
       ],
       "layout": {
        "height": 400,
        "legend": {
         "orientation": "h",
         "traceorder": "normal",
         "x": 1,
         "xanchor": "right",
         "y": 1.02,
         "yanchor": "bottom"
        },
        "margin": {
         "b": 30,
         "l": 30,
         "r": 30,
         "t": 30
        },
        "template": {
         "data": {
          "bar": [
           {
            "error_x": {
             "color": "#d6dfef"
            },
            "error_y": {
             "color": "#d6dfef"
            },
            "marker": {
             "line": {
              "color": "#212226",
              "width": 0.5
             }
            },
            "type": "bar"
           }
          ],
          "barpolar": [
           {
            "marker": {
             "line": {
              "color": "#212226",
              "width": 0.5
             }
            },
            "type": "barpolar"
           }
          ],
          "carpet": [
           {
            "aaxis": {
             "endlinecolor": "#A2B1C6",
             "gridcolor": "#313439",
             "linecolor": "#313439",
             "minorgridcolor": "#313439",
             "startlinecolor": "#A2B1C6"
            },
            "baxis": {
             "endlinecolor": "#A2B1C6",
             "gridcolor": "#313439",
             "linecolor": "#313439",
             "minorgridcolor": "#313439",
             "startlinecolor": "#A2B1C6"
            },
            "type": "carpet"
           }
          ],
          "choropleth": [
           {
            "colorbar": {
             "outlinewidth": 0,
             "ticks": ""
            },
            "type": "choropleth"
           }
          ],
          "contour": [
           {
            "colorbar": {
             "outlinewidth": 0,
             "ticks": ""
            },
            "colorscale": [
             [
              0,
              "#0d0887"
             ],
             [
              0.1111111111111111,
              "#46039f"
             ],
             [
              0.2222222222222222,
              "#7201a8"
             ],
             [
              0.3333333333333333,
              "#9c179e"
             ],
             [
              0.4444444444444444,
              "#bd3786"
             ],
             [
              0.5555555555555556,
              "#d8576b"
             ],
             [
              0.6666666666666666,
              "#ed7953"
             ],
             [
              0.7777777777777778,
              "#fb9f3a"
             ],
             [
              0.8888888888888888,
              "#fdca26"
             ],
             [
              1,
              "#f0f921"
             ]
            ],
            "type": "contour"
           }
          ],
          "contourcarpet": [
           {
            "colorbar": {
             "outlinewidth": 0,
             "ticks": ""
            },
            "type": "contourcarpet"
           }
          ],
          "heatmap": [
           {
            "colorbar": {
             "outlinewidth": 0,
             "ticks": ""
            },
            "colorscale": [
             [
              0,
              "#0d0887"
             ],
             [
              0.1111111111111111,
              "#46039f"
             ],
             [
              0.2222222222222222,
              "#7201a8"
             ],
             [
              0.3333333333333333,
              "#9c179e"
             ],
             [
              0.4444444444444444,
              "#bd3786"
             ],
             [
              0.5555555555555556,
              "#d8576b"
             ],
             [
              0.6666666666666666,
              "#ed7953"
             ],
             [
              0.7777777777777778,
              "#fb9f3a"
             ],
             [
              0.8888888888888888,
              "#fdca26"
             ],
             [
              1,
              "#f0f921"
             ]
            ],
            "type": "heatmap"
           }
          ],
          "heatmapgl": [
           {
            "colorbar": {
             "outlinewidth": 0,
             "ticks": ""
            },
            "colorscale": [
             [
              0,
              "#0d0887"
             ],
             [
              0.1111111111111111,
              "#46039f"
             ],
             [
              0.2222222222222222,
              "#7201a8"
             ],
             [
              0.3333333333333333,
              "#9c179e"
             ],
             [
              0.4444444444444444,
              "#bd3786"
             ],
             [
              0.5555555555555556,
              "#d8576b"
             ],
             [
              0.6666666666666666,
              "#ed7953"
             ],
             [
              0.7777777777777778,
              "#fb9f3a"
             ],
             [
              0.8888888888888888,
              "#fdca26"
             ],
             [
              1,
              "#f0f921"
             ]
            ],
            "type": "heatmapgl"
           }
          ],
          "histogram": [
           {
            "marker": {
             "colorbar": {
              "outlinewidth": 0,
              "ticks": ""
             }
            },
            "type": "histogram"
           }
          ],
          "histogram2d": [
           {
            "colorbar": {
             "outlinewidth": 0,
             "ticks": ""
            },
            "colorscale": [
             [
              0,
              "#0d0887"
             ],
             [
              0.1111111111111111,
              "#46039f"
             ],
             [
              0.2222222222222222,
              "#7201a8"
             ],
             [
              0.3333333333333333,
              "#9c179e"
             ],
             [
              0.4444444444444444,
              "#bd3786"
             ],
             [
              0.5555555555555556,
              "#d8576b"
             ],
             [
              0.6666666666666666,
              "#ed7953"
             ],
             [
              0.7777777777777778,
              "#fb9f3a"
             ],
             [
              0.8888888888888888,
              "#fdca26"
             ],
             [
              1,
              "#f0f921"
             ]
            ],
            "type": "histogram2d"
           }
          ],
          "histogram2dcontour": [
           {
            "colorbar": {
             "outlinewidth": 0,
             "ticks": ""
            },
            "colorscale": [
             [
              0,
              "#0d0887"
             ],
             [
              0.1111111111111111,
              "#46039f"
             ],
             [
              0.2222222222222222,
              "#7201a8"
             ],
             [
              0.3333333333333333,
              "#9c179e"
             ],
             [
              0.4444444444444444,
              "#bd3786"
             ],
             [
              0.5555555555555556,
              "#d8576b"
             ],
             [
              0.6666666666666666,
              "#ed7953"
             ],
             [
              0.7777777777777778,
              "#fb9f3a"
             ],
             [
              0.8888888888888888,
              "#fdca26"
             ],
             [
              1,
              "#f0f921"
             ]
            ],
            "type": "histogram2dcontour"
           }
          ],
          "mesh3d": [
           {
            "colorbar": {
             "outlinewidth": 0,
             "ticks": ""
            },
            "type": "mesh3d"
           }
          ],
          "parcoords": [
           {
            "line": {
             "colorbar": {
              "outlinewidth": 0,
              "ticks": ""
             }
            },
            "type": "parcoords"
           }
          ],
          "pie": [
           {
            "automargin": true,
            "type": "pie"
           }
          ],
          "scatter": [
           {
            "marker": {
             "line": {
              "color": "#313439"
             }
            },
            "type": "scatter"
           }
          ],
          "scatter3d": [
           {
            "line": {
             "colorbar": {
              "outlinewidth": 0,
              "ticks": ""
             }
            },
            "marker": {
             "colorbar": {
              "outlinewidth": 0,
              "ticks": ""
             }
            },
            "type": "scatter3d"
           }
          ],
          "scattercarpet": [
           {
            "marker": {
             "colorbar": {
              "outlinewidth": 0,
              "ticks": ""
             }
            },
            "type": "scattercarpet"
           }
          ],
          "scattergeo": [
           {
            "marker": {
             "colorbar": {
              "outlinewidth": 0,
              "ticks": ""
             }
            },
            "type": "scattergeo"
           }
          ],
          "scattergl": [
           {
            "marker": {
             "line": {
              "color": "#313439"
             }
            },
            "type": "scattergl"
           }
          ],
          "scattermapbox": [
           {
            "marker": {
             "colorbar": {
              "outlinewidth": 0,
              "ticks": ""
             }
            },
            "type": "scattermapbox"
           }
          ],
          "scatterpolar": [
           {
            "marker": {
             "colorbar": {
              "outlinewidth": 0,
              "ticks": ""
             }
            },
            "type": "scatterpolar"
           }
          ],
          "scatterpolargl": [
           {
            "marker": {
             "colorbar": {
              "outlinewidth": 0,
              "ticks": ""
             }
            },
            "type": "scatterpolargl"
           }
          ],
          "scatterternary": [
           {
            "marker": {
             "colorbar": {
              "outlinewidth": 0,
              "ticks": ""
             }
            },
            "type": "scatterternary"
           }
          ],
          "surface": [
           {
            "colorbar": {
             "outlinewidth": 0,
             "ticks": ""
            },
            "colorscale": [
             [
              0,
              "#0d0887"
             ],
             [
              0.1111111111111111,
              "#46039f"
             ],
             [
              0.2222222222222222,
              "#7201a8"
             ],
             [
              0.3333333333333333,
              "#9c179e"
             ],
             [
              0.4444444444444444,
              "#bd3786"
             ],
             [
              0.5555555555555556,
              "#d8576b"
             ],
             [
              0.6666666666666666,
              "#ed7953"
             ],
             [
              0.7777777777777778,
              "#fb9f3a"
             ],
             [
              0.8888888888888888,
              "#fdca26"
             ],
             [
              1,
              "#f0f921"
             ]
            ],
            "type": "surface"
           }
          ],
          "table": [
           {
            "cells": {
             "fill": {
              "color": "#313439"
             },
             "line": {
              "color": "#212226"
             }
            },
            "header": {
             "fill": {
              "color": "#2a3f5f"
             },
             "line": {
              "color": "#212226"
             }
            },
            "type": "table"
           }
          ]
         },
         "layout": {
          "annotationdefaults": {
           "arrowcolor": "#d6dfef",
           "arrowhead": 0,
           "arrowwidth": 1
          },
          "coloraxis": {
           "colorbar": {
            "outlinewidth": 0,
            "ticks": ""
           }
          },
          "colorscale": {
           "diverging": [
            [
             0,
             "#8e0152"
            ],
            [
             0.1,
             "#c51b7d"
            ],
            [
             0.2,
             "#de77ae"
            ],
            [
             0.3,
             "#f1b6da"
            ],
            [
             0.4,
             "#fde0ef"
            ],
            [
             0.5,
             "#f7f7f7"
            ],
            [
             0.6,
             "#e6f5d0"
            ],
            [
             0.7,
             "#b8e186"
            ],
            [
             0.8,
             "#7fbc41"
            ],
            [
             0.9,
             "#4d9221"
            ],
            [
             1,
             "#276419"
            ]
           ],
           "sequential": [
            [
             0,
             "#0d0887"
            ],
            [
             0.1111111111111111,
             "#46039f"
            ],
            [
             0.2222222222222222,
             "#7201a8"
            ],
            [
             0.3333333333333333,
             "#9c179e"
            ],
            [
             0.4444444444444444,
             "#bd3786"
            ],
            [
             0.5555555555555556,
             "#d8576b"
            ],
            [
             0.6666666666666666,
             "#ed7953"
            ],
            [
             0.7777777777777778,
             "#fb9f3a"
            ],
            [
             0.8888888888888888,
             "#fdca26"
            ],
            [
             1,
             "#f0f921"
            ]
           ],
           "sequentialminus": [
            [
             0,
             "#0d0887"
            ],
            [
             0.1111111111111111,
             "#46039f"
            ],
            [
             0.2222222222222222,
             "#7201a8"
            ],
            [
             0.3333333333333333,
             "#9c179e"
            ],
            [
             0.4444444444444444,
             "#bd3786"
            ],
            [
             0.5555555555555556,
             "#d8576b"
            ],
            [
             0.6666666666666666,
             "#ed7953"
            ],
            [
             0.7777777777777778,
             "#fb9f3a"
            ],
            [
             0.8888888888888888,
             "#fdca26"
            ],
            [
             1,
             "#f0f921"
            ]
           ]
          },
          "colorway": [
           "#1f77b4",
           "#ff7f0e",
           "#2ca02c",
           "#dc3912",
           "#9467bd",
           "#8c564b",
           "#e377c2",
           "#7f7f7f",
           "#bcbd22",
           "#17becf"
          ],
          "font": {
           "color": "#d6dfef"
          },
          "geo": {
           "bgcolor": "#212226",
           "lakecolor": "#212226",
           "landcolor": "#212226",
           "showlakes": true,
           "showland": true,
           "subunitcolor": "#313439"
          },
          "hoverlabel": {
           "align": "left"
          },
          "hovermode": "closest",
          "mapbox": {
           "style": "dark"
          },
          "paper_bgcolor": "#212226",
          "plot_bgcolor": "#212226",
          "polar": {
           "angularaxis": {
            "gridcolor": "#313439",
            "linecolor": "#313439",
            "ticks": ""
           },
           "bgcolor": "#212226",
           "radialaxis": {
            "gridcolor": "#313439",
            "linecolor": "#313439",
            "ticks": ""
           }
          },
          "scene": {
           "xaxis": {
            "backgroundcolor": "#212226",
            "gridcolor": "#313439",
            "gridwidth": 2,
            "linecolor": "#313439",
            "showbackground": true,
            "ticks": "",
            "zerolinecolor": "#aec0d6"
           },
           "yaxis": {
            "backgroundcolor": "#212226",
            "gridcolor": "#313439",
            "gridwidth": 2,
            "linecolor": "#313439",
            "showbackground": true,
            "ticks": "",
            "zerolinecolor": "#aec0d6"
           },
           "zaxis": {
            "backgroundcolor": "#212226",
            "gridcolor": "#313439",
            "gridwidth": 2,
            "linecolor": "#313439",
            "showbackground": true,
            "ticks": "",
            "zerolinecolor": "#aec0d6"
           }
          },
          "shapedefaults": {
           "line": {
            "color": "#d6dfef"
           }
          },
          "sliderdefaults": {
           "bgcolor": "#aec0d6",
           "bordercolor": "#212226",
           "borderwidth": 1,
           "tickwidth": 0
          },
          "ternary": {
           "aaxis": {
            "gridcolor": "#313439",
            "linecolor": "#313439",
            "ticks": ""
           },
           "baxis": {
            "gridcolor": "#313439",
            "linecolor": "#313439",
            "ticks": ""
           },
           "bgcolor": "#212226",
           "caxis": {
            "gridcolor": "#313439",
            "linecolor": "#313439",
            "ticks": ""
           }
          },
          "title": {
           "x": 0.05
          },
          "updatemenudefaults": {
           "bgcolor": "#313439",
           "borderwidth": 0
          },
          "xaxis": {
           "automargin": true,
           "gridcolor": "#313439",
           "linecolor": "#313439",
           "ticks": "",
           "title": {
            "standoff": 15
           },
           "zerolinecolor": "#313439",
           "zerolinewidth": 2
          },
          "yaxis": {
           "automargin": true,
           "gridcolor": "#313439",
           "linecolor": "#313439",
           "ticks": "",
           "title": {
            "standoff": 15
           },
           "zerolinecolor": "#313439",
           "zerolinewidth": 2
          }
         }
        },
        "width": 800,
        "yaxis": {
         "title": {
          "text": "signal"
         }
        }
       }
      }
     },
     "metadata": {},
     "output_type": "display_data"
    }
   ],
   "source": [
    "fig = signal.vbt.plot()\n",
    "fig.update_layout(yaxis_title='signal')\n",
    "fig.show()"
   ]
  },
  {
   "cell_type": "code",
   "execution_count": null,
   "metadata": {},
   "outputs": [],
   "source": []
  }
 ],
 "metadata": {
  "kernelspec": {
   "display_name": "vectorbtpro",
   "language": "python",
   "name": "python3"
  },
  "language_info": {
   "codemirror_mode": {
    "name": "ipython",
    "version": 3
   },
   "file_extension": ".py",
   "mimetype": "text/x-python",
   "name": "python",
   "nbconvert_exporter": "python",
   "pygments_lexer": "ipython3",
   "version": "3.10.13"
  }
 },
 "nbformat": 4,
 "nbformat_minor": 2
}
