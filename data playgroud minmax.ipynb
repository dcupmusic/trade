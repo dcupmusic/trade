{
 "cells": [
  {
   "cell_type": "code",
   "execution_count": null,
   "metadata": {},
   "outputs": [],
   "source": [
    "import numpy as np\n",
    "import pandas as pd \n",
    "from pylab import mpl, plt\n",
    "import random\n",
    "import optuna\n",
    "import os\n",
    "os.environ['PYTORCH_MPS_HIGH_WATERMARK_RATIO'] = '0.0'\n",
    "\n",
    "import torch\n",
    "import torch.nn as nn\n",
    "import torch.optim as optim\n",
    "import torch.nn.functional as F\n",
    "torch.set_num_threads(1)\n",
    "\n",
    "\n",
    "from sklearn.model_selection import train_test_split\n",
    "from sklearn.preprocessing import MinMaxScaler\n",
    "from sklearn.utils.class_weight import compute_class_weight\n",
    "from sklearn.metrics import precision_score, recall_score, f1_score, accuracy_score, roc_auc_score\n",
    "\n",
    "import matplotlib.pyplot as plt\n",
    "plt.style.use('seaborn-v0_8-darkgrid')\n",
    "mpl.rcParams['font.family'] = 'serif'\n",
    "%matplotlib inline\n",
    "\n",
    "import warnings\n",
    "warnings.simplefilter(\"ignore\", UserWarning)\n",
    "\n",
    "import vectorbtpro as vbt\n",
    "\n",
    "\n",
    "from collections import deque\n",
    "\n",
    "vbt.settings.set_theme('dark')\n",
    "vbt.settings['plotting']['layout']['width'] = 800\n",
    "vbt.settings['plotting']['layout']['height'] = 400\n"
   ]
  },
  {
   "cell_type": "code",
   "execution_count": null,
   "metadata": {},
   "outputs": [],
   "source": [
    "df_sol = pd.read_csv('2ySOLdata1h.csv')\n",
    "df_sol['timestamp'] = pd.to_datetime(df_sol['timestamp'], unit='s')\n",
    "df_sol.set_index('timestamp', inplace=True)\n",
    "pd.set_option('future.no_silent_downcasting', True)"
   ]
  },
  {
   "cell_type": "code",
   "execution_count": null,
   "metadata": {},
   "outputs": [],
   "source": [
    "data = df_sol.iloc[:, 3:4].copy()\n",
    "data_trimmed = data.copy()"
   ]
  },
  {
   "cell_type": "code",
   "execution_count": null,
   "metadata": {},
   "outputs": [],
   "source": [
    "pd.set_option('future.no_silent_downcasting', True)\n",
    "data_trimmed.loc[:, 'signal'] = 'SignalNone'\n",
    "# Define window size\n",
    "window_size = 10\n",
    "\n",
    "rolling_max = data_trimmed.loc[:,'Close'].rolling(window=2*window_size+1, center=True, min_periods=1).max()\n",
    "rolling_min = data_trimmed.loc[:,'Close'].rolling(window=2*window_size+1, center=True, min_periods=1).min()\n",
    "\n",
    "is_peak = (data_trimmed.loc[:, 'Close'] == rolling_max)\n",
    "\n",
    "is_low = (data_trimmed.loc[:, 'Close'] == rolling_min) \n",
    "\n",
    "# Update signal columns where conditions are met\n",
    "data_trimmed.loc[is_peak, 'signal'] = 'SignalShort'  # Mark peaks with SignalShort\n",
    "data_trimmed.loc[is_low, 'signal'] = 'SignalLong'   # Mark lows with SignalLong\n",
    "df = data_trimmed.copy()"
   ]
  },
  {
   "cell_type": "code",
   "execution_count": null,
   "metadata": {},
   "outputs": [],
   "source": [
    "df_filtered = df[df['signal'] != 'SignalNone'].copy()\n",
    "\n",
    "# Iterate through the DataFrame and adjust the signals\n",
    "for i in range(1, len(df_filtered)):\n",
    "    current_signal = df_filtered.iloc[i]['signal']\n",
    "    previous_signal = df_filtered.iloc[i - 1]['signal']\n",
    "    current_close = df_filtered.iloc[i]['Close']\n",
    "    previous_close = df_filtered.iloc[i - 1]['Close']\n",
    "    \n",
    "    if current_signal == previous_signal:\n",
    "        if current_signal == 'SignalLong' and previous_close > current_close:\n",
    "            df_filtered.iloc[i - 1, df_filtered.columns.get_loc('signal')] = 'SignalNone'\n",
    "        elif current_signal != 'SignalLong' and previous_close < current_close:\n",
    "            df_filtered.iloc[i - 1, df_filtered.columns.get_loc('signal')] = 'SignalNone'\n",
    "        else:\n",
    "            df_filtered.iloc[i, df_filtered.columns.get_loc('signal')] = 'SignalNone'\n",
    "\n",
    "\n",
    "df.update(df_filtered)\n",
    "\n",
    "df.loc[:,'signal'] = df.loc[:,'signal'].replace({'SignalLong': 2, 'SignalShort': 0, 'SignalNone': 1})\n",
    "df = df.ffill()"
   ]
  },
  {
   "cell_type": "code",
   "execution_count": null,
   "metadata": {},
   "outputs": [],
   "source": [
    "df['signal'] = df['signal'].astype(float)\n",
    "long_signals = df['signal'] == 2\n",
    "short_signals = df['signal'] == 0"
   ]
  },
  {
   "cell_type": "code",
   "execution_count": null,
   "metadata": {},
   "outputs": [],
   "source": [
    "scaler = MinMaxScaler(feature_range=(0, 2))\n",
    "for idx in df.index[:-1]:\n",
    "    if short_signals.loc[idx]:\n",
    "        short_index = idx\n",
    "        next_long_idx = df.loc[idx:].index[long_signals[idx:]].min()\n",
    "        bear_slice = df.loc[short_index : next_long_idx].copy()\n",
    "        bear_slice['signal'] = bear_slice['Close']\n",
    "        signal_values = bear_slice['signal'].values.reshape(-1, 1)\n",
    "        scaled_signal_values = scaler.fit_transform(signal_values)\n",
    "        scaled_signal_values_transformed = 2 - (scaled_signal_values)\n",
    "        bear_slice['signal'] = scaled_signal_values_transformed.flatten()\n",
    "        df.update(bear_slice)\n",
    "    elif long_signals.loc[idx]:\n",
    "        long_index = idx\n",
    "        next_short_idx = df.loc[idx:].index[short_signals[idx:]].min()\n",
    "        bull_slice = df.loc[long_index : next_short_idx].copy()\n",
    "        bull_slice['signal'] = bull_slice['Close']\n",
    "        signal_values = bull_slice['signal'].values.reshape(-1, 1)\n",
    "        scaled_signal_values = scaler.fit_transform(signal_values)\n",
    "        scaled_signal_values_transformed = 2 - (scaled_signal_values)\n",
    "        bull_slice['signal'] = scaled_signal_values_transformed.flatten()\n",
    "        df.update(bull_slice)\n"
   ]
  },
  {
   "cell_type": "code",
   "execution_count": null,
   "metadata": {},
   "outputs": [],
   "source": [
    "signal = df['signal']\n",
    "entries = signal == 2\n",
    "exits = signal == 0\n",
    "pf = vbt.Portfolio.from_signals(\n",
    "    close=df.Close, \n",
    "    long_entries=entries, \n",
    "    short_entries=exits,\n",
    "    size=100,\n",
    "    size_type='value',\n",
    "    # accumulate=True,\n",
    "    init_cash='auto'\n",
    ")\n",
    "pf.plot({\"orders\"}).show()\n",
    "\n",
    "\n"
   ]
  },
  {
   "cell_type": "code",
   "execution_count": null,
   "metadata": {},
   "outputs": [],
   "source": [
    "fig = signal.vbt.plot()\n",
    "fig.update_layout(yaxis_title='signal')\n",
    "fig.show()"
   ]
  },
  {
   "cell_type": "code",
   "execution_count": null,
   "metadata": {},
   "outputs": [],
   "source": []
  }
 ],
 "metadata": {
  "kernelspec": {
   "display_name": "vectorbtpro",
   "language": "python",
   "name": "python3"
  },
  "language_info": {
   "codemirror_mode": {
    "name": "ipython",
    "version": 3
   },
   "file_extension": ".py",
   "mimetype": "text/x-python",
   "name": "python",
   "nbconvert_exporter": "python",
   "pygments_lexer": "ipython3",
   "version": "3.10.13"
  }
 },
 "nbformat": 4,
 "nbformat_minor": 2
}
