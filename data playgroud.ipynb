{
 "cells": [
  {
   "cell_type": "code",
   "execution_count": 1,
   "metadata": {},
   "outputs": [],
   "source": [
    "import numpy as np\n",
    "import pandas as pd \n",
    "from pylab import mpl, plt\n",
    "import random\n",
    "import optuna\n",
    "import os\n",
    "os.environ['PYTORCH_MPS_HIGH_WATERMARK_RATIO'] = '0.0'\n",
    "\n",
    "import torch\n",
    "import torch.nn as nn\n",
    "import torch.optim as optim\n",
    "import torch.nn.functional as F\n",
    "torch.set_num_threads(1)\n",
    "\n",
    "\n",
    "from sklearn.model_selection import train_test_split\n",
    "from sklearn.preprocessing import StandardScaler\n",
    "from sklearn.utils.class_weight import compute_class_weight\n",
    "from sklearn.metrics import precision_score, recall_score, f1_score, accuracy_score, roc_auc_score\n",
    "\n",
    "import matplotlib.pyplot as plt\n",
    "plt.style.use('seaborn-v0_8-darkgrid')\n",
    "mpl.rcParams['font.family'] = 'serif'\n",
    "%matplotlib inline\n",
    "\n",
    "import warnings\n",
    "warnings.simplefilter(\"ignore\", UserWarning)\n",
    "\n",
    "import vectorbtpro as vbt\n",
    "\n",
    "\n",
    "from plotly.subplots import make_subplots\n",
    "import plotly.graph_objects as go\n",
    "from collections import deque\n",
    "\n",
    "vbt.settings.set_theme('dark')\n",
    "vbt.settings['plotting']['layout']['width'] = 800\n",
    "vbt.settings['plotting']['layout']['height'] = 400\n"
   ]
  },
  {
   "cell_type": "code",
   "execution_count": 2,
   "metadata": {},
   "outputs": [],
   "source": [
    "df_sol = pd.read_csv('2ySOLdata1h.csv')\n",
    "df_sol['timestamp'] = pd.to_datetime(df_sol['timestamp'], unit='s')\n",
    "df_sol.set_index('timestamp', inplace=True)\n",
    "pd.set_option('future.no_silent_downcasting', True)"
   ]
  },
  {
   "cell_type": "code",
   "execution_count": 10,
   "metadata": {},
   "outputs": [],
   "source": [
    "data = df_sol.iloc[:, 3:4]\n",
    "data_trimmed = data[-100:].copy()"
   ]
  },
  {
   "cell_type": "code",
   "execution_count": 11,
   "metadata": {},
   "outputs": [],
   "source": [
    "pd.set_option('future.no_silent_downcasting', True)\n",
    "data_trimmed.loc[:, 'signal'] = 'SignalNone'\n",
    "# Define window size\n",
    "window_size = 10\n",
    "\n",
    "rolling_max = data_trimmed.loc[:,'Close'].rolling(window=2*window_size+1, center=True, min_periods=1).max()\n",
    "rolling_min = data_trimmed.loc[:,'Close'].rolling(window=2*window_size+1, center=True, min_periods=1).min()\n",
    "\n",
    "is_peak = (data_trimmed.loc[:, 'Close'] == rolling_max)\n",
    "\n",
    "is_low = (data_trimmed.loc[:, 'Close'] == rolling_min) \n",
    "\n",
    "# Update signal columns where conditions are met\n",
    "data_trimmed.loc[is_peak, 'signal'] = 'SignalShort'  # Mark peaks with 0\n",
    "data_trimmed.loc[is_low, 'signal'] = 'SignalLong'   # Mark lows with 0\n"
   ]
  },
  {
   "cell_type": "code",
   "execution_count": 5,
   "metadata": {},
   "outputs": [],
   "source": [
    "df = data_trimmed.copy()"
   ]
  },
  {
   "cell_type": "code",
   "execution_count": 6,
   "metadata": {},
   "outputs": [],
   "source": [
    "df_filtered = df[df['signal'] != 'SignalNone'].copy()\n",
    "\n",
    "# Iterate through the DataFrame and adjust the signals\n",
    "for i in range(1, len(df_filtered)):\n",
    "    current_signal = df_filtered.iloc[i]['signal']\n",
    "    previous_signal = df_filtered.iloc[i - 1]['signal']\n",
    "    current_close = df_filtered.iloc[i]['Close']\n",
    "    previous_close = df_filtered.iloc[i - 1]['Close']\n",
    "    \n",
    "    if current_signal == previous_signal:\n",
    "        if current_signal == 'SignalLong' and previous_close > current_close:\n",
    "            df_filtered.iloc[i - 1, df_filtered.columns.get_loc('signal')] = 'SignalNone'\n",
    "        elif current_signal != 'SignalLong' and previous_close < current_close:\n",
    "            df_filtered.iloc[i - 1, df_filtered.columns.get_loc('signal')] = 'SignalNone'\n",
    "        else:\n",
    "            df_filtered.iloc[i, df_filtered.columns.get_loc('signal')] = 'SignalNone'\n",
    "\n",
    "\n",
    "df.update(df_filtered)\n",
    "\n",
    "\n",
    "# # Making binary... comment out if not desired\n",
    "# previous_signal = None  # Initialize a variable to keep track of the previous non-\"SignalNone\" value\n",
    "\n",
    "# for i in range(len(df)):\n",
    "#     if df.iloc[i, df_filtered.columns.get_loc('signal')] == \"SignalNone\" and previous_signal is not None:\n",
    "#         df.iloc[i, df_filtered.columns.get_loc('signal')] = previous_signal  # Replace \"SignalNone\" with the previous signal\n",
    "#     elif df.iloc[i, df_filtered.columns.get_loc('signal')] != \"SignalNone\":\n",
    "#         previous_signal = df.iloc[i, df_filtered.columns.get_loc('signal')]  # Update the previous signal to the current one if it's not \"SignalNone\"\n",
    "\n",
    "# df = df.loc[df['signal'] != 'SignalNone']\n",
    "# # end of binary\n",
    "\n",
    "df.loc[:,'signal'] = df.loc[:,'signal'].replace({'SignalLong': 1, 'SignalShort': 0, 'SignalNone': 2})\n",
    "df = df.ffill()"
   ]
  },
  {
   "cell_type": "code",
   "execution_count": 7,
   "metadata": {},
   "outputs": [],
   "source": [
    "signal = df['signal']\n",
    "entries = signal == 1\n",
    "exits = signal == 0"
   ]
  },
  {
   "cell_type": "code",
   "execution_count": 8,
   "metadata": {},
   "outputs": [],
   "source": [
    "pf = vbt.Portfolio.from_signals(\n",
    "    close=df.Close, \n",
    "    long_entries=entries, \n",
    "    short_entries=exits,\n",
    "    size=100,\n",
    "    size_type='value',\n",
    "    # accumulate=True,\n",
    "    init_cash='auto'\n",
    ")"
   ]
  },
  {
   "cell_type": "code",
   "execution_count": 9,
   "metadata": {},
   "outputs": [
    {
     "data": {
      "application/vnd.plotly.v1+json": {
       "config": {
        "plotlyServerURL": "https://plot.ly"
       },
       "data": [
        {
         "legendgroup": "0",
         "line": {
          "color": "#1f77b4"
         },
         "mode": "lines",
         "name": "Close",
         "showlegend": true,
         "type": "scatter",
         "uid": "4da5bfaa-cac7-462e-9993-78e95784a6f5",
         "x": [
          "2023-12-27T03:00:00",
          "2023-12-27T04:00:00",
          "2023-12-27T05:00:00",
          "2023-12-27T06:00:00",
          "2023-12-27T07:00:00",
          "2023-12-27T08:00:00",
          "2023-12-27T09:00:00",
          "2023-12-27T10:00:00",
          "2023-12-27T11:00:00",
          "2023-12-27T12:00:00",
          "2023-12-27T13:00:00",
          "2023-12-27T14:00:00",
          "2023-12-27T15:00:00",
          "2023-12-27T16:00:00",
          "2023-12-27T17:00:00",
          "2023-12-27T18:00:00",
          "2023-12-27T19:00:00",
          "2023-12-27T20:00:00",
          "2023-12-27T21:00:00",
          "2023-12-27T22:00:00",
          "2023-12-27T23:00:00",
          "2023-12-28T00:00:00",
          "2023-12-28T01:00:00",
          "2023-12-28T02:00:00",
          "2023-12-28T03:00:00",
          "2023-12-28T04:00:00",
          "2023-12-28T05:00:00",
          "2023-12-28T06:00:00",
          "2023-12-28T07:00:00",
          "2023-12-28T08:00:00",
          "2023-12-28T09:00:00",
          "2023-12-28T10:00:00",
          "2023-12-28T11:00:00",
          "2023-12-28T12:00:00",
          "2023-12-28T13:00:00",
          "2023-12-28T14:00:00",
          "2023-12-28T15:00:00",
          "2023-12-28T16:00:00",
          "2023-12-28T17:00:00",
          "2023-12-28T18:00:00",
          "2023-12-28T19:00:00",
          "2023-12-28T20:00:00",
          "2023-12-28T21:00:00",
          "2023-12-28T22:00:00",
          "2023-12-28T23:00:00",
          "2023-12-29T00:00:00",
          "2023-12-29T01:00:00",
          "2023-12-29T02:00:00",
          "2023-12-29T03:00:00",
          "2023-12-29T04:00:00",
          "2023-12-29T05:00:00",
          "2023-12-29T06:00:00",
          "2023-12-29T07:00:00",
          "2023-12-29T08:00:00",
          "2023-12-29T09:00:00",
          "2023-12-29T10:00:00",
          "2023-12-29T11:00:00",
          "2023-12-29T12:00:00",
          "2023-12-29T13:00:00",
          "2023-12-29T14:00:00",
          "2023-12-29T15:00:00",
          "2023-12-29T16:00:00",
          "2023-12-29T17:00:00",
          "2023-12-29T18:00:00",
          "2023-12-29T19:00:00",
          "2023-12-29T20:00:00",
          "2023-12-29T21:00:00",
          "2023-12-29T22:00:00",
          "2023-12-29T23:00:00",
          "2023-12-30T00:00:00",
          "2023-12-30T01:00:00",
          "2023-12-30T02:00:00",
          "2023-12-30T03:00:00",
          "2023-12-30T04:00:00",
          "2023-12-30T05:00:00",
          "2023-12-30T06:00:00",
          "2023-12-30T07:00:00",
          "2023-12-30T08:00:00",
          "2023-12-30T09:00:00",
          "2023-12-30T10:00:00",
          "2023-12-30T11:00:00",
          "2023-12-30T12:00:00",
          "2023-12-30T13:00:00",
          "2023-12-30T14:00:00",
          "2023-12-30T15:00:00",
          "2023-12-30T16:00:00",
          "2023-12-30T17:00:00",
          "2023-12-30T18:00:00",
          "2023-12-30T19:00:00",
          "2023-12-30T20:00:00",
          "2023-12-30T21:00:00",
          "2023-12-30T22:00:00",
          "2023-12-30T23:00:00",
          "2023-12-31T00:00:00",
          "2023-12-31T01:00:00",
          "2023-12-31T02:00:00",
          "2023-12-31T03:00:00",
          "2023-12-31T04:00:00",
          "2023-12-31T05:00:00",
          "2023-12-31T06:00:00"
         ],
         "xaxis": "x",
         "y": [
          109.618,
          108.679,
          110.609,
          111.535,
          111.848,
          111.515,
          112.803,
          111.338,
          115.123,
          112.883,
          112.185,
          111.378,
          108.22,
          107.99,
          105.653,
          108.235,
          110.165,
          109.12,
          110.073,
          109.132,
          107.356,
          107.095,
          107.298,
          105.295,
          103.533,
          104.664,
          104.727,
          105.242,
          104.665,
          105.984,
          104.984,
          104.514,
          105.334,
          104.986,
          101.238,
          101.168,
          99.438,
          99.802,
          99.039,
          100.032,
          99.309,
          101.208,
          100.184,
          100.65,
          103.789,
          101.913,
          100.173,
          102.878,
          104.692,
          104.968,
          105.253,
          106.418,
          108.228,
          105.252,
          108.558,
          109.011,
          107.944,
          107.707,
          107.293,
          107.946,
          109.32,
          106.064,
          103.945,
          103.853,
          105.581,
          105.913,
          104.925,
          104.391,
          105.095,
          106.225,
          105.944,
          106.46,
          104.906,
          103.643,
          104.203,
          104.741,
          104.622,
          103.552,
          101.449,
          101.784,
          102.098,
          102.243,
          102.985,
          102.969,
          103.992,
          104.334,
          103.47,
          103.684,
          103.3,
          103.364,
          103.428,
          102.56,
          101.891,
          101.971,
          102.717,
          101.411,
          100.738,
          100.743,
          101.974,
          101.366
         ],
         "yaxis": "y"
        },
        {
         "customdata": [
          [
           "0",
           "2023-12-27 04:00:00",
           "2023-12-27 04:00:00",
           "2023-12-27 04:00:00",
           0.9201409655959293,
           108.679,
           0,
           "Market",
           "None"
          ],
          [
           "2",
           "2023-12-28 17:00:00",
           "2023-12-28 17:00:00",
           "2023-12-28 17:00:00",
           1.8783394025893667,
           99.039,
           0,
           "Market",
           "None"
          ],
          [
           "4",
           "2023-12-31 03:00:00",
           "2023-12-31 03:00:00",
           "2023-12-31 03:00:00",
           1.9074197660925742,
           100.738,
           0,
           "Market",
           "None"
          ]
         ],
         "hovertemplate": "<br>Order Id: %{customdata[0]}\n<br>Signal Index: %{customdata[1]}\n<br>Creation Index: %{customdata[2]}\n<br>Fill Index: %{customdata[3]}\n<br>Size: %{customdata[4]:,}\n<br>Price: %{customdata[5]:,}\n<br>Fees: %{customdata[6]:,}\n<br>Type: %{customdata[7]}\n<br>Stop Type: %{customdata[8]}",
         "marker": {
          "color": "#37B13F",
          "line": {
           "color": "rgb(38,123,44)",
           "width": 1
          },
          "size": 8,
          "symbol": "triangle-up"
         },
         "mode": "markers",
         "name": "Buy",
         "type": "scatter",
         "uid": "048775a5-857c-45d3-9c2c-ba2f8b754a61",
         "x": [
          "2023-12-27T04:00:00",
          "2023-12-28T17:00:00",
          "2023-12-31T03:00:00"
         ],
         "xaxis": "x",
         "y": [
          108.679,
          99.039,
          100.738
         ],
         "yaxis": "y"
        },
        {
         "customdata": [
          [
           "1",
           "2023-12-27 11:00:00",
           "2023-12-27 11:00:00",
           "2023-12-27 11:00:00",
           1.7887771199699465,
           115.123,
           0,
           "Market",
           "None"
          ],
          [
           "3",
           "2023-12-29 15:00:00",
           "2023-12-29 15:00:00",
           "2023-12-29 15:00:00",
           1.9244489489105563,
           109.32,
           0,
           "Market",
           "None"
          ]
         ],
         "hovertemplate": "<br>Order Id: %{customdata[0]}\n<br>Signal Index: %{customdata[1]}\n<br>Creation Index: %{customdata[2]}\n<br>Fill Index: %{customdata[3]}\n<br>Size: %{customdata[4]:,}\n<br>Price: %{customdata[5]:,}\n<br>Fees: %{customdata[6]:,}\n<br>Type: %{customdata[7]}\n<br>Stop Type: %{customdata[8]}",
         "marker": {
          "color": "#EA4335",
          "line": {
           "color": "rgb(181,31,18)",
           "width": 1
          },
          "size": 8,
          "symbol": "triangle-down"
         },
         "mode": "markers",
         "name": "Sell",
         "type": "scatter",
         "uid": "9d594622-8da4-4f71-9d8c-db854e10c3ca",
         "x": [
          "2023-12-27T11:00:00",
          "2023-12-29T15:00:00"
         ],
         "xaxis": "x",
         "y": [
          115.123,
          109.32
         ],
         "yaxis": "y"
        }
       ],
       "layout": {
        "annotations": [
         {
          "font": {
           "size": 16
          },
          "showarrow": false,
          "text": "Orders",
          "x": 0.5,
          "xanchor": "center",
          "xref": "paper",
          "y": 1,
          "yanchor": "bottom",
          "yref": "paper"
         }
        ],
        "height": 430,
        "legend": {
         "orientation": "h",
         "traceorder": "normal",
         "x": 1,
         "xanchor": "right",
         "y": 1.0930232558139534,
         "yanchor": "bottom"
        },
        "margin": {
         "b": 30,
         "l": 30,
         "r": 30,
         "t": 30
        },
        "showlegend": true,
        "template": {
         "data": {
          "bar": [
           {
            "error_x": {
             "color": "#d6dfef"
            },
            "error_y": {
             "color": "#d6dfef"
            },
            "marker": {
             "line": {
              "color": "#212226",
              "width": 0.5
             }
            },
            "type": "bar"
           }
          ],
          "barpolar": [
           {
            "marker": {
             "line": {
              "color": "#212226",
              "width": 0.5
             }
            },
            "type": "barpolar"
           }
          ],
          "carpet": [
           {
            "aaxis": {
             "endlinecolor": "#A2B1C6",
             "gridcolor": "#313439",
             "linecolor": "#313439",
             "minorgridcolor": "#313439",
             "startlinecolor": "#A2B1C6"
            },
            "baxis": {
             "endlinecolor": "#A2B1C6",
             "gridcolor": "#313439",
             "linecolor": "#313439",
             "minorgridcolor": "#313439",
             "startlinecolor": "#A2B1C6"
            },
            "type": "carpet"
           }
          ],
          "choropleth": [
           {
            "colorbar": {
             "outlinewidth": 0,
             "ticks": ""
            },
            "type": "choropleth"
           }
          ],
          "contour": [
           {
            "colorbar": {
             "outlinewidth": 0,
             "ticks": ""
            },
            "colorscale": [
             [
              0,
              "#0d0887"
             ],
             [
              0.1111111111111111,
              "#46039f"
             ],
             [
              0.2222222222222222,
              "#7201a8"
             ],
             [
              0.3333333333333333,
              "#9c179e"
             ],
             [
              0.4444444444444444,
              "#bd3786"
             ],
             [
              0.5555555555555556,
              "#d8576b"
             ],
             [
              0.6666666666666666,
              "#ed7953"
             ],
             [
              0.7777777777777778,
              "#fb9f3a"
             ],
             [
              0.8888888888888888,
              "#fdca26"
             ],
             [
              1,
              "#f0f921"
             ]
            ],
            "type": "contour"
           }
          ],
          "contourcarpet": [
           {
            "colorbar": {
             "outlinewidth": 0,
             "ticks": ""
            },
            "type": "contourcarpet"
           }
          ],
          "heatmap": [
           {
            "colorbar": {
             "outlinewidth": 0,
             "ticks": ""
            },
            "colorscale": [
             [
              0,
              "#0d0887"
             ],
             [
              0.1111111111111111,
              "#46039f"
             ],
             [
              0.2222222222222222,
              "#7201a8"
             ],
             [
              0.3333333333333333,
              "#9c179e"
             ],
             [
              0.4444444444444444,
              "#bd3786"
             ],
             [
              0.5555555555555556,
              "#d8576b"
             ],
             [
              0.6666666666666666,
              "#ed7953"
             ],
             [
              0.7777777777777778,
              "#fb9f3a"
             ],
             [
              0.8888888888888888,
              "#fdca26"
             ],
             [
              1,
              "#f0f921"
             ]
            ],
            "type": "heatmap"
           }
          ],
          "heatmapgl": [
           {
            "colorbar": {
             "outlinewidth": 0,
             "ticks": ""
            },
            "colorscale": [
             [
              0,
              "#0d0887"
             ],
             [
              0.1111111111111111,
              "#46039f"
             ],
             [
              0.2222222222222222,
              "#7201a8"
             ],
             [
              0.3333333333333333,
              "#9c179e"
             ],
             [
              0.4444444444444444,
              "#bd3786"
             ],
             [
              0.5555555555555556,
              "#d8576b"
             ],
             [
              0.6666666666666666,
              "#ed7953"
             ],
             [
              0.7777777777777778,
              "#fb9f3a"
             ],
             [
              0.8888888888888888,
              "#fdca26"
             ],
             [
              1,
              "#f0f921"
             ]
            ],
            "type": "heatmapgl"
           }
          ],
          "histogram": [
           {
            "marker": {
             "colorbar": {
              "outlinewidth": 0,
              "ticks": ""
             }
            },
            "type": "histogram"
           }
          ],
          "histogram2d": [
           {
            "colorbar": {
             "outlinewidth": 0,
             "ticks": ""
            },
            "colorscale": [
             [
              0,
              "#0d0887"
             ],
             [
              0.1111111111111111,
              "#46039f"
             ],
             [
              0.2222222222222222,
              "#7201a8"
             ],
             [
              0.3333333333333333,
              "#9c179e"
             ],
             [
              0.4444444444444444,
              "#bd3786"
             ],
             [
              0.5555555555555556,
              "#d8576b"
             ],
             [
              0.6666666666666666,
              "#ed7953"
             ],
             [
              0.7777777777777778,
              "#fb9f3a"
             ],
             [
              0.8888888888888888,
              "#fdca26"
             ],
             [
              1,
              "#f0f921"
             ]
            ],
            "type": "histogram2d"
           }
          ],
          "histogram2dcontour": [
           {
            "colorbar": {
             "outlinewidth": 0,
             "ticks": ""
            },
            "colorscale": [
             [
              0,
              "#0d0887"
             ],
             [
              0.1111111111111111,
              "#46039f"
             ],
             [
              0.2222222222222222,
              "#7201a8"
             ],
             [
              0.3333333333333333,
              "#9c179e"
             ],
             [
              0.4444444444444444,
              "#bd3786"
             ],
             [
              0.5555555555555556,
              "#d8576b"
             ],
             [
              0.6666666666666666,
              "#ed7953"
             ],
             [
              0.7777777777777778,
              "#fb9f3a"
             ],
             [
              0.8888888888888888,
              "#fdca26"
             ],
             [
              1,
              "#f0f921"
             ]
            ],
            "type": "histogram2dcontour"
           }
          ],
          "mesh3d": [
           {
            "colorbar": {
             "outlinewidth": 0,
             "ticks": ""
            },
            "type": "mesh3d"
           }
          ],
          "parcoords": [
           {
            "line": {
             "colorbar": {
              "outlinewidth": 0,
              "ticks": ""
             }
            },
            "type": "parcoords"
           }
          ],
          "pie": [
           {
            "automargin": true,
            "type": "pie"
           }
          ],
          "scatter": [
           {
            "marker": {
             "line": {
              "color": "#313439"
             }
            },
            "type": "scatter"
           }
          ],
          "scatter3d": [
           {
            "line": {
             "colorbar": {
              "outlinewidth": 0,
              "ticks": ""
             }
            },
            "marker": {
             "colorbar": {
              "outlinewidth": 0,
              "ticks": ""
             }
            },
            "type": "scatter3d"
           }
          ],
          "scattercarpet": [
           {
            "marker": {
             "colorbar": {
              "outlinewidth": 0,
              "ticks": ""
             }
            },
            "type": "scattercarpet"
           }
          ],
          "scattergeo": [
           {
            "marker": {
             "colorbar": {
              "outlinewidth": 0,
              "ticks": ""
             }
            },
            "type": "scattergeo"
           }
          ],
          "scattergl": [
           {
            "marker": {
             "line": {
              "color": "#313439"
             }
            },
            "type": "scattergl"
           }
          ],
          "scattermapbox": [
           {
            "marker": {
             "colorbar": {
              "outlinewidth": 0,
              "ticks": ""
             }
            },
            "type": "scattermapbox"
           }
          ],
          "scatterpolar": [
           {
            "marker": {
             "colorbar": {
              "outlinewidth": 0,
              "ticks": ""
             }
            },
            "type": "scatterpolar"
           }
          ],
          "scatterpolargl": [
           {
            "marker": {
             "colorbar": {
              "outlinewidth": 0,
              "ticks": ""
             }
            },
            "type": "scatterpolargl"
           }
          ],
          "scatterternary": [
           {
            "marker": {
             "colorbar": {
              "outlinewidth": 0,
              "ticks": ""
             }
            },
            "type": "scatterternary"
           }
          ],
          "surface": [
           {
            "colorbar": {
             "outlinewidth": 0,
             "ticks": ""
            },
            "colorscale": [
             [
              0,
              "#0d0887"
             ],
             [
              0.1111111111111111,
              "#46039f"
             ],
             [
              0.2222222222222222,
              "#7201a8"
             ],
             [
              0.3333333333333333,
              "#9c179e"
             ],
             [
              0.4444444444444444,
              "#bd3786"
             ],
             [
              0.5555555555555556,
              "#d8576b"
             ],
             [
              0.6666666666666666,
              "#ed7953"
             ],
             [
              0.7777777777777778,
              "#fb9f3a"
             ],
             [
              0.8888888888888888,
              "#fdca26"
             ],
             [
              1,
              "#f0f921"
             ]
            ],
            "type": "surface"
           }
          ],
          "table": [
           {
            "cells": {
             "fill": {
              "color": "#313439"
             },
             "line": {
              "color": "#212226"
             }
            },
            "header": {
             "fill": {
              "color": "#2a3f5f"
             },
             "line": {
              "color": "#212226"
             }
            },
            "type": "table"
           }
          ]
         },
         "layout": {
          "annotationdefaults": {
           "arrowcolor": "#d6dfef",
           "arrowhead": 0,
           "arrowwidth": 1
          },
          "coloraxis": {
           "colorbar": {
            "outlinewidth": 0,
            "ticks": ""
           }
          },
          "colorscale": {
           "diverging": [
            [
             0,
             "#8e0152"
            ],
            [
             0.1,
             "#c51b7d"
            ],
            [
             0.2,
             "#de77ae"
            ],
            [
             0.3,
             "#f1b6da"
            ],
            [
             0.4,
             "#fde0ef"
            ],
            [
             0.5,
             "#f7f7f7"
            ],
            [
             0.6,
             "#e6f5d0"
            ],
            [
             0.7,
             "#b8e186"
            ],
            [
             0.8,
             "#7fbc41"
            ],
            [
             0.9,
             "#4d9221"
            ],
            [
             1,
             "#276419"
            ]
           ],
           "sequential": [
            [
             0,
             "#0d0887"
            ],
            [
             0.1111111111111111,
             "#46039f"
            ],
            [
             0.2222222222222222,
             "#7201a8"
            ],
            [
             0.3333333333333333,
             "#9c179e"
            ],
            [
             0.4444444444444444,
             "#bd3786"
            ],
            [
             0.5555555555555556,
             "#d8576b"
            ],
            [
             0.6666666666666666,
             "#ed7953"
            ],
            [
             0.7777777777777778,
             "#fb9f3a"
            ],
            [
             0.8888888888888888,
             "#fdca26"
            ],
            [
             1,
             "#f0f921"
            ]
           ],
           "sequentialminus": [
            [
             0,
             "#0d0887"
            ],
            [
             0.1111111111111111,
             "#46039f"
            ],
            [
             0.2222222222222222,
             "#7201a8"
            ],
            [
             0.3333333333333333,
             "#9c179e"
            ],
            [
             0.4444444444444444,
             "#bd3786"
            ],
            [
             0.5555555555555556,
             "#d8576b"
            ],
            [
             0.6666666666666666,
             "#ed7953"
            ],
            [
             0.7777777777777778,
             "#fb9f3a"
            ],
            [
             0.8888888888888888,
             "#fdca26"
            ],
            [
             1,
             "#f0f921"
            ]
           ]
          },
          "colorway": [
           "#1f77b4",
           "#ff7f0e",
           "#2ca02c",
           "#dc3912",
           "#9467bd",
           "#8c564b",
           "#e377c2",
           "#7f7f7f",
           "#bcbd22",
           "#17becf"
          ],
          "font": {
           "color": "#d6dfef"
          },
          "geo": {
           "bgcolor": "#212226",
           "lakecolor": "#212226",
           "landcolor": "#212226",
           "showlakes": true,
           "showland": true,
           "subunitcolor": "#313439"
          },
          "hoverlabel": {
           "align": "left"
          },
          "hovermode": "closest",
          "mapbox": {
           "style": "dark"
          },
          "paper_bgcolor": "#212226",
          "plot_bgcolor": "#212226",
          "polar": {
           "angularaxis": {
            "gridcolor": "#313439",
            "linecolor": "#313439",
            "ticks": ""
           },
           "bgcolor": "#212226",
           "radialaxis": {
            "gridcolor": "#313439",
            "linecolor": "#313439",
            "ticks": ""
           }
          },
          "scene": {
           "xaxis": {
            "backgroundcolor": "#212226",
            "gridcolor": "#313439",
            "gridwidth": 2,
            "linecolor": "#313439",
            "showbackground": true,
            "ticks": "",
            "zerolinecolor": "#aec0d6"
           },
           "yaxis": {
            "backgroundcolor": "#212226",
            "gridcolor": "#313439",
            "gridwidth": 2,
            "linecolor": "#313439",
            "showbackground": true,
            "ticks": "",
            "zerolinecolor": "#aec0d6"
           },
           "zaxis": {
            "backgroundcolor": "#212226",
            "gridcolor": "#313439",
            "gridwidth": 2,
            "linecolor": "#313439",
            "showbackground": true,
            "ticks": "",
            "zerolinecolor": "#aec0d6"
           }
          },
          "shapedefaults": {
           "line": {
            "color": "#d6dfef"
           }
          },
          "sliderdefaults": {
           "bgcolor": "#aec0d6",
           "bordercolor": "#212226",
           "borderwidth": 1,
           "tickwidth": 0
          },
          "ternary": {
           "aaxis": {
            "gridcolor": "#313439",
            "linecolor": "#313439",
            "ticks": ""
           },
           "baxis": {
            "gridcolor": "#313439",
            "linecolor": "#313439",
            "ticks": ""
           },
           "bgcolor": "#212226",
           "caxis": {
            "gridcolor": "#313439",
            "linecolor": "#313439",
            "ticks": ""
           }
          },
          "title": {
           "x": 0.05
          },
          "updatemenudefaults": {
           "bgcolor": "#313439",
           "borderwidth": 0
          },
          "xaxis": {
           "automargin": true,
           "gridcolor": "#313439",
           "linecolor": "#313439",
           "ticks": "",
           "title": {
            "standoff": 15
           },
           "zerolinecolor": "#313439",
           "zerolinewidth": 2
          },
          "yaxis": {
           "automargin": true,
           "gridcolor": "#313439",
           "linecolor": "#313439",
           "ticks": "",
           "title": {
            "standoff": 15
           },
           "zerolinecolor": "#313439",
           "zerolinewidth": 2
          }
         }
        },
        "width": 850,
        "xaxis": {
         "anchor": "y",
         "domain": [
          0,
          1
         ],
         "title": {
          "text": "Index"
         }
        },
        "yaxis": {
         "anchor": "x",
         "domain": [
          0,
          1
         ],
         "title": {
          "text": "Price"
         }
        }
       }
      }
     },
     "metadata": {},
     "output_type": "display_data"
    }
   ],
   "source": [
    "pf.plot({\"orders\"}).show()"
   ]
  },
  {
   "cell_type": "code",
   "execution_count": null,
   "metadata": {},
   "outputs": [],
   "source": []
  }
 ],
 "metadata": {
  "kernelspec": {
   "display_name": "vectorbtpro",
   "language": "python",
   "name": "python3"
  },
  "language_info": {
   "codemirror_mode": {
    "name": "ipython",
    "version": 3
   },
   "file_extension": ".py",
   "mimetype": "text/x-python",
   "name": "python",
   "nbconvert_exporter": "python",
   "pygments_lexer": "ipython3",
   "version": "3.10.13"
  }
 },
 "nbformat": 4,
 "nbformat_minor": 2
}
