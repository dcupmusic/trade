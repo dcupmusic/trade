{
 "cells": [
  {
   "cell_type": "markdown",
   "metadata": {
    "_cell_guid": "fc7bf9a0-e26b-4de5-8db7-7a410a9c31d1",
    "_uuid": "91e741e3-0b5a-4d10-a22e-fab5924337e5"
   },
   "source": [
    "In this notebook we will be building and training LSTM to predict IBM stock. We will use PyTorch."
   ]
  },
  {
   "cell_type": "markdown",
   "metadata": {},
   "source": [
    "## 1. Libraries and settings"
   ]
  },
  {
   "cell_type": "code",
   "execution_count": 1,
   "metadata": {},
   "outputs": [],
   "source": [
    "import numpy as np\n",
    "import random\n",
    "import pandas as pd \n",
    "from pylab import mpl, plt\n",
    "plt.style.use('seaborn-v0_8-darkgrid')\n",
    "mpl.rcParams['font.family'] = 'serif'\n",
    "%matplotlib inline\n",
    "\n",
    "import math, time\n",
    "import itertools\n",
    "import datetime\n",
    "from operator import itemgetter\n",
    "from sklearn.metrics import mean_squared_error\n",
    "from sklearn.preprocessing import MinMaxScaler\n",
    "from math import sqrt\n",
    "import torch\n",
    "import torch.nn as nn\n",
    "from torch.autograd import Variable\n",
    "\n",
    "\n"
   ]
  },
  {
   "cell_type": "markdown",
   "metadata": {},
   "source": [
    "## 2. Load data"
   ]
  },
  {
   "cell_type": "code",
   "execution_count": 2,
   "metadata": {},
   "outputs": [],
   "source": [
    "def stocks_data(symbols, dates):\n",
    "    df = pd.DataFrame(index=dates)\n",
    "    for symbol in symbols:\n",
    "        df_temp = pd.read_csv(\"../input/Data/Stocks/{}.us.txt\".format(symbol), index_col='Date',\n",
    "                parse_dates=True, usecols=['Date', 'Close'], na_values=['nan'])\n",
    "        df_temp = df_temp.rename(columns={'Close': symbol})\n",
    "        df = df.join(df_temp)\n",
    "    return df"
   ]
  },
  {
   "cell_type": "code",
   "execution_count": 3,
   "metadata": {},
   "outputs": [
    {
     "name": "stderr",
     "output_type": "stream",
     "text": [
      "/var/folders/x1/twdts0414gn1_4rw0fsqsphm0000gn/T/ipykernel_19825/2938606158.py:5: FutureWarning: DataFrame.fillna with 'method' is deprecated and will raise in a future version. Use obj.ffill() or obj.bfill() instead.\n",
      "  df.fillna(method='pad')\n"
     ]
    },
    {
     "data": {
      "text/html": [
       "<div>\n",
       "<style scoped>\n",
       "    .dataframe tbody tr th:only-of-type {\n",
       "        vertical-align: middle;\n",
       "    }\n",
       "\n",
       "    .dataframe tbody tr th {\n",
       "        vertical-align: top;\n",
       "    }\n",
       "\n",
       "    .dataframe thead th {\n",
       "        text-align: right;\n",
       "    }\n",
       "</style>\n",
       "<table border=\"1\" class=\"dataframe\">\n",
       "  <thead>\n",
       "    <tr style=\"text-align: right;\">\n",
       "      <th></th>\n",
       "      <th>Close</th>\n",
       "    </tr>\n",
       "    <tr>\n",
       "      <th>timestamp</th>\n",
       "      <th></th>\n",
       "    </tr>\n",
       "  </thead>\n",
       "  <tbody>\n",
       "    <tr>\n",
       "      <th>2022-01-01 04:00:00</th>\n",
       "      <td>172.930</td>\n",
       "    </tr>\n",
       "    <tr>\n",
       "      <th>2022-01-01 05:00:00</th>\n",
       "      <td>171.470</td>\n",
       "    </tr>\n",
       "    <tr>\n",
       "      <th>2022-01-01 06:00:00</th>\n",
       "      <td>173.220</td>\n",
       "    </tr>\n",
       "    <tr>\n",
       "      <th>2022-01-01 07:00:00</th>\n",
       "      <td>172.470</td>\n",
       "    </tr>\n",
       "    <tr>\n",
       "      <th>2022-01-01 08:00:00</th>\n",
       "      <td>173.160</td>\n",
       "    </tr>\n",
       "    <tr>\n",
       "      <th>...</th>\n",
       "      <td>...</td>\n",
       "    </tr>\n",
       "    <tr>\n",
       "      <th>2023-12-31 02:00:00</th>\n",
       "      <td>101.411</td>\n",
       "    </tr>\n",
       "    <tr>\n",
       "      <th>2023-12-31 03:00:00</th>\n",
       "      <td>100.738</td>\n",
       "    </tr>\n",
       "    <tr>\n",
       "      <th>2023-12-31 04:00:00</th>\n",
       "      <td>100.743</td>\n",
       "    </tr>\n",
       "    <tr>\n",
       "      <th>2023-12-31 05:00:00</th>\n",
       "      <td>101.974</td>\n",
       "    </tr>\n",
       "    <tr>\n",
       "      <th>2023-12-31 06:00:00</th>\n",
       "      <td>101.366</td>\n",
       "    </tr>\n",
       "  </tbody>\n",
       "</table>\n",
       "<p>17499 rows × 1 columns</p>\n",
       "</div>"
      ],
      "text/plain": [
       "                       Close\n",
       "timestamp                   \n",
       "2022-01-01 04:00:00  172.930\n",
       "2022-01-01 05:00:00  171.470\n",
       "2022-01-01 06:00:00  173.220\n",
       "2022-01-01 07:00:00  172.470\n",
       "2022-01-01 08:00:00  173.160\n",
       "...                      ...\n",
       "2023-12-31 02:00:00  101.411\n",
       "2023-12-31 03:00:00  100.738\n",
       "2023-12-31 04:00:00  100.743\n",
       "2023-12-31 05:00:00  101.974\n",
       "2023-12-31 06:00:00  101.366\n",
       "\n",
       "[17499 rows x 1 columns]"
      ]
     },
     "execution_count": 3,
     "metadata": {},
     "output_type": "execute_result"
    }
   ],
   "source": [
    "df = pd.read_csv('2ySOLdata1h.csv')\n",
    "df['timestamp'] = pd.to_datetime(df['timestamp'], unit='s')\n",
    "df.set_index('timestamp', inplace=True)\n",
    "df.drop(columns=df.columns.difference(['Close']), inplace=True)\n",
    "df.fillna(method='pad')\n",
    "df"
   ]
  },
  {
   "cell_type": "code",
   "execution_count": 4,
   "metadata": {},
   "outputs": [
    {
     "data": {
      "text/html": [
       "<div>\n",
       "<style scoped>\n",
       "    .dataframe tbody tr th:only-of-type {\n",
       "        vertical-align: middle;\n",
       "    }\n",
       "\n",
       "    .dataframe tbody tr th {\n",
       "        vertical-align: top;\n",
       "    }\n",
       "\n",
       "    .dataframe thead th {\n",
       "        text-align: right;\n",
       "    }\n",
       "</style>\n",
       "<table border=\"1\" class=\"dataframe\">\n",
       "  <thead>\n",
       "    <tr style=\"text-align: right;\">\n",
       "      <th></th>\n",
       "      <th>Close</th>\n",
       "    </tr>\n",
       "    <tr>\n",
       "      <th>timestamp</th>\n",
       "      <th></th>\n",
       "    </tr>\n",
       "  </thead>\n",
       "  <tbody>\n",
       "    <tr>\n",
       "      <th>2022-01-01 04:00:00</th>\n",
       "      <td>172.93</td>\n",
       "    </tr>\n",
       "    <tr>\n",
       "      <th>2022-01-01 05:00:00</th>\n",
       "      <td>171.47</td>\n",
       "    </tr>\n",
       "    <tr>\n",
       "      <th>2022-01-01 06:00:00</th>\n",
       "      <td>173.22</td>\n",
       "    </tr>\n",
       "    <tr>\n",
       "      <th>2022-01-01 07:00:00</th>\n",
       "      <td>172.47</td>\n",
       "    </tr>\n",
       "    <tr>\n",
       "      <th>2022-01-01 08:00:00</th>\n",
       "      <td>173.16</td>\n",
       "    </tr>\n",
       "  </tbody>\n",
       "</table>\n",
       "</div>"
      ],
      "text/plain": [
       "                      Close\n",
       "timestamp                  \n",
       "2022-01-01 04:00:00  172.93\n",
       "2022-01-01 05:00:00  171.47\n",
       "2022-01-01 06:00:00  173.22\n",
       "2022-01-01 07:00:00  172.47\n",
       "2022-01-01 08:00:00  173.16"
      ]
     },
     "execution_count": 4,
     "metadata": {},
     "output_type": "execute_result"
    }
   ],
   "source": [
    "df.head()"
   ]
  },
  {
   "cell_type": "code",
   "execution_count": 5,
   "metadata": {},
   "outputs": [
    {
     "name": "stdout",
     "output_type": "stream",
     "text": [
      "<class 'pandas.core.frame.DataFrame'>\n",
      "DatetimeIndex: 17499 entries, 2022-01-01 04:00:00 to 2023-12-31 06:00:00\n",
      "Data columns (total 1 columns):\n",
      " #   Column  Non-Null Count  Dtype  \n",
      "---  ------  --------------  -----  \n",
      " 0   Close   17499 non-null  float64\n",
      "dtypes: float64(1)\n",
      "memory usage: 273.4 KB\n"
     ]
    }
   ],
   "source": [
    "df_sol=df[['Close']]\n",
    "df_sol.info()"
   ]
  },
  {
   "cell_type": "code",
   "execution_count": 6,
   "metadata": {},
   "outputs": [
    {
     "name": "stderr",
     "output_type": "stream",
     "text": [
      "/var/folders/x1/twdts0414gn1_4rw0fsqsphm0000gn/T/ipykernel_19825/2689664548.py:1: FutureWarning: DataFrame.fillna with 'method' is deprecated and will raise in a future version. Use obj.ffill() or obj.bfill() instead.\n",
      "  df_sol=df_sol.fillna(method='ffill')\n"
     ]
    }
   ],
   "source": [
    "df_sol=df_sol.fillna(method='ffill')\n",
    "\n",
    "scaler = MinMaxScaler(feature_range=(-1, 1))\n",
    "df_sol['Close'] = scaler.fit_transform(df_sol['Close'].values.reshape(-1,1))\n",
    "#df_ibm"
   ]
  },
  {
   "cell_type": "code",
   "execution_count": 7,
   "metadata": {},
   "outputs": [
    {
     "name": "stdout",
     "output_type": "stream",
     "text": [
      "x_train.shape =  (13951, 59, 1)\n",
      "y_train.shape =  (13951, 1)\n",
      "x_test.shape =  (3488, 59, 1)\n",
      "y_test.shape =  (3488, 1)\n"
     ]
    }
   ],
   "source": [
    "# function to create train, test data given stock data and sequence length\n",
    "def load_data(stock, look_back):\n",
    "    data_raw = stock.values # convert to numpy array\n",
    "    data = []\n",
    "    \n",
    "    # create all possible sequences of length look_back\n",
    "    for index in range(len(data_raw) - look_back): \n",
    "        data.append(data_raw[index: index + look_back])\n",
    "    \n",
    "    data = np.array(data);\n",
    "    test_set_size = int(np.round(0.2*data.shape[0]));\n",
    "    train_set_size = data.shape[0] - (test_set_size);\n",
    "    \n",
    "    x_train = data[:train_set_size,:-1,:]\n",
    "    y_train = data[:train_set_size,-1,:]\n",
    "    \n",
    "    x_test = data[train_set_size:,:-1]\n",
    "    y_test = data[train_set_size:,-1,:]\n",
    "    \n",
    "    return [x_train, y_train, x_test, y_test]\n",
    "\n",
    "look_back = 60 # choose sequence length\n",
    "x_train, y_train, x_test, y_test = load_data(df_sol, look_back)\n",
    "print('x_train.shape = ',x_train.shape)\n",
    "print('y_train.shape = ',y_train.shape)\n",
    "print('x_test.shape = ',x_test.shape)\n",
    "print('y_test.shape = ',y_test.shape)"
   ]
  },
  {
   "cell_type": "code",
   "execution_count": 9,
   "metadata": {},
   "outputs": [
    {
     "name": "stdout",
     "output_type": "stream",
     "text": [
      "x_train.shape =  float64\n",
      "y_train.shape =  float64\n",
      "x_test.shape =  float64\n",
      "y_test.shape =  float64\n"
     ]
    }
   ],
   "source": [
    "print('x_train.shape = ',x_train.dtype)\n",
    "print('y_train.shape = ',y_train.dtype)\n",
    "print('x_test.shape = ',x_test.dtype)\n",
    "print('y_test.shape = ',y_test.dtype)"
   ]
  },
  {
   "cell_type": "code",
   "execution_count": 37,
   "metadata": {},
   "outputs": [],
   "source": [
    "# make training and test sets in torch\n",
    "x_train = torch.from_numpy(x_train).type(torch.Tensor)\n",
    "x_test = torch.from_numpy(x_test).type(torch.Tensor)\n",
    "y_train = torch.from_numpy(y_train).type(torch.Tensor)\n",
    "y_test = torch.from_numpy(y_test).type(torch.Tensor)"
   ]
  },
  {
   "cell_type": "code",
   "execution_count": 10,
   "metadata": {},
   "outputs": [
    {
     "data": {
      "text/plain": [
       "array([[-0.82700741],\n",
       "       [-0.82698399],\n",
       "       [-0.82596528],\n",
       "       ...,\n",
       "       [ 0.0830245 ],\n",
       "       [ 0.08308305],\n",
       "       [ 0.09749715]])"
      ]
     },
     "execution_count": 10,
     "metadata": {},
     "output_type": "execute_result"
    }
   ],
   "source": [
    "y_test"
   ]
  },
  {
   "cell_type": "code",
   "execution_count": 15,
   "metadata": {},
   "outputs": [
    {
     "data": {
      "text/plain": [
       "(torch.Size([13951, 1]), torch.Size([13951, 59, 1]))"
      ]
     },
     "execution_count": 15,
     "metadata": {},
     "output_type": "execute_result"
    }
   ],
   "source": [
    "y_train.size(),x_train.size()"
   ]
  },
  {
   "cell_type": "markdown",
   "metadata": {},
   "source": [
    "## 3. Build the structure of model"
   ]
  },
  {
   "cell_type": "code",
   "execution_count": 16,
   "metadata": {},
   "outputs": [
    {
     "name": "stdout",
     "output_type": "stream",
     "text": [
      "LSTM(\n",
      "  (lstm): LSTM(1, 32, num_layers=2, batch_first=True)\n",
      "  (fc): Linear(in_features=32, out_features=1, bias=True)\n",
      ")\n",
      "10\n",
      "torch.Size([128, 1])\n",
      "torch.Size([128, 32])\n",
      "torch.Size([128])\n",
      "torch.Size([128])\n",
      "torch.Size([128, 32])\n",
      "torch.Size([128, 32])\n",
      "torch.Size([128])\n",
      "torch.Size([128])\n",
      "torch.Size([1, 32])\n",
      "torch.Size([1])\n"
     ]
    }
   ],
   "source": [
    "# Build model\n",
    "#####################\n",
    "input_dim = 1\n",
    "hidden_dim = 32\n",
    "num_layers = 2 \n",
    "output_dim = 1\n",
    "\n",
    "\n",
    "# Here we define our model as a class\n",
    "class LSTM(nn.Module):\n",
    "    def __init__(self, input_dim, hidden_dim, num_layers, output_dim):\n",
    "        super(LSTM, self).__init__()\n",
    "        # Hidden dimensions\n",
    "        self.hidden_dim = hidden_dim\n",
    "\n",
    "        # Number of hidden layers\n",
    "        self.num_layers = num_layers\n",
    "\n",
    "        # batch_first=True causes input/output tensors to be of shape\n",
    "        # (batch_dim, seq_dim, feature_dim)\n",
    "        self.lstm = nn.LSTM(input_dim, hidden_dim, num_layers, batch_first=True)\n",
    "\n",
    "        # Readout layer\n",
    "        self.fc = nn.Linear(hidden_dim, output_dim)\n",
    "\n",
    "    def forward(self, x):\n",
    "        # Initialize hidden state with zeros\n",
    "        h0 = torch.zeros(self.num_layers, x.size(0), self.hidden_dim).requires_grad_()\n",
    "\n",
    "        # Initialize cell state\n",
    "        c0 = torch.zeros(self.num_layers, x.size(0), self.hidden_dim).requires_grad_()\n",
    "\n",
    "        # We need to detach as we are doing truncated backpropagation through time (BPTT)\n",
    "        # If we don't, we'll backprop all the way to the start even after going through another batch\n",
    "        out, (hn, cn) = self.lstm(x, (h0.detach(), c0.detach()))\n",
    "\n",
    "        # Index hidden state of last time step\n",
    "        # out.size() --> 100, 32, 100\n",
    "        # out[:, -1, :] --> 100, 100 --> just want last time step hidden states! \n",
    "        out = self.fc(out[:, -1, :]) \n",
    "        # out.size() --> 100, 10\n",
    "        return out\n",
    "    \n",
    "model = LSTM(input_dim=input_dim, hidden_dim=hidden_dim, output_dim=output_dim, num_layers=num_layers)\n",
    "\n",
    "loss_fn = torch.nn.MSELoss()\n",
    "\n",
    "optimiser = torch.optim.Adam(model.parameters(), lr=0.01)\n",
    "print(model)\n",
    "print(len(list(model.parameters())))\n",
    "for i in range(len(list(model.parameters()))):\n",
    "    print(list(model.parameters())[i].size())"
   ]
  },
  {
   "cell_type": "code",
   "execution_count": 11,
   "metadata": {},
   "outputs": [
    {
     "data": {
      "text/plain": [
       "59"
      ]
     },
     "execution_count": 11,
     "metadata": {},
     "output_type": "execute_result"
    }
   ],
   "source": [
    "look_back-1"
   ]
  },
  {
   "cell_type": "code",
   "execution_count": 18,
   "metadata": {},
   "outputs": [
    {
     "name": "stdout",
     "output_type": "stream",
     "text": [
      "Epoch  0 MSE:  0.14642484486103058\n",
      "Epoch  1 MSE:  0.21629904210567474\n",
      "Epoch  2 MSE:  0.13370008766651154\n",
      "Epoch  3 MSE:  0.12062379717826843\n",
      "Epoch  4 MSE:  0.12625965476036072\n",
      "Epoch  5 MSE:  0.1275855153799057\n",
      "Epoch  6 MSE:  0.11958354711532593\n",
      "Epoch  7 MSE:  0.10170003771781921\n",
      "Epoch  8 MSE:  0.07612790912389755\n",
      "Epoch  9 MSE:  0.05207287147641182\n",
      "Epoch  10 MSE:  0.04895942285656929\n",
      "Epoch  11 MSE:  0.04434112459421158\n",
      "Epoch  12 MSE:  0.014506455510854721\n",
      "Epoch  13 MSE:  0.0094843665137887\n",
      "Epoch  14 MSE:  0.026623552665114403\n",
      "Epoch  15 MSE:  0.02880322001874447\n",
      "Epoch  16 MSE:  0.01873287558555603\n",
      "Epoch  17 MSE:  0.008283215574920177\n",
      "Epoch  18 MSE:  0.004343805368989706\n",
      "Epoch  19 MSE:  0.008555678650736809\n",
      "Epoch  20 MSE:  0.013980218209326267\n",
      "Epoch  21 MSE:  0.01328964065760374\n",
      "Epoch  22 MSE:  0.008799939416348934\n",
      "Epoch  23 MSE:  0.0059342836029827595\n",
      "Epoch  24 MSE:  0.005804710555821657\n",
      "Epoch  25 MSE:  0.00648298766463995\n",
      "Epoch  26 MSE:  0.00628210324794054\n",
      "Epoch  27 MSE:  0.005089716520160437\n",
      "Epoch  28 MSE:  0.0040212697349488735\n",
      "Epoch  29 MSE:  0.0040701404213905334\n",
      "Epoch  30 MSE:  0.0048458934761583805\n",
      "Epoch  31 MSE:  0.0050681037828326225\n",
      "Epoch  32 MSE:  0.0042002093978226185\n",
      "Epoch  33 MSE:  0.0028963179793208838\n",
      "Epoch  34 MSE:  0.0021444770973175764\n",
      "Epoch  35 MSE:  0.0023293481208384037\n",
      "Epoch  36 MSE:  0.003035601694136858\n",
      "Epoch  37 MSE:  0.003541431622579694\n",
      "Epoch  38 MSE:  0.0033985201735049486\n",
      "Epoch  39 MSE:  0.002685524756088853\n",
      "Epoch  40 MSE:  0.0018817372620105743\n",
      "Epoch  41 MSE:  0.0014779568882659078\n",
      "Epoch  42 MSE:  0.001573509187437594\n",
      "Epoch  43 MSE:  0.0018208044348284602\n",
      "Epoch  44 MSE:  0.0018355114152655005\n",
      "Epoch  45 MSE:  0.0016079535707831383\n",
      "Epoch  46 MSE:  0.0013995601329952478\n",
      "Epoch  47 MSE:  0.0013363208854570985\n",
      "Epoch  48 MSE:  0.0012857163092121482\n",
      "Epoch  49 MSE:  0.001112068654038012\n",
      "Epoch  50 MSE:  0.0008997261174954474\n",
      "Epoch  51 MSE:  0.0008470165194012225\n",
      "Epoch  52 MSE:  0.0009765963768586516\n",
      "Epoch  53 MSE:  0.0010644437279552221\n",
      "Epoch  54 MSE:  0.0009326040162704885\n",
      "Epoch  55 MSE:  0.000694882997777313\n",
      "Epoch  56 MSE:  0.0005770677817054093\n",
      "Epoch  57 MSE:  0.0006092179683037102\n",
      "Epoch  58 MSE:  0.0006412328802980483\n",
      "Epoch  59 MSE:  0.0005885286955162883\n",
      "Epoch  60 MSE:  0.0005237511941231787\n",
      "Epoch  61 MSE:  0.0005173225654289126\n",
      "Epoch  62 MSE:  0.000509522098582238\n",
      "Epoch  63 MSE:  0.00042968904017470777\n",
      "Epoch  64 MSE:  0.00033983029425144196\n",
      "Epoch  65 MSE:  0.00033419678220525384\n",
      "Epoch  66 MSE:  0.0003823837323579937\n",
      "Epoch  67 MSE:  0.000384519255021587\n",
      "Epoch  68 MSE:  0.00032367053790949285\n",
      "Epoch  69 MSE:  0.00027286235126666725\n",
      "Epoch  70 MSE:  0.00027059135027229786\n",
      "Epoch  71 MSE:  0.0002755892928689718\n",
      "Epoch  72 MSE:  0.00025856035063043237\n",
      "Epoch  73 MSE:  0.0002470145118422806\n",
      "Epoch  74 MSE:  0.0002528615586925298\n",
      "Epoch  75 MSE:  0.00024417723761871457\n",
      "Epoch  76 MSE:  0.00021276042389217764\n",
      "Epoch  77 MSE:  0.0001966705749509856\n",
      "Epoch  78 MSE:  0.00021136818395461887\n",
      "Epoch  79 MSE:  0.00022064340009819716\n",
      "Epoch  80 MSE:  0.00020347473036963493\n",
      "Epoch  81 MSE:  0.0001865826634457335\n",
      "Epoch  82 MSE:  0.00018762236868496984\n",
      "Epoch  83 MSE:  0.0001895650348160416\n",
      "Epoch  84 MSE:  0.00018381014524493366\n",
      "Epoch  85 MSE:  0.00018309784354642034\n",
      "Epoch  86 MSE:  0.00018655126041267067\n",
      "Epoch  87 MSE:  0.00018049307982437313\n",
      "Epoch  88 MSE:  0.0001713259262032807\n",
      "Epoch  89 MSE:  0.00017361357458867133\n",
      "Epoch  90 MSE:  0.000179860697244294\n",
      "Epoch  91 MSE:  0.00017702790501061827\n",
      "Epoch  92 MSE:  0.0001710753422230482\n",
      "Epoch  93 MSE:  0.0001708616764517501\n",
      "Epoch  94 MSE:  0.00017152477812487632\n",
      "Epoch  95 MSE:  0.00016957467596512288\n",
      "Epoch  96 MSE:  0.00016982054512482136\n",
      "Epoch  97 MSE:  0.0001712054800009355\n",
      "Epoch  98 MSE:  0.000168661106727086\n",
      "Epoch  99 MSE:  0.00016563331882935017\n"
     ]
    }
   ],
   "source": [
    "# Train model\n",
    "#####################\n",
    "num_epochs = 100\n",
    "hist = np.zeros(num_epochs)\n",
    "\n",
    "# Number of steps to unroll\n",
    "seq_dim =look_back-1  \n",
    "\n",
    "for t in range(num_epochs):\n",
    "    # Initialise hidden state\n",
    "    # Don't do this if you want your LSTM to be stateful\n",
    "    #model.hidden = model.init_hidden()\n",
    "    \n",
    "    # Forward pass\n",
    "    y_train_pred = model(x_train)\n",
    "\n",
    "    loss = loss_fn(y_train_pred, y_train)\n",
    "    # if t % 10 == 0 and t !=0:\n",
    "    print(\"Epoch \", t, \"MSE: \", loss.item())\n",
    "    hist[t] = loss.item()\n",
    "\n",
    "    # Zero out gradient, else they will accumulate between epochs\n",
    "    optimiser.zero_grad()\n",
    "\n",
    "    # Backward pass\n",
    "    loss.backward()\n",
    "\n",
    "    # Update parameters\n",
    "    optimiser.step()"
   ]
  },
  {
   "cell_type": "code",
   "execution_count": 19,
   "metadata": {},
   "outputs": [
    {
     "data": {
      "image/png": "[encoded data removed]",
      "text/plain": [
       "<Figure size 640x480 with 1 Axes>"
      ]
     },
     "metadata": {},
     "output_type": "display_data"
    }
   ],
   "source": [
    "plt.plot(hist, label=\"Training loss\")\n",
    "plt.legend()\n",
    "plt.show()"
   ]
  },
  {
   "cell_type": "code",
   "execution_count": 22,
   "metadata": {},
   "outputs": [
    {
     "data": {
      "text/plain": [
       "torch.Size([13951, 1])"
      ]
     },
     "execution_count": 22,
     "metadata": {},
     "output_type": "execute_result"
    }
   ],
   "source": [
    "np.shape(y_train_pred)\n",
    "# y_train_pred"
   ]
  },
  {
   "cell_type": "code",
   "execution_count": 23,
   "metadata": {},
   "outputs": [
    {
     "name": "stdout",
     "output_type": "stream",
     "text": [
      "Train Score: 1.10 RMSE\n",
      "Test Score: 1.07 RMSE\n"
     ]
    }
   ],
   "source": [
    "# make predictions\n",
    "y_test_pred = model(x_test)\n",
    "\n",
    "# invert predictions\n",
    "y_train_pred = scaler.inverse_transform(y_train_pred.detach().numpy())\n",
    "y_train = scaler.inverse_transform(y_train.detach().numpy())\n",
    "y_test_pred = scaler.inverse_transform(y_test_pred.detach().numpy())\n",
    "y_test = scaler.inverse_transform(y_test.detach().numpy())\n",
    "\n",
    "# calculate root mean squared error\n",
    "trainScore = math.sqrt(mean_squared_error(y_train[:,0], y_train_pred[:,0]))\n",
    "print('Train Score: %.2f RMSE' % (trainScore))\n",
    "testScore = math.sqrt(mean_squared_error(y_test[:,0], y_test_pred[:,0]))\n",
    "print('Test Score: %.2f RMSE' % (testScore))"
   ]
  },
  {
   "cell_type": "code",
   "execution_count": 24,
   "metadata": {},
   "outputs": [
    {
     "data": {
      "image/png": "[encoded data removed]",
      "text/plain": [
       "<Figure size 1500x600 with 1 Axes>"
      ]
     },
     "metadata": {},
     "output_type": "display_data"
    }
   ],
   "source": [
    "# Visualising the results\n",
    "figure, axes = plt.subplots(figsize=(15, 6))\n",
    "axes.xaxis_date()\n",
    "\n",
    "axes.plot(df_sol[len(df_sol)-len(y_test):].index, y_test, color = 'red', label = 'Real SOL Stock Price')\n",
    "axes.plot(df_sol[len(df_sol)-len(y_test):].index, y_test_pred, color = 'blue', label = 'Predicted SOL Stock Price')\n",
    "#axes.xticks(np.arange(0,394,50))\n",
    "plt.title('SOL Stock Price Prediction')\n",
    "plt.xlabel('Time')\n",
    "plt.ylabel('SOL Stock Price')\n",
    "plt.legend()\n",
    "# plt.savefig('ibm_pred.png')\n",
    "plt.show()"
   ]
  }
 ],
 "metadata": {
  "kernelspec": {
   "display_name": "Python 3",
   "language": "python",
   "name": "python3"
  },
  "language_info": {
   "codemirror_mode": {
    "name": "ipython",
    "version": 3
   },
   "file_extension": ".py",
   "mimetype": "text/x-python",
   "name": "python",
   "nbconvert_exporter": "python",
   "pygments_lexer": "ipython3",
   "version": "3.10.13"
  }
 },
 "nbformat": 4,
 "nbformat_minor": 4
}
