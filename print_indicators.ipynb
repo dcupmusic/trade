{
 "cells": [
  {
   "cell_type": "code",
   "execution_count": null,
   "metadata": {},
   "outputs": [],
   "source": [
    "import numpy as np\n",
    "import pandas as pd \n",
    "from pylab import mpl, plt\n",
    "\n",
    "\n",
    "import warnings\n",
    "warnings.simplefilter(\"ignore\", UserWarning)\n"
   ]
  },
  {
   "cell_type": "code",
   "execution_count": null,
   "metadata": {},
   "outputs": [],
   "source": [
    "data = pd.read_csv('data/1ySOLdata1hAllHassInd.csv')\n",
    "data['timestamp'] = pd.to_datetime(data['timestamp'], unit='s')\n",
    "data.set_index('timestamp', inplace=True)\n",
    "pd.set_option('future.no_silent_downcasting', True)"
   ]
  },
  {
   "cell_type": "code",
   "execution_count": 8,
   "metadata": {},
   "outputs": [],
   "source": [
    "import json\n",
    "feature_names = [col for col in data.columns if col != 'Signal']\n",
    "\n",
    "# Save feature names to a JSON file\n",
    "with open('feature_names.json', 'w') as f:\n",
    "    json.dump(feature_names, f)"
   ]
  },
  {
   "cell_type": "code",
   "execution_count": 12,
   "metadata": {},
   "outputs": [
    {
     "name": "stdout",
     "output_type": "stream",
     "text": [
      "price='..price..'&\n",
      "Open='..Open..'&\n",
      "High='..High..'&\n",
      "Low='..Low..'&\n",
      "Close='..Close..'&\n",
      "Volume='..Volume..'&\n",
      "tema_12='..tema_12..'&\n",
      "abands_upper='..abands_upper..'&\n",
      "abands_middle='..abands_middle..'&\n",
      "abands_lower='..abands_lower..'&\n",
      "ad='..ad..'&\n",
      "adosc='..adosc..'&\n",
      "adx='..adx..'&\n",
      "adxr='..adxr..'&\n",
      "ao='..ao..'&\n",
      "apo='..apo..'&\n",
      "aroonosc='..aroonosc..'&\n",
      "atr='..atr..'&\n",
      "avgdev='..avgdev..'&\n",
      "avgprice='..avgprice..'&\n",
      "bbands_upper='..bbands_upper..'&\n",
      "bbands_middle='..bbands_middle..'&\n",
      "bbands_lower='..bbands_lower..'&\n",
      "bop='..bop..'&\n",
      "cci='..cci..'&\n",
      "chop='..chop..'&\n",
      "cmo='..cmo..'&\n",
      "coppock='..coppock..'&\n",
      "crsi='..crsi..'&\n",
      "dema='..dema..'&\n",
      "donchian_upper='..donchian_upper..'&\n",
      "donchian_middle='..donchian_middle..'&\n",
      "donchian_lower='..donchian_lower..'&\n",
      "dpo='..dpo..'&\n",
      "dx='..dx..'&\n",
      "ema='..ema..'&\n",
      "fastrsi='..fastrsi..'&\n",
      "ht_dcperiod='..ht_dcperiod..'&\n",
      "ht_dcphase='..ht_dcphase..'&\n",
      "ht_sine='..ht_sine..'&\n",
      "ht_trendline='..ht_trendline..'&\n",
      "ht_trendmode='..ht_trendmode..'&\n",
      "ichi='..ichi..'&\n",
      "imi='..imi..'&\n",
      "kama='..kama..'&\n",
      "keltner_upper='..keltner_upper..'&\n",
      "keltner_middle='..keltner_middle..'&\n",
      "keltner_lower='..keltner_lower..'&\n",
      "kri='..kri..'&\n",
      "kst='..kst..'&\n",
      "linearreg='..linearreg..'&\n",
      "macdfix_macd='..macdfix_macd..'&\n",
      "macdfix_signal='..macdfix_signal..'&\n",
      "macdfix_hist='..macdfix_hist..'&\n",
      "mama='..mama..'&\n",
      "mfi='..mfi..'&\n",
      "midprice='..midprice..'&\n",
      "minusdi='..minusdi..'&\n",
      "mom='..mom..'&\n",
      "natr='..natr..'&\n",
      "obv='..obv..'&\n",
      "plusdi='..plusdi..'&\n",
      "ppo='..ppo..'&\n",
      "rocp='..rocp..'&\n",
      "rsi='..rsi..'&\n",
      "sar='..sar..'&\n",
      "sma='..sma..'&\n",
      "stochf_fastK='..stochf_fastK..'&\n",
      "stochf_fastD='..stochf_fastD..'&\n",
      "stochrsi_fastK='..stochrsi_fastK..'&\n",
      "stochrsi_fastD='..stochrsi_fastD..'&\n",
      "t3='..t3..'&\n",
      "tema='..tema..'&\n",
      "trange='..trange..'&\n",
      "trima='..trima..'&\n",
      "trix='..trix..'&\n",
      "tsf='..tsf..'&\n",
      "tsi='..tsi..'&\n",
      "udrsi='..udrsi..'&\n",
      "ultosc='..ultosc..'&\n",
      "var='..var..'&\n",
      "willr='..willr..'&\n",
      "wws='..wws..'&\n",
      "zlma='..zlma..'&\n"
     ]
    }
   ],
   "source": [
    "for i in range(len(feature_names)):\n",
    "    print(f\"{feature_names[i]}='..{feature_names[i]}..'&\")"
   ]
  },
  {
   "cell_type": "code",
   "execution_count": null,
   "metadata": {},
   "outputs": [],
   "source": []
  }
 ],
 "metadata": {
  "kernelspec": {
   "display_name": "vectorbtpro",
   "language": "python",
   "name": "python3"
  },
  "language_info": {
   "codemirror_mode": {
    "name": "ipython",
    "version": 3
   },
   "file_extension": ".py",
   "mimetype": "text/x-python",
   "name": "python",
   "nbconvert_exporter": "python",
   "pygments_lexer": "ipython3",
   "version": "3.10.13"
  }
 },
 "nbformat": 4,
 "nbformat_minor": 2
}
