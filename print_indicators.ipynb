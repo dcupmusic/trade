{
 "cells": [
  {
   "cell_type": "code",
   "execution_count": null,
   "metadata": {},
   "outputs": [],
   "source": [
    "import numpy as np\n",
    "import pandas as pd \n",
    "from pylab import mpl, plt\n",
    "\n",
    "\n",
    "import warnings\n",
    "warnings.simplefilter(\"ignore\", UserWarning)\n"
   ]
  },
  {
   "cell_type": "code",
   "execution_count": null,
   "metadata": {},
   "outputs": [],
   "source": [
    "data = pd.read_csv('data/1ySOLdata1hAllHassInd.csv')\n",
    "data['timestamp'] = pd.to_datetime(data['timestamp'], unit='s')\n",
    "data.set_index('timestamp', inplace=True)\n",
    "pd.set_option('future.no_silent_downcasting', True)"
   ]
  },
  {
   "cell_type": "code",
   "execution_count": 8,
   "metadata": {},
   "outputs": [],
   "source": [
    "import json\n",
    "feature_names = [col for col in data.columns if col != 'Signal']\n",
    "\n",
    "# Save feature names to a JSON file\n",
    "with open('feature_names.json', 'w') as f:\n",
    "    json.dump(feature_names, f)"
   ]
  },
  {
   "cell_type": "code",
   "execution_count": 3,
   "metadata": {},
   "outputs": [],
   "source": [
    "best_features = [\"price\", \"Close\", \"Volume\", \"tema_12\", \"abands_upper\", \"abands_middle\", \"adxr\", \"ao\", \"apo\", \"aroonosc\", \"atr\", \"avgprice\", \"bbands_upper\", \"bbands_lower\", \"bop\", \"cci\", \"cmo\", \"dema\", \"dx\", \"fastrsi\", \"ht_trendline\", \"kama\", \"keltner_lower\", \"kri\", \"macdfix_hist\", \"minusdi\", \"stochf_fastD\", \"stochrsi_fastK\", \"stochrsi_fastD\", \"trange\", \"trix\", \"tsi\", \"udrsi\", \"willr\"]"
   ]
  },
  {
   "cell_type": "code",
   "execution_count": 4,
   "metadata": {},
   "outputs": [
    {
     "name": "stdout",
     "output_type": "stream",
     "text": [
      "price='..price..'&\n",
      "Close='..Close..'&\n",
      "Volume='..Volume..'&\n",
      "tema_12='..tema_12..'&\n",
      "abands_upper='..abands_upper..'&\n",
      "abands_middle='..abands_middle..'&\n",
      "adxr='..adxr..'&\n",
      "ao='..ao..'&\n",
      "apo='..apo..'&\n",
      "aroonosc='..aroonosc..'&\n",
      "atr='..atr..'&\n",
      "avgprice='..avgprice..'&\n",
      "bbands_upper='..bbands_upper..'&\n",
      "bbands_lower='..bbands_lower..'&\n",
      "bop='..bop..'&\n",
      "cci='..cci..'&\n",
      "cmo='..cmo..'&\n",
      "dema='..dema..'&\n",
      "dx='..dx..'&\n",
      "fastrsi='..fastrsi..'&\n",
      "ht_trendline='..ht_trendline..'&\n",
      "kama='..kama..'&\n",
      "keltner_lower='..keltner_lower..'&\n",
      "kri='..kri..'&\n",
      "macdfix_hist='..macdfix_hist..'&\n",
      "minusdi='..minusdi..'&\n",
      "stochf_fastD='..stochf_fastD..'&\n",
      "stochrsi_fastK='..stochrsi_fastK..'&\n",
      "stochrsi_fastD='..stochrsi_fastD..'&\n",
      "trange='..trange..'&\n",
      "trix='..trix..'&\n",
      "tsi='..tsi..'&\n",
      "udrsi='..udrsi..'&\n",
      "willr='..willr..'&\n"
     ]
    }
   ],
   "source": [
    "for i in range(len(best_features)):\n",
    "    print(f\"{best_features[i]}='..{best_features[i]}..'&\")"
   ]
  },
  {
   "cell_type": "code",
   "execution_count": null,
   "metadata": {},
   "outputs": [],
   "source": []
  }
 ],
 "metadata": {
  "kernelspec": {
   "display_name": "vectorbtpro",
   "language": "python",
   "name": "python3"
  },
  "language_info": {
   "codemirror_mode": {
    "name": "ipython",
    "version": 3
   },
   "file_extension": ".py",
   "mimetype": "text/x-python",
   "name": "python",
   "nbconvert_exporter": "python",
   "pygments_lexer": "ipython3",
   "version": "3.10.13"
  }
 },
 "nbformat": 4,
 "nbformat_minor": 2
}
